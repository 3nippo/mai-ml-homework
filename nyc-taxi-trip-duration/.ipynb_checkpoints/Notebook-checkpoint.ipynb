{
 "cells": [
  {
   "cell_type": "markdown",
   "metadata": {},
   "source": [
    "# Workflow"
   ]
  },
  {
   "cell_type": "code",
   "execution_count": 1,
   "metadata": {},
   "outputs": [],
   "source": [
    "%config Completer.use_jedi = False\n",
    "\n",
    "import pandas as pd\n",
    "import numpy as np\n",
    "import matplotlib.pyplot as plt\n",
    "\n",
    "from snippets import *\n",
    "import snippets"
   ]
  },
  {
   "cell_type": "code",
   "execution_count": 2,
   "metadata": {},
   "outputs": [],
   "source": [
    "train_df = pd.read_csv('train.csv')\n",
    "test_df = pd.read_csv('test.csv')"
   ]
  },
  {
   "cell_type": "code",
   "execution_count": 3,
   "metadata": {},
   "outputs": [],
   "source": [
    "def update():\n",
    "    global train_df, test_df\n",
    "    init(train_df, test_df)\n",
    "\n",
    "update()"
   ]
  },
  {
   "cell_type": "code",
   "execution_count": 4,
   "metadata": {},
   "outputs": [
    {
     "data": {
      "text/html": [
       "<div>\n",
       "<style scoped>\n",
       "    .dataframe tbody tr th:only-of-type {\n",
       "        vertical-align: middle;\n",
       "    }\n",
       "\n",
       "    .dataframe tbody tr th {\n",
       "        vertical-align: top;\n",
       "    }\n",
       "\n",
       "    .dataframe thead th {\n",
       "        text-align: right;\n",
       "    }\n",
       "</style>\n",
       "<table border=\"1\" class=\"dataframe\">\n",
       "  <thead>\n",
       "    <tr style=\"text-align: right;\">\n",
       "      <th></th>\n",
       "      <th>id</th>\n",
       "      <th>vendor_id</th>\n",
       "      <th>pickup_datetime</th>\n",
       "      <th>dropoff_datetime</th>\n",
       "      <th>passenger_count</th>\n",
       "      <th>pickup_longitude</th>\n",
       "      <th>pickup_latitude</th>\n",
       "      <th>dropoff_longitude</th>\n",
       "      <th>dropoff_latitude</th>\n",
       "      <th>store_and_fwd_flag</th>\n",
       "      <th>trip_duration</th>\n",
       "    </tr>\n",
       "  </thead>\n",
       "  <tbody>\n",
       "    <tr>\n",
       "      <th>0</th>\n",
       "      <td>id2875421</td>\n",
       "      <td>2</td>\n",
       "      <td>2016-03-14 17:24:55</td>\n",
       "      <td>2016-03-14 17:32:30</td>\n",
       "      <td>1</td>\n",
       "      <td>-73.982155</td>\n",
       "      <td>40.767937</td>\n",
       "      <td>-73.964630</td>\n",
       "      <td>40.765602</td>\n",
       "      <td>N</td>\n",
       "      <td>455</td>\n",
       "    </tr>\n",
       "    <tr>\n",
       "      <th>1</th>\n",
       "      <td>id2377394</td>\n",
       "      <td>1</td>\n",
       "      <td>2016-06-12 00:43:35</td>\n",
       "      <td>2016-06-12 00:54:38</td>\n",
       "      <td>1</td>\n",
       "      <td>-73.980415</td>\n",
       "      <td>40.738564</td>\n",
       "      <td>-73.999481</td>\n",
       "      <td>40.731152</td>\n",
       "      <td>N</td>\n",
       "      <td>663</td>\n",
       "    </tr>\n",
       "    <tr>\n",
       "      <th>2</th>\n",
       "      <td>id3858529</td>\n",
       "      <td>2</td>\n",
       "      <td>2016-01-19 11:35:24</td>\n",
       "      <td>2016-01-19 12:10:48</td>\n",
       "      <td>1</td>\n",
       "      <td>-73.979027</td>\n",
       "      <td>40.763939</td>\n",
       "      <td>-74.005333</td>\n",
       "      <td>40.710087</td>\n",
       "      <td>N</td>\n",
       "      <td>2124</td>\n",
       "    </tr>\n",
       "    <tr>\n",
       "      <th>3</th>\n",
       "      <td>id3504673</td>\n",
       "      <td>2</td>\n",
       "      <td>2016-04-06 19:32:31</td>\n",
       "      <td>2016-04-06 19:39:40</td>\n",
       "      <td>1</td>\n",
       "      <td>-74.010040</td>\n",
       "      <td>40.719971</td>\n",
       "      <td>-74.012268</td>\n",
       "      <td>40.706718</td>\n",
       "      <td>N</td>\n",
       "      <td>429</td>\n",
       "    </tr>\n",
       "    <tr>\n",
       "      <th>4</th>\n",
       "      <td>id2181028</td>\n",
       "      <td>2</td>\n",
       "      <td>2016-03-26 13:30:55</td>\n",
       "      <td>2016-03-26 13:38:10</td>\n",
       "      <td>1</td>\n",
       "      <td>-73.973053</td>\n",
       "      <td>40.793209</td>\n",
       "      <td>-73.972923</td>\n",
       "      <td>40.782520</td>\n",
       "      <td>N</td>\n",
       "      <td>435</td>\n",
       "    </tr>\n",
       "  </tbody>\n",
       "</table>\n",
       "</div>"
      ],
      "text/plain": [
       "          id  vendor_id      pickup_datetime     dropoff_datetime  \\\n",
       "0  id2875421          2  2016-03-14 17:24:55  2016-03-14 17:32:30   \n",
       "1  id2377394          1  2016-06-12 00:43:35  2016-06-12 00:54:38   \n",
       "2  id3858529          2  2016-01-19 11:35:24  2016-01-19 12:10:48   \n",
       "3  id3504673          2  2016-04-06 19:32:31  2016-04-06 19:39:40   \n",
       "4  id2181028          2  2016-03-26 13:30:55  2016-03-26 13:38:10   \n",
       "\n",
       "   passenger_count  pickup_longitude  pickup_latitude  dropoff_longitude  \\\n",
       "0                1        -73.982155        40.767937         -73.964630   \n",
       "1                1        -73.980415        40.738564         -73.999481   \n",
       "2                1        -73.979027        40.763939         -74.005333   \n",
       "3                1        -74.010040        40.719971         -74.012268   \n",
       "4                1        -73.973053        40.793209         -73.972923   \n",
       "\n",
       "   dropoff_latitude store_and_fwd_flag  trip_duration  \n",
       "0         40.765602                  N            455  \n",
       "1         40.731152                  N            663  \n",
       "2         40.710087                  N           2124  \n",
       "3         40.706718                  N            429  \n",
       "4         40.782520                  N            435  "
      ]
     },
     "execution_count": 4,
     "metadata": {},
     "output_type": "execute_result"
    }
   ],
   "source": [
    "train_df.head()"
   ]
  },
  {
   "cell_type": "code",
   "execution_count": 5,
   "metadata": {},
   "outputs": [],
   "source": [
    "target = 'trip_duration'\n",
    "snippets.target = target"
   ]
  },
  {
   "cell_type": "code",
   "execution_count": 6,
   "metadata": {},
   "outputs": [
    {
     "data": {
      "text/plain": [
       "id                    0\n",
       "vendor_id             0\n",
       "pickup_datetime       0\n",
       "dropoff_datetime      0\n",
       "passenger_count       0\n",
       "pickup_longitude      0\n",
       "pickup_latitude       0\n",
       "dropoff_longitude     0\n",
       "dropoff_latitude      0\n",
       "store_and_fwd_flag    0\n",
       "trip_duration         0\n",
       "dtype: int64"
      ]
     },
     "execution_count": 6,
     "metadata": {},
     "output_type": "execute_result"
    }
   ],
   "source": [
    "train_df.isnull().sum()"
   ]
  },
  {
   "cell_type": "code",
   "execution_count": 7,
   "metadata": {},
   "outputs": [
    {
     "data": {
      "text/plain": [
       "id                    0\n",
       "vendor_id             0\n",
       "pickup_datetime       0\n",
       "passenger_count       0\n",
       "pickup_longitude      0\n",
       "pickup_latitude       0\n",
       "dropoff_longitude     0\n",
       "dropoff_latitude      0\n",
       "store_and_fwd_flag    0\n",
       "dtype: int64"
      ]
     },
     "execution_count": 7,
     "metadata": {},
     "output_type": "execute_result"
    }
   ],
   "source": [
    "test_df.isnull().sum()"
   ]
  },
  {
   "cell_type": "code",
   "execution_count": 8,
   "metadata": {},
   "outputs": [],
   "source": [
    "drop_column('id')"
   ]
  },
  {
   "cell_type": "code",
   "execution_count": 9,
   "metadata": {},
   "outputs": [],
   "source": [
    "col_gen = (col for col in test_df.columns.to_list())\n",
    "\n",
    "def next_col():\n",
    "    global curr_col\n",
    "    curr_col = next(col_gen)\n",
    "    snippets.curr_col = curr_col\n",
    "    return curr_col"
   ]
  },
  {
   "cell_type": "code",
   "execution_count": 10,
   "metadata": {},
   "outputs": [
    {
     "data": {
      "text/plain": [
       "'vendor_id'"
      ]
     },
     "execution_count": 10,
     "metadata": {},
     "output_type": "execute_result"
    }
   ],
   "source": [
    "next_col()"
   ]
  },
  {
   "cell_type": "markdown",
   "metadata": {},
   "source": [
    "vendor_id - a code indicating the provider associated with the trip record"
   ]
  },
  {
   "cell_type": "code",
   "execution_count": 11,
   "metadata": {},
   "outputs": [
    {
     "name": "stdout",
     "output_type": "stream",
     "text": [
      "Column: vendor_id\n",
      "Train dataset uniques: [2 1]\n",
      "Test dataset uniques: [1 2]\n",
      "Train has NaNs: 0\n",
      "Test has NaNs: 0\n"
     ]
    }
   ],
   "source": [
    "describe()"
   ]
  },
  {
   "cell_type": "code",
   "execution_count": 12,
   "metadata": {},
   "outputs": [
    {
     "data": {
      "text/plain": [
       "<matplotlib.axes._subplots.AxesSubplot at 0x7f5d78931cd0>"
      ]
     },
     "execution_count": 12,
     "metadata": {},
     "output_type": "execute_result"
    },
    {
     "data": {
      "image/png": "[encoded data removed]",
      "text/plain": [
       "<Figure size 432x288 with 1 Axes>"
      ]
     },
     "metadata": {
      "needs_background": "light"
     },
     "output_type": "display_data"
    }
   ],
   "source": [
    "sns.barplot(\n",
    "    x=curr_col,\n",
    "    y=target,\n",
    "    data=train_df\n",
    ")"
   ]
  },
  {
   "cell_type": "code",
   "execution_count": 13,
   "metadata": {},
   "outputs": [
    {
     "data": {
      "text/plain": [
       "<matplotlib.axes._subplots.AxesSubplot at 0x7f5d74c0f8d0>"
      ]
     },
     "execution_count": 13,
     "metadata": {},
     "output_type": "execute_result"
    },
    {
     "data": {
      "image/png": "[encoded data removed]",
      "text/plain": [
       "<Figure size 432x288 with 1 Axes>"
      ]
     },
     "metadata": {
      "needs_background": "light"
     },
     "output_type": "display_data"
    }
   ],
   "source": [
    "mask = train_df[target] < 2*60**2\n",
    "sns.kdeplot(train_df[mask & train_df[curr_col] == 1][target])\n",
    "sns.kdeplot(train_df[mask & train_df[curr_col] == 2][target])"
   ]
  },
  {
   "cell_type": "code",
   "execution_count": 14,
   "metadata": {},
   "outputs": [],
   "source": [
    "le_column()"
   ]
  },
  {
   "cell_type": "code",
   "execution_count": 15,
   "metadata": {},
   "outputs": [
    {
     "data": {
      "text/plain": [
       "'pickup_datetime'"
      ]
     },
     "execution_count": 15,
     "metadata": {},
     "output_type": "execute_result"
    }
   ],
   "source": [
    "next_col()"
   ]
  },
  {
   "cell_type": "markdown",
   "metadata": {},
   "source": [
    "Anything here can affect target -- day of week, national/city celebration day, hour of the day etc."
   ]
  },
  {
   "cell_type": "code",
   "execution_count": 16,
   "metadata": {},
   "outputs": [],
   "source": [
    "def to_datetime():\n",
    "    global train_df, test_df\n",
    "    global curr_col\n",
    "    \n",
    "    for df in train_df, test_df:\n",
    "        df[curr_col] = pd.to_datetime(df[curr_col])\n",
    "        \n",
    "to_datetime()"
   ]
  },
  {
   "cell_type": "code",
   "execution_count": 17,
   "metadata": {},
   "outputs": [
    {
     "data": {
      "text/plain": [
       "0         2016-03-14 17:24:55\n",
       "1         2016-06-12 00:43:35\n",
       "2         2016-01-19 11:35:24\n",
       "3         2016-04-06 19:32:31\n",
       "4         2016-03-26 13:30:55\n",
       "                  ...        \n",
       "1458639   2016-04-08 13:31:04\n",
       "1458640   2016-01-10 07:35:15\n",
       "1458641   2016-04-22 06:57:41\n",
       "1458642   2016-01-05 15:56:26\n",
       "1458643   2016-04-05 14:44:25\n",
       "Name: pickup_datetime, Length: 1458644, dtype: datetime64[ns]"
      ]
     },
     "execution_count": 17,
     "metadata": {},
     "output_type": "execute_result"
    }
   ],
   "source": [
    "train_df[curr_col]"
   ]
  },
  {
   "cell_type": "code",
   "execution_count": 18,
   "metadata": {},
   "outputs": [],
   "source": [
    "train_df.set_index(curr_col, inplace=True)"
   ]
  },
  {
   "cell_type": "code",
   "execution_count": 19,
   "metadata": {},
   "outputs": [
    {
     "data": {
      "text/plain": [
       "array([3526282, 2227612, 2049578, 1939736,   86392,   86391,   86390,\n",
       "         86387,   86385,   86379,   86378,   86377,   86369,   86367,\n",
       "         86366,   86365,   86364,   86363,   86362,   86361,   86360,\n",
       "         86358,   86357,   86356,   86355,   86354,   86353,   86352,\n",
       "         86351,   86350,   86349,   86348,   86347,   86346,   86345,\n",
       "         86344,   86343,   86342,   86341,   86340,   86339,   86338,\n",
       "         86337,   86336,   86335,   86334,   86333,   86332,   86331,\n",
       "         86330])"
      ]
     },
     "execution_count": 19,
     "metadata": {},
     "output_type": "execute_result"
    }
   ],
   "source": [
    "uniques = train_df[target].unique()\n",
    "top10_indexes = uniques.argsort()[-50:][::-1]\n",
    "uniques[top10_indexes]"
   ]
  },
  {
   "cell_type": "code",
   "execution_count": 20,
   "metadata": {},
   "outputs": [
    {
     "data": {
      "text/plain": [
       "23.997777777777777"
      ]
     },
     "execution_count": 20,
     "metadata": {},
     "output_type": "execute_result"
    }
   ],
   "source": [
    "86392 / 60**2"
   ]
  },
  {
   "cell_type": "markdown",
   "metadata": {},
   "source": [
    "24 hour trips?..."
   ]
  },
  {
   "cell_type": "code",
   "execution_count": 21,
   "metadata": {},
   "outputs": [
    {
     "data": {
      "text/plain": [
       "(1458644, 9)"
      ]
     },
     "execution_count": 21,
     "metadata": {},
     "output_type": "execute_result"
    }
   ],
   "source": [
    "train_df.shape"
   ]
  },
  {
   "cell_type": "code",
   "execution_count": 22,
   "metadata": {},
   "outputs": [
    {
     "data": {
      "text/plain": [
       "pickup_datetime\n",
       "2016-02-20 04:03:06    84594\n",
       "2016-05-07 18:36:22    86149\n",
       "2016-06-07 12:58:48    86352\n",
       "2016-02-13 00:21:49    86236\n",
       "2016-03-18 11:54:20    85197\n",
       "                       ...  \n",
       "2016-06-23 16:04:53    86200\n",
       "2016-02-08 19:11:31    86233\n",
       "2016-06-08 16:29:12    85311\n",
       "2016-02-02 11:31:10    86314\n",
       "2016-04-24 00:58:34    86262\n",
       "Name: trip_duration, Length: 1843, dtype: int64"
      ]
     },
     "execution_count": 22,
     "metadata": {},
     "output_type": "execute_result"
    }
   ],
   "source": [
    "train_df[train_df[target] > 23*60**2][target]"
   ]
  },
  {
   "cell_type": "code",
   "execution_count": 23,
   "metadata": {},
   "outputs": [
    {
     "data": {
      "text/plain": [
       "pickup_datetime\n",
       "2016-01-05 00:19:42    1939736\n",
       "2016-02-13 22:38:00    2049578\n",
       "2016-01-05 06:14:15    2227612\n",
       "2016-02-13 22:46:52    3526282\n",
       "Name: trip_duration, dtype: int64"
      ]
     },
     "execution_count": 23,
     "metadata": {},
     "output_type": "execute_result"
    }
   ],
   "source": [
    "train_df[train_df[target] > 24*60**2][target]"
   ]
  },
  {
   "cell_type": "code",
   "execution_count": 24,
   "metadata": {},
   "outputs": [],
   "source": [
    "train_df = train_df[train_df[target] <= 24*60**2]\n",
    "update()"
   ]
  },
  {
   "cell_type": "code",
   "execution_count": 25,
   "metadata": {},
   "outputs": [
    {
     "data": {
      "text/html": [
       "<div>\n",
       "<style scoped>\n",
       "    .dataframe tbody tr th:only-of-type {\n",
       "        vertical-align: middle;\n",
       "    }\n",
       "\n",
       "    .dataframe tbody tr th {\n",
       "        vertical-align: top;\n",
       "    }\n",
       "\n",
       "    .dataframe thead th {\n",
       "        text-align: right;\n",
       "    }\n",
       "</style>\n",
       "<table border=\"1\" class=\"dataframe\">\n",
       "  <thead>\n",
       "    <tr style=\"text-align: right;\">\n",
       "      <th></th>\n",
       "      <th>vendor_id</th>\n",
       "      <th>dropoff_datetime</th>\n",
       "      <th>passenger_count</th>\n",
       "      <th>pickup_longitude</th>\n",
       "      <th>pickup_latitude</th>\n",
       "      <th>dropoff_longitude</th>\n",
       "      <th>dropoff_latitude</th>\n",
       "      <th>store_and_fwd_flag</th>\n",
       "      <th>trip_duration</th>\n",
       "    </tr>\n",
       "    <tr>\n",
       "      <th>pickup_datetime</th>\n",
       "      <th></th>\n",
       "      <th></th>\n",
       "      <th></th>\n",
       "      <th></th>\n",
       "      <th></th>\n",
       "      <th></th>\n",
       "      <th></th>\n",
       "      <th></th>\n",
       "      <th></th>\n",
       "    </tr>\n",
       "  </thead>\n",
       "  <tbody>\n",
       "    <tr>\n",
       "      <th>2016-03-14 17:24:55</th>\n",
       "      <td>1</td>\n",
       "      <td>2016-03-14 17:32:30</td>\n",
       "      <td>1</td>\n",
       "      <td>-73.982155</td>\n",
       "      <td>40.767937</td>\n",
       "      <td>-73.964630</td>\n",
       "      <td>40.765602</td>\n",
       "      <td>N</td>\n",
       "      <td>455</td>\n",
       "    </tr>\n",
       "    <tr>\n",
       "      <th>2016-06-12 00:43:35</th>\n",
       "      <td>0</td>\n",
       "      <td>2016-06-12 00:54:38</td>\n",
       "      <td>1</td>\n",
       "      <td>-73.980415</td>\n",
       "      <td>40.738564</td>\n",
       "      <td>-73.999481</td>\n",
       "      <td>40.731152</td>\n",
       "      <td>N</td>\n",
       "      <td>663</td>\n",
       "    </tr>\n",
       "    <tr>\n",
       "      <th>2016-01-19 11:35:24</th>\n",
       "      <td>1</td>\n",
       "      <td>2016-01-19 12:10:48</td>\n",
       "      <td>1</td>\n",
       "      <td>-73.979027</td>\n",
       "      <td>40.763939</td>\n",
       "      <td>-74.005333</td>\n",
       "      <td>40.710087</td>\n",
       "      <td>N</td>\n",
       "      <td>2124</td>\n",
       "    </tr>\n",
       "    <tr>\n",
       "      <th>2016-04-06 19:32:31</th>\n",
       "      <td>1</td>\n",
       "      <td>2016-04-06 19:39:40</td>\n",
       "      <td>1</td>\n",
       "      <td>-74.010040</td>\n",
       "      <td>40.719971</td>\n",
       "      <td>-74.012268</td>\n",
       "      <td>40.706718</td>\n",
       "      <td>N</td>\n",
       "      <td>429</td>\n",
       "    </tr>\n",
       "    <tr>\n",
       "      <th>2016-03-26 13:30:55</th>\n",
       "      <td>1</td>\n",
       "      <td>2016-03-26 13:38:10</td>\n",
       "      <td>1</td>\n",
       "      <td>-73.973053</td>\n",
       "      <td>40.793209</td>\n",
       "      <td>-73.972923</td>\n",
       "      <td>40.782520</td>\n",
       "      <td>N</td>\n",
       "      <td>435</td>\n",
       "    </tr>\n",
       "    <tr>\n",
       "      <th>...</th>\n",
       "      <td>...</td>\n",
       "      <td>...</td>\n",
       "      <td>...</td>\n",
       "      <td>...</td>\n",
       "      <td>...</td>\n",
       "      <td>...</td>\n",
       "      <td>...</td>\n",
       "      <td>...</td>\n",
       "      <td>...</td>\n",
       "    </tr>\n",
       "    <tr>\n",
       "      <th>2016-04-08 13:31:04</th>\n",
       "      <td>1</td>\n",
       "      <td>2016-04-08 13:44:02</td>\n",
       "      <td>4</td>\n",
       "      <td>-73.982201</td>\n",
       "      <td>40.745522</td>\n",
       "      <td>-73.994911</td>\n",
       "      <td>40.740170</td>\n",
       "      <td>N</td>\n",
       "      <td>778</td>\n",
       "    </tr>\n",
       "    <tr>\n",
       "      <th>2016-01-10 07:35:15</th>\n",
       "      <td>0</td>\n",
       "      <td>2016-01-10 07:46:10</td>\n",
       "      <td>1</td>\n",
       "      <td>-74.000946</td>\n",
       "      <td>40.747379</td>\n",
       "      <td>-73.970184</td>\n",
       "      <td>40.796547</td>\n",
       "      <td>N</td>\n",
       "      <td>655</td>\n",
       "    </tr>\n",
       "    <tr>\n",
       "      <th>2016-04-22 06:57:41</th>\n",
       "      <td>1</td>\n",
       "      <td>2016-04-22 07:10:25</td>\n",
       "      <td>1</td>\n",
       "      <td>-73.959129</td>\n",
       "      <td>40.768799</td>\n",
       "      <td>-74.004433</td>\n",
       "      <td>40.707371</td>\n",
       "      <td>N</td>\n",
       "      <td>764</td>\n",
       "    </tr>\n",
       "    <tr>\n",
       "      <th>2016-01-05 15:56:26</th>\n",
       "      <td>0</td>\n",
       "      <td>2016-01-05 16:02:39</td>\n",
       "      <td>1</td>\n",
       "      <td>-73.982079</td>\n",
       "      <td>40.749062</td>\n",
       "      <td>-73.974632</td>\n",
       "      <td>40.757107</td>\n",
       "      <td>N</td>\n",
       "      <td>373</td>\n",
       "    </tr>\n",
       "    <tr>\n",
       "      <th>2016-04-05 14:44:25</th>\n",
       "      <td>0</td>\n",
       "      <td>2016-04-05 14:47:43</td>\n",
       "      <td>1</td>\n",
       "      <td>-73.979538</td>\n",
       "      <td>40.781750</td>\n",
       "      <td>-73.972809</td>\n",
       "      <td>40.790585</td>\n",
       "      <td>N</td>\n",
       "      <td>198</td>\n",
       "    </tr>\n",
       "  </tbody>\n",
       "</table>\n",
       "<p>1458640 rows × 9 columns</p>\n",
       "</div>"
      ],
      "text/plain": [
       "                     vendor_id     dropoff_datetime  passenger_count  \\\n",
       "pickup_datetime                                                        \n",
       "2016-03-14 17:24:55          1  2016-03-14 17:32:30                1   \n",
       "2016-06-12 00:43:35          0  2016-06-12 00:54:38                1   \n",
       "2016-01-19 11:35:24          1  2016-01-19 12:10:48                1   \n",
       "2016-04-06 19:32:31          1  2016-04-06 19:39:40                1   \n",
       "2016-03-26 13:30:55          1  2016-03-26 13:38:10                1   \n",
       "...                        ...                  ...              ...   \n",
       "2016-04-08 13:31:04          1  2016-04-08 13:44:02                4   \n",
       "2016-01-10 07:35:15          0  2016-01-10 07:46:10                1   \n",
       "2016-04-22 06:57:41          1  2016-04-22 07:10:25                1   \n",
       "2016-01-05 15:56:26          0  2016-01-05 16:02:39                1   \n",
       "2016-04-05 14:44:25          0  2016-04-05 14:47:43                1   \n",
       "\n",
       "                     pickup_longitude  pickup_latitude  dropoff_longitude  \\\n",
       "pickup_datetime                                                             \n",
       "2016-03-14 17:24:55        -73.982155        40.767937         -73.964630   \n",
       "2016-06-12 00:43:35        -73.980415        40.738564         -73.999481   \n",
       "2016-01-19 11:35:24        -73.979027        40.763939         -74.005333   \n",
       "2016-04-06 19:32:31        -74.010040        40.719971         -74.012268   \n",
       "2016-03-26 13:30:55        -73.973053        40.793209         -73.972923   \n",
       "...                               ...              ...                ...   \n",
       "2016-04-08 13:31:04        -73.982201        40.745522         -73.994911   \n",
       "2016-01-10 07:35:15        -74.000946        40.747379         -73.970184   \n",
       "2016-04-22 06:57:41        -73.959129        40.768799         -74.004433   \n",
       "2016-01-05 15:56:26        -73.982079        40.749062         -73.974632   \n",
       "2016-04-05 14:44:25        -73.979538        40.781750         -73.972809   \n",
       "\n",
       "                     dropoff_latitude store_and_fwd_flag  trip_duration  \n",
       "pickup_datetime                                                          \n",
       "2016-03-14 17:24:55         40.765602                  N            455  \n",
       "2016-06-12 00:43:35         40.731152                  N            663  \n",
       "2016-01-19 11:35:24         40.710087                  N           2124  \n",
       "2016-04-06 19:32:31         40.706718                  N            429  \n",
       "2016-03-26 13:30:55         40.782520                  N            435  \n",
       "...                               ...                ...            ...  \n",
       "2016-04-08 13:31:04         40.740170                  N            778  \n",
       "2016-01-10 07:35:15         40.796547                  N            655  \n",
       "2016-04-22 06:57:41         40.707371                  N            764  \n",
       "2016-01-05 15:56:26         40.757107                  N            373  \n",
       "2016-04-05 14:44:25         40.790585                  N            198  \n",
       "\n",
       "[1458640 rows x 9 columns]"
      ]
     },
     "execution_count": 25,
     "metadata": {},
     "output_type": "execute_result"
    }
   ],
   "source": [
    "train_df"
   ]
  },
  {
   "cell_type": "code",
   "execution_count": 26,
   "metadata": {},
   "outputs": [
    {
     "data": {
      "text/plain": [
       "<matplotlib.axes._subplots.AxesSubplot at 0x7f5d5d851150>"
      ]
     },
     "execution_count": 26,
     "metadata": {},
     "output_type": "execute_result"
    },
    {
     "data": {
      "image/png": "[encoded data removed]",
      "text/plain": [
       "<Figure size 432x288 with 1 Axes>"
      ]
     },
     "metadata": {
      "needs_background": "light"
     },
     "output_type": "display_data"
    }
   ],
   "source": [
    "sns.distplot(train_df[target])"
   ]
  },
  {
   "cell_type": "code",
   "execution_count": 27,
   "metadata": {},
   "outputs": [
    {
     "data": {
      "text/plain": [
       "<matplotlib.axes._subplots.AxesSubplot at 0x7f5d5f88ab50>"
      ]
     },
     "execution_count": 27,
     "metadata": {},
     "output_type": "execute_result"
    },
    {
     "data": {
      "image/png": "[encoded data removed]",
      "text/plain": [
       "<Figure size 432x288 with 1 Axes>"
      ]
     },
     "metadata": {
      "needs_background": "light"
     },
     "output_type": "display_data"
    }
   ],
   "source": [
    "sns.distplot(\n",
    "    train_df[train_df[target] <= 2*60**2][target]\n",
    ")"
   ]
  },
  {
   "cell_type": "code",
   "execution_count": 28,
   "metadata": {},
   "outputs": [
    {
     "data": {
      "text/plain": [
       "<matplotlib.axes._subplots.AxesSubplot at 0x7f5d7aeb2750>"
      ]
     },
     "execution_count": 28,
     "metadata": {},
     "output_type": "execute_result"
    },
    {
     "data": {
      "image/png": "[encoded data removed]",
      "text/plain": [
       "<Figure size 432x288 with 1 Axes>"
      ]
     },
     "metadata": {
      "needs_background": "light"
     },
     "output_type": "display_data"
    }
   ],
   "source": [
    "sns.distplot(\n",
    "    train_df[train_df[target] > 2*60**2][target]\n",
    ")"
   ]
  },
  {
   "cell_type": "code",
   "execution_count": 29,
   "metadata": {},
   "outputs": [
    {
     "data": {
      "text/plain": [
       "<matplotlib.axes._subplots.AxesSubplot at 0x7f5d5e6985d0>"
      ]
     },
     "execution_count": 29,
     "metadata": {},
     "output_type": "execute_result"
    },
    {
     "data": {
      "image/png": "[encoded data removed]",
      "text/plain": [
       "<Figure size 1080x504 with 1 Axes>"
      ]
     },
     "metadata": {
      "needs_background": "light"
     },
     "output_type": "display_data"
    }
   ],
   "source": [
    "train_df[train_df[target] <= 2*60**2][target].plot(figsize=(15,7))"
   ]
  },
  {
   "cell_type": "code",
   "execution_count": 30,
   "metadata": {},
   "outputs": [
    {
     "data": {
      "text/plain": [
       "datetime.datetime(1999, 12, 6, 0, 0)"
      ]
     },
     "execution_count": 30,
     "metadata": {},
     "output_type": "execute_result"
    }
   ],
   "source": [
    "import datetime\n",
    "\n",
    "datetime.datetime(1999, 12, 6)"
   ]
  },
  {
   "cell_type": "code",
   "execution_count": 31,
   "metadata": {},
   "outputs": [],
   "source": [
    "import datetime\n",
    "\n",
    "def datetime_extract():\n",
    "    global train_df, test_df\n",
    "    global curr_col\n",
    "    \n",
    "    for df in train_df, test_df:\n",
    "        df[curr_col + '_year'] = df[curr_col].apply(lambda x: x.year)\n",
    "        df[curr_col + '_month'] = df[curr_col].apply(lambda x: x.month)\n",
    "        df[curr_col + '_day'] = df[curr_col].apply(lambda x: x.day)\n",
    "        df[curr_col + '_hour'] = df[curr_col].apply(lambda x: x.hour)\n",
    "        df[curr_col + '_day_of_week'] = df[curr_col].apply(lambda x: x.weekday())\n",
    "        df[curr_col + '_is_weekend'] = df[curr_col + '_day_of_week'] > 4\n",
    "        df[curr_col + '_day_of_year'] = df[curr_col].apply(\n",
    "            lambda x: (x - datetime.datetime(x.year, 1, 1)).days + 1\n",
    "        )"
   ]
  },
  {
   "cell_type": "code",
   "execution_count": 32,
   "metadata": {},
   "outputs": [],
   "source": [
    "train_df.reset_index(inplace=True)"
   ]
  },
  {
   "cell_type": "code",
   "execution_count": 33,
   "metadata": {},
   "outputs": [],
   "source": [
    "datetime_extract()"
   ]
  },
  {
   "cell_type": "code",
   "execution_count": 34,
   "metadata": {},
   "outputs": [
    {
     "data": {
      "text/html": [
       "<div>\n",
       "<style scoped>\n",
       "    .dataframe tbody tr th:only-of-type {\n",
       "        vertical-align: middle;\n",
       "    }\n",
       "\n",
       "    .dataframe tbody tr th {\n",
       "        vertical-align: top;\n",
       "    }\n",
       "\n",
       "    .dataframe thead th {\n",
       "        text-align: right;\n",
       "    }\n",
       "</style>\n",
       "<table border=\"1\" class=\"dataframe\">\n",
       "  <thead>\n",
       "    <tr style=\"text-align: right;\">\n",
       "      <th></th>\n",
       "      <th>pickup_datetime_year</th>\n",
       "      <th>pickup_datetime_month</th>\n",
       "      <th>pickup_datetime_day</th>\n",
       "      <th>pickup_datetime_hour</th>\n",
       "      <th>pickup_datetime_day_of_week</th>\n",
       "      <th>pickup_datetime_is_weekend</th>\n",
       "      <th>pickup_datetime_day_of_year</th>\n",
       "    </tr>\n",
       "  </thead>\n",
       "  <tbody>\n",
       "    <tr>\n",
       "      <th>0</th>\n",
       "      <td>2016</td>\n",
       "      <td>3</td>\n",
       "      <td>14</td>\n",
       "      <td>17</td>\n",
       "      <td>0</td>\n",
       "      <td>False</td>\n",
       "      <td>74</td>\n",
       "    </tr>\n",
       "    <tr>\n",
       "      <th>1</th>\n",
       "      <td>2016</td>\n",
       "      <td>6</td>\n",
       "      <td>12</td>\n",
       "      <td>0</td>\n",
       "      <td>6</td>\n",
       "      <td>True</td>\n",
       "      <td>164</td>\n",
       "    </tr>\n",
       "    <tr>\n",
       "      <th>2</th>\n",
       "      <td>2016</td>\n",
       "      <td>1</td>\n",
       "      <td>19</td>\n",
       "      <td>11</td>\n",
       "      <td>1</td>\n",
       "      <td>False</td>\n",
       "      <td>19</td>\n",
       "    </tr>\n",
       "    <tr>\n",
       "      <th>3</th>\n",
       "      <td>2016</td>\n",
       "      <td>4</td>\n",
       "      <td>6</td>\n",
       "      <td>19</td>\n",
       "      <td>2</td>\n",
       "      <td>False</td>\n",
       "      <td>97</td>\n",
       "    </tr>\n",
       "    <tr>\n",
       "      <th>4</th>\n",
       "      <td>2016</td>\n",
       "      <td>3</td>\n",
       "      <td>26</td>\n",
       "      <td>13</td>\n",
       "      <td>5</td>\n",
       "      <td>True</td>\n",
       "      <td>86</td>\n",
       "    </tr>\n",
       "    <tr>\n",
       "      <th>...</th>\n",
       "      <td>...</td>\n",
       "      <td>...</td>\n",
       "      <td>...</td>\n",
       "      <td>...</td>\n",
       "      <td>...</td>\n",
       "      <td>...</td>\n",
       "      <td>...</td>\n",
       "    </tr>\n",
       "    <tr>\n",
       "      <th>1458635</th>\n",
       "      <td>2016</td>\n",
       "      <td>4</td>\n",
       "      <td>8</td>\n",
       "      <td>13</td>\n",
       "      <td>4</td>\n",
       "      <td>False</td>\n",
       "      <td>99</td>\n",
       "    </tr>\n",
       "    <tr>\n",
       "      <th>1458636</th>\n",
       "      <td>2016</td>\n",
       "      <td>1</td>\n",
       "      <td>10</td>\n",
       "      <td>7</td>\n",
       "      <td>6</td>\n",
       "      <td>True</td>\n",
       "      <td>10</td>\n",
       "    </tr>\n",
       "    <tr>\n",
       "      <th>1458637</th>\n",
       "      <td>2016</td>\n",
       "      <td>4</td>\n",
       "      <td>22</td>\n",
       "      <td>6</td>\n",
       "      <td>4</td>\n",
       "      <td>False</td>\n",
       "      <td>113</td>\n",
       "    </tr>\n",
       "    <tr>\n",
       "      <th>1458638</th>\n",
       "      <td>2016</td>\n",
       "      <td>1</td>\n",
       "      <td>5</td>\n",
       "      <td>15</td>\n",
       "      <td>1</td>\n",
       "      <td>False</td>\n",
       "      <td>5</td>\n",
       "    </tr>\n",
       "    <tr>\n",
       "      <th>1458639</th>\n",
       "      <td>2016</td>\n",
       "      <td>4</td>\n",
       "      <td>5</td>\n",
       "      <td>14</td>\n",
       "      <td>1</td>\n",
       "      <td>False</td>\n",
       "      <td>96</td>\n",
       "    </tr>\n",
       "  </tbody>\n",
       "</table>\n",
       "<p>1458640 rows × 7 columns</p>\n",
       "</div>"
      ],
      "text/plain": [
       "         pickup_datetime_year  pickup_datetime_month  pickup_datetime_day  \\\n",
       "0                        2016                      3                   14   \n",
       "1                        2016                      6                   12   \n",
       "2                        2016                      1                   19   \n",
       "3                        2016                      4                    6   \n",
       "4                        2016                      3                   26   \n",
       "...                       ...                    ...                  ...   \n",
       "1458635                  2016                      4                    8   \n",
       "1458636                  2016                      1                   10   \n",
       "1458637                  2016                      4                   22   \n",
       "1458638                  2016                      1                    5   \n",
       "1458639                  2016                      4                    5   \n",
       "\n",
       "         pickup_datetime_hour  pickup_datetime_day_of_week  \\\n",
       "0                          17                            0   \n",
       "1                           0                            6   \n",
       "2                          11                            1   \n",
       "3                          19                            2   \n",
       "4                          13                            5   \n",
       "...                       ...                          ...   \n",
       "1458635                    13                            4   \n",
       "1458636                     7                            6   \n",
       "1458637                     6                            4   \n",
       "1458638                    15                            1   \n",
       "1458639                    14                            1   \n",
       "\n",
       "         pickup_datetime_is_weekend  pickup_datetime_day_of_year  \n",
       "0                             False                           74  \n",
       "1                              True                          164  \n",
       "2                             False                           19  \n",
       "3                             False                           97  \n",
       "4                              True                           86  \n",
       "...                             ...                          ...  \n",
       "1458635                       False                           99  \n",
       "1458636                        True                           10  \n",
       "1458637                       False                          113  \n",
       "1458638                       False                            5  \n",
       "1458639                       False                           96  \n",
       "\n",
       "[1458640 rows x 7 columns]"
      ]
     },
     "execution_count": 34,
     "metadata": {},
     "output_type": "execute_result"
    }
   ],
   "source": [
    "train_df.iloc[:, -7:]"
   ]
  },
  {
   "cell_type": "code",
   "execution_count": 35,
   "metadata": {},
   "outputs": [
    {
     "name": "stdout",
     "output_type": "stream",
     "text": [
      "Column: pickup_datetime_year\n",
      "Train dataset uniques: [2016]\n",
      "Test dataset uniques: [2016]\n",
      "Train has NaNs: 0\n",
      "Test has NaNs: 0\n"
     ]
    }
   ],
   "source": [
    "describe('pickup_datetime_year')"
   ]
  },
  {
   "cell_type": "code",
   "execution_count": 36,
   "metadata": {},
   "outputs": [],
   "source": [
    "drop_column('pickup_datetime_year')"
   ]
  },
  {
   "cell_type": "code",
   "execution_count": 37,
   "metadata": {},
   "outputs": [
    {
     "data": {
      "text/html": [
       "<div>\n",
       "<style scoped>\n",
       "    .dataframe tbody tr th:only-of-type {\n",
       "        vertical-align: middle;\n",
       "    }\n",
       "\n",
       "    .dataframe tbody tr th {\n",
       "        vertical-align: top;\n",
       "    }\n",
       "\n",
       "    .dataframe thead th {\n",
       "        text-align: right;\n",
       "    }\n",
       "</style>\n",
       "<table border=\"1\" class=\"dataframe\">\n",
       "  <thead>\n",
       "    <tr style=\"text-align: right;\">\n",
       "      <th></th>\n",
       "      <th>trip_duration</th>\n",
       "      <th>pickup_datetime_month</th>\n",
       "      <th>pickup_datetime_day</th>\n",
       "      <th>pickup_datetime_hour</th>\n",
       "      <th>pickup_datetime_day_of_week</th>\n",
       "      <th>pickup_datetime_is_weekend</th>\n",
       "      <th>pickup_datetime_day_of_year</th>\n",
       "    </tr>\n",
       "  </thead>\n",
       "  <tbody>\n",
       "    <tr>\n",
       "      <th>0</th>\n",
       "      <td>455</td>\n",
       "      <td>3</td>\n",
       "      <td>14</td>\n",
       "      <td>17</td>\n",
       "      <td>0</td>\n",
       "      <td>False</td>\n",
       "      <td>74</td>\n",
       "    </tr>\n",
       "    <tr>\n",
       "      <th>1</th>\n",
       "      <td>663</td>\n",
       "      <td>6</td>\n",
       "      <td>12</td>\n",
       "      <td>0</td>\n",
       "      <td>6</td>\n",
       "      <td>True</td>\n",
       "      <td>164</td>\n",
       "    </tr>\n",
       "    <tr>\n",
       "      <th>2</th>\n",
       "      <td>2124</td>\n",
       "      <td>1</td>\n",
       "      <td>19</td>\n",
       "      <td>11</td>\n",
       "      <td>1</td>\n",
       "      <td>False</td>\n",
       "      <td>19</td>\n",
       "    </tr>\n",
       "    <tr>\n",
       "      <th>3</th>\n",
       "      <td>429</td>\n",
       "      <td>4</td>\n",
       "      <td>6</td>\n",
       "      <td>19</td>\n",
       "      <td>2</td>\n",
       "      <td>False</td>\n",
       "      <td>97</td>\n",
       "    </tr>\n",
       "    <tr>\n",
       "      <th>4</th>\n",
       "      <td>435</td>\n",
       "      <td>3</td>\n",
       "      <td>26</td>\n",
       "      <td>13</td>\n",
       "      <td>5</td>\n",
       "      <td>True</td>\n",
       "      <td>86</td>\n",
       "    </tr>\n",
       "    <tr>\n",
       "      <th>...</th>\n",
       "      <td>...</td>\n",
       "      <td>...</td>\n",
       "      <td>...</td>\n",
       "      <td>...</td>\n",
       "      <td>...</td>\n",
       "      <td>...</td>\n",
       "      <td>...</td>\n",
       "    </tr>\n",
       "    <tr>\n",
       "      <th>1458635</th>\n",
       "      <td>778</td>\n",
       "      <td>4</td>\n",
       "      <td>8</td>\n",
       "      <td>13</td>\n",
       "      <td>4</td>\n",
       "      <td>False</td>\n",
       "      <td>99</td>\n",
       "    </tr>\n",
       "    <tr>\n",
       "      <th>1458636</th>\n",
       "      <td>655</td>\n",
       "      <td>1</td>\n",
       "      <td>10</td>\n",
       "      <td>7</td>\n",
       "      <td>6</td>\n",
       "      <td>True</td>\n",
       "      <td>10</td>\n",
       "    </tr>\n",
       "    <tr>\n",
       "      <th>1458637</th>\n",
       "      <td>764</td>\n",
       "      <td>4</td>\n",
       "      <td>22</td>\n",
       "      <td>6</td>\n",
       "      <td>4</td>\n",
       "      <td>False</td>\n",
       "      <td>113</td>\n",
       "    </tr>\n",
       "    <tr>\n",
       "      <th>1458638</th>\n",
       "      <td>373</td>\n",
       "      <td>1</td>\n",
       "      <td>5</td>\n",
       "      <td>15</td>\n",
       "      <td>1</td>\n",
       "      <td>False</td>\n",
       "      <td>5</td>\n",
       "    </tr>\n",
       "    <tr>\n",
       "      <th>1458639</th>\n",
       "      <td>198</td>\n",
       "      <td>4</td>\n",
       "      <td>5</td>\n",
       "      <td>14</td>\n",
       "      <td>1</td>\n",
       "      <td>False</td>\n",
       "      <td>96</td>\n",
       "    </tr>\n",
       "  </tbody>\n",
       "</table>\n",
       "<p>1458640 rows × 7 columns</p>\n",
       "</div>"
      ],
      "text/plain": [
       "         trip_duration  pickup_datetime_month  pickup_datetime_day  \\\n",
       "0                  455                      3                   14   \n",
       "1                  663                      6                   12   \n",
       "2                 2124                      1                   19   \n",
       "3                  429                      4                    6   \n",
       "4                  435                      3                   26   \n",
       "...                ...                    ...                  ...   \n",
       "1458635            778                      4                    8   \n",
       "1458636            655                      1                   10   \n",
       "1458637            764                      4                   22   \n",
       "1458638            373                      1                    5   \n",
       "1458639            198                      4                    5   \n",
       "\n",
       "         pickup_datetime_hour  pickup_datetime_day_of_week  \\\n",
       "0                          17                            0   \n",
       "1                           0                            6   \n",
       "2                          11                            1   \n",
       "3                          19                            2   \n",
       "4                          13                            5   \n",
       "...                       ...                          ...   \n",
       "1458635                    13                            4   \n",
       "1458636                     7                            6   \n",
       "1458637                     6                            4   \n",
       "1458638                    15                            1   \n",
       "1458639                    14                            1   \n",
       "\n",
       "         pickup_datetime_is_weekend  pickup_datetime_day_of_year  \n",
       "0                             False                           74  \n",
       "1                              True                          164  \n",
       "2                             False                           19  \n",
       "3                             False                           97  \n",
       "4                              True                           86  \n",
       "...                             ...                          ...  \n",
       "1458635                       False                           99  \n",
       "1458636                        True                           10  \n",
       "1458637                       False                          113  \n",
       "1458638                       False                            5  \n",
       "1458639                       False                           96  \n",
       "\n",
       "[1458640 rows x 7 columns]"
      ]
     },
     "execution_count": 37,
     "metadata": {},
     "output_type": "execute_result"
    }
   ],
   "source": [
    "train_df.iloc[:, -7:]"
   ]
  },
  {
   "cell_type": "code",
   "execution_count": 38,
   "metadata": {},
   "outputs": [
    {
     "data": {
      "text/plain": [
       "<matplotlib.axes._subplots.AxesSubplot at 0x7f5d5de46410>"
      ]
     },
     "execution_count": 38,
     "metadata": {},
     "output_type": "execute_result"
    },
    {
     "data": {
      "image/png": "[encoded data removed]",
      "text/plain": [
       "<Figure size 432x288 with 1 Axes>"
      ]
     },
     "metadata": {
      "needs_background": "light"
     },
     "output_type": "display_data"
    }
   ],
   "source": [
    "sns.barplot(\n",
    "    x='pickup_datetime_month',\n",
    "    y=target,\n",
    "    data=train_df\n",
    ")"
   ]
  },
  {
   "cell_type": "code",
   "execution_count": 39,
   "metadata": {},
   "outputs": [
    {
     "data": {
      "text/plain": [
       "<matplotlib.axes._subplots.AxesSubplot at 0x7f5d76f74690>"
      ]
     },
     "execution_count": 39,
     "metadata": {},
     "output_type": "execute_result"
    },
    {
     "data": {
      "image/png": "[encoded data removed]",
      "text/plain": [
       "<Figure size 432x288 with 1 Axes>"
      ]
     },
     "metadata": {
      "needs_background": "light"
     },
     "output_type": "display_data"
    }
   ],
   "source": [
    "sns.barplot(\n",
    "    x='pickup_datetime_day',\n",
    "    y=target,\n",
    "    data=train_df\n",
    ")"
   ]
  },
  {
   "cell_type": "code",
   "execution_count": 40,
   "metadata": {},
   "outputs": [
    {
     "data": {
      "text/plain": [
       "<matplotlib.axes._subplots.AxesSubplot at 0x7f5d76e55890>"
      ]
     },
     "execution_count": 40,
     "metadata": {},
     "output_type": "execute_result"
    },
    {
     "data": {
      "image/png": "[encoded data removed]",
      "text/plain": [
       "<Figure size 432x288 with 1 Axes>"
      ]
     },
     "metadata": {
      "needs_background": "light"
     },
     "output_type": "display_data"
    }
   ],
   "source": [
    "sns.barplot(\n",
    "    x='pickup_datetime_hour',\n",
    "    y=target,\n",
    "    data=train_df\n",
    ")"
   ]
  },
  {
   "cell_type": "code",
   "execution_count": 41,
   "metadata": {},
   "outputs": [
    {
     "data": {
      "text/plain": [
       "<matplotlib.axes._subplots.AxesSubplot at 0x7f5d76d5d050>"
      ]
     },
     "execution_count": 41,
     "metadata": {},
     "output_type": "execute_result"
    },
    {
     "data": {
      "image/png": "[encoded data removed]",
      "text/plain": [
       "<Figure size 432x288 with 1 Axes>"
      ]
     },
     "metadata": {
      "needs_background": "light"
     },
     "output_type": "display_data"
    }
   ],
   "source": [
    "sns.barplot(\n",
    "    x='pickup_datetime_day_of_week',\n",
    "    y=target,\n",
    "    data=train_df\n",
    ")"
   ]
  },
  {
   "cell_type": "code",
   "execution_count": 42,
   "metadata": {},
   "outputs": [
    {
     "data": {
      "text/plain": [
       "<matplotlib.axes._subplots.AxesSubplot at 0x7f5d76c81410>"
      ]
     },
     "execution_count": 42,
     "metadata": {},
     "output_type": "execute_result"
    },
    {
     "data": {
      "image/png": "[encoded data removed]",
      "text/plain": [
       "<Figure size 432x288 with 1 Axes>"
      ]
     },
     "metadata": {
      "needs_background": "light"
     },
     "output_type": "display_data"
    }
   ],
   "source": [
    "sns.barplot(\n",
    "    x='pickup_datetime_is_weekend',\n",
    "    y=target,\n",
    "    data=train_df\n",
    ")"
   ]
  },
  {
   "cell_type": "code",
   "execution_count": 43,
   "metadata": {},
   "outputs": [
    {
     "data": {
      "text/plain": [
       "<matplotlib.legend.Legend at 0x7f5d76e37090>"
      ]
     },
     "execution_count": 43,
     "metadata": {},
     "output_type": "execute_result"
    },
    {
     "data": {
      "image/png": "[encoded data removed]",
      "text/plain": [
       "<Figure size 432x288 with 1 Axes>"
      ]
     },
     "metadata": {
      "needs_background": "light"
     },
     "output_type": "display_data"
    }
   ],
   "source": [
    "mask = train_df[target] < 2*60**2\n",
    "sns.kdeplot(train_df[mask & train_df['pickup_datetime_is_weekend'] == False][target])\n",
    "sns.kdeplot(train_df[mask & train_df['pickup_datetime_is_weekend'] == True][target])\n",
    "plt.legend(['not weekend', 'weekend'])"
   ]
  },
  {
   "cell_type": "markdown",
   "metadata": {},
   "source": [
    "Seems like all 24 hour trips happend in non-weekend days."
   ]
  },
  {
   "cell_type": "code",
   "execution_count": 44,
   "metadata": {},
   "outputs": [
    {
     "data": {
      "image/png": "[encoded data removed]",
      "text/plain": [
       "<Figure size 720x360 with 1 Axes>"
      ]
     },
     "metadata": {
      "needs_background": "light"
     },
     "output_type": "display_data"
    }
   ],
   "source": [
    "mask = train_df[target] < 2*60**2\n",
    "\n",
    "df = (\n",
    "    train_df[mask][['pickup_datetime_day_of_year', target]]\n",
    "    .groupby('pickup_datetime_day_of_year')\n",
    "    .mean()\n",
    ")\n",
    "\n",
    "mask1 = train_df[target] < 2*60**2\n",
    "mask1 &= train_df['pickup_datetime_day_of_week'] == 6\n",
    "\n",
    "\n",
    "df1 = (\n",
    "    train_df[mask1][['pickup_datetime_day_of_year', target]]\n",
    "    .groupby('pickup_datetime_day_of_year')\n",
    "    .mean()\n",
    ")\n",
    "\n",
    "df.plot(figsize=(10, 5))\n",
    "plt.scatter(\n",
    "    df1.index,\n",
    "    df1[target],\n",
    "    c='#ff9d00'\n",
    ")\n",
    "\n",
    "plt.legend(['trip_duration', 'saturday_trip_duration'])\n",
    "plt.show()"
   ]
  },
  {
   "cell_type": "markdown",
   "metadata": {},
   "source": [
    "We see that the frequency is due to the days of the week. \n",
    "\n",
    "Combining day of week with month number we get pretty good predictor."
   ]
  },
  {
   "cell_type": "code",
   "execution_count": 45,
   "metadata": {},
   "outputs": [],
   "source": [
    "drop_column('pickup_datetime_day_of_year')"
   ]
  },
  {
   "cell_type": "code",
   "execution_count": 46,
   "metadata": {},
   "outputs": [],
   "source": [
    "train_df, test_df = ohe_column('pickup_datetime_month')\n",
    "update()\n",
    "train_df, test_df = ohe_column('pickup_datetime_day_of_week')\n",
    "update()"
   ]
  },
  {
   "cell_type": "code",
   "execution_count": 47,
   "metadata": {},
   "outputs": [
    {
     "data": {
      "text/html": [
       "<div>\n",
       "<style scoped>\n",
       "    .dataframe tbody tr th:only-of-type {\n",
       "        vertical-align: middle;\n",
       "    }\n",
       "\n",
       "    .dataframe tbody tr th {\n",
       "        vertical-align: top;\n",
       "    }\n",
       "\n",
       "    .dataframe thead th {\n",
       "        text-align: right;\n",
       "    }\n",
       "</style>\n",
       "<table border=\"1\" class=\"dataframe\">\n",
       "  <thead>\n",
       "    <tr style=\"text-align: right;\">\n",
       "      <th></th>\n",
       "      <th>pickup_datetime_day_of_week_0</th>\n",
       "      <th>pickup_datetime_day_of_week_1</th>\n",
       "      <th>pickup_datetime_day_of_week_2</th>\n",
       "      <th>pickup_datetime_day_of_week_3</th>\n",
       "      <th>pickup_datetime_day_of_week_4</th>\n",
       "      <th>pickup_datetime_day_of_week_5</th>\n",
       "      <th>pickup_datetime_day_of_week_6</th>\n",
       "      <th>pickup_datetime_month_1</th>\n",
       "      <th>pickup_datetime_month_2</th>\n",
       "      <th>pickup_datetime_month_3</th>\n",
       "      <th>...</th>\n",
       "      <th>passenger_count</th>\n",
       "      <th>pickup_longitude</th>\n",
       "      <th>pickup_latitude</th>\n",
       "      <th>dropoff_longitude</th>\n",
       "      <th>dropoff_latitude</th>\n",
       "      <th>store_and_fwd_flag</th>\n",
       "      <th>trip_duration</th>\n",
       "      <th>pickup_datetime_day</th>\n",
       "      <th>pickup_datetime_hour</th>\n",
       "      <th>pickup_datetime_is_weekend</th>\n",
       "    </tr>\n",
       "  </thead>\n",
       "  <tbody>\n",
       "    <tr>\n",
       "      <th>0</th>\n",
       "      <td>1.0</td>\n",
       "      <td>0.0</td>\n",
       "      <td>0.0</td>\n",
       "      <td>0.0</td>\n",
       "      <td>0.0</td>\n",
       "      <td>0.0</td>\n",
       "      <td>0.0</td>\n",
       "      <td>0.0</td>\n",
       "      <td>0.0</td>\n",
       "      <td>1.0</td>\n",
       "      <td>...</td>\n",
       "      <td>1</td>\n",
       "      <td>-73.982155</td>\n",
       "      <td>40.767937</td>\n",
       "      <td>-73.964630</td>\n",
       "      <td>40.765602</td>\n",
       "      <td>N</td>\n",
       "      <td>455</td>\n",
       "      <td>14</td>\n",
       "      <td>17</td>\n",
       "      <td>False</td>\n",
       "    </tr>\n",
       "    <tr>\n",
       "      <th>1</th>\n",
       "      <td>0.0</td>\n",
       "      <td>0.0</td>\n",
       "      <td>0.0</td>\n",
       "      <td>0.0</td>\n",
       "      <td>0.0</td>\n",
       "      <td>0.0</td>\n",
       "      <td>1.0</td>\n",
       "      <td>0.0</td>\n",
       "      <td>0.0</td>\n",
       "      <td>0.0</td>\n",
       "      <td>...</td>\n",
       "      <td>1</td>\n",
       "      <td>-73.980415</td>\n",
       "      <td>40.738564</td>\n",
       "      <td>-73.999481</td>\n",
       "      <td>40.731152</td>\n",
       "      <td>N</td>\n",
       "      <td>663</td>\n",
       "      <td>12</td>\n",
       "      <td>0</td>\n",
       "      <td>True</td>\n",
       "    </tr>\n",
       "    <tr>\n",
       "      <th>2</th>\n",
       "      <td>0.0</td>\n",
       "      <td>1.0</td>\n",
       "      <td>0.0</td>\n",
       "      <td>0.0</td>\n",
       "      <td>0.0</td>\n",
       "      <td>0.0</td>\n",
       "      <td>0.0</td>\n",
       "      <td>1.0</td>\n",
       "      <td>0.0</td>\n",
       "      <td>0.0</td>\n",
       "      <td>...</td>\n",
       "      <td>1</td>\n",
       "      <td>-73.979027</td>\n",
       "      <td>40.763939</td>\n",
       "      <td>-74.005333</td>\n",
       "      <td>40.710087</td>\n",
       "      <td>N</td>\n",
       "      <td>2124</td>\n",
       "      <td>19</td>\n",
       "      <td>11</td>\n",
       "      <td>False</td>\n",
       "    </tr>\n",
       "    <tr>\n",
       "      <th>3</th>\n",
       "      <td>0.0</td>\n",
       "      <td>0.0</td>\n",
       "      <td>1.0</td>\n",
       "      <td>0.0</td>\n",
       "      <td>0.0</td>\n",
       "      <td>0.0</td>\n",
       "      <td>0.0</td>\n",
       "      <td>0.0</td>\n",
       "      <td>0.0</td>\n",
       "      <td>0.0</td>\n",
       "      <td>...</td>\n",
       "      <td>1</td>\n",
       "      <td>-74.010040</td>\n",
       "      <td>40.719971</td>\n",
       "      <td>-74.012268</td>\n",
       "      <td>40.706718</td>\n",
       "      <td>N</td>\n",
       "      <td>429</td>\n",
       "      <td>6</td>\n",
       "      <td>19</td>\n",
       "      <td>False</td>\n",
       "    </tr>\n",
       "    <tr>\n",
       "      <th>4</th>\n",
       "      <td>0.0</td>\n",
       "      <td>0.0</td>\n",
       "      <td>0.0</td>\n",
       "      <td>0.0</td>\n",
       "      <td>0.0</td>\n",
       "      <td>1.0</td>\n",
       "      <td>0.0</td>\n",
       "      <td>0.0</td>\n",
       "      <td>0.0</td>\n",
       "      <td>1.0</td>\n",
       "      <td>...</td>\n",
       "      <td>1</td>\n",
       "      <td>-73.973053</td>\n",
       "      <td>40.793209</td>\n",
       "      <td>-73.972923</td>\n",
       "      <td>40.782520</td>\n",
       "      <td>N</td>\n",
       "      <td>435</td>\n",
       "      <td>26</td>\n",
       "      <td>13</td>\n",
       "      <td>True</td>\n",
       "    </tr>\n",
       "    <tr>\n",
       "      <th>...</th>\n",
       "      <td>...</td>\n",
       "      <td>...</td>\n",
       "      <td>...</td>\n",
       "      <td>...</td>\n",
       "      <td>...</td>\n",
       "      <td>...</td>\n",
       "      <td>...</td>\n",
       "      <td>...</td>\n",
       "      <td>...</td>\n",
       "      <td>...</td>\n",
       "      <td>...</td>\n",
       "      <td>...</td>\n",
       "      <td>...</td>\n",
       "      <td>...</td>\n",
       "      <td>...</td>\n",
       "      <td>...</td>\n",
       "      <td>...</td>\n",
       "      <td>...</td>\n",
       "      <td>...</td>\n",
       "      <td>...</td>\n",
       "      <td>...</td>\n",
       "    </tr>\n",
       "    <tr>\n",
       "      <th>1458635</th>\n",
       "      <td>0.0</td>\n",
       "      <td>0.0</td>\n",
       "      <td>0.0</td>\n",
       "      <td>0.0</td>\n",
       "      <td>1.0</td>\n",
       "      <td>0.0</td>\n",
       "      <td>0.0</td>\n",
       "      <td>0.0</td>\n",
       "      <td>0.0</td>\n",
       "      <td>0.0</td>\n",
       "      <td>...</td>\n",
       "      <td>4</td>\n",
       "      <td>-73.982201</td>\n",
       "      <td>40.745522</td>\n",
       "      <td>-73.994911</td>\n",
       "      <td>40.740170</td>\n",
       "      <td>N</td>\n",
       "      <td>778</td>\n",
       "      <td>8</td>\n",
       "      <td>13</td>\n",
       "      <td>False</td>\n",
       "    </tr>\n",
       "    <tr>\n",
       "      <th>1458636</th>\n",
       "      <td>0.0</td>\n",
       "      <td>0.0</td>\n",
       "      <td>0.0</td>\n",
       "      <td>0.0</td>\n",
       "      <td>0.0</td>\n",
       "      <td>0.0</td>\n",
       "      <td>1.0</td>\n",
       "      <td>1.0</td>\n",
       "      <td>0.0</td>\n",
       "      <td>0.0</td>\n",
       "      <td>...</td>\n",
       "      <td>1</td>\n",
       "      <td>-74.000946</td>\n",
       "      <td>40.747379</td>\n",
       "      <td>-73.970184</td>\n",
       "      <td>40.796547</td>\n",
       "      <td>N</td>\n",
       "      <td>655</td>\n",
       "      <td>10</td>\n",
       "      <td>7</td>\n",
       "      <td>True</td>\n",
       "    </tr>\n",
       "    <tr>\n",
       "      <th>1458637</th>\n",
       "      <td>0.0</td>\n",
       "      <td>0.0</td>\n",
       "      <td>0.0</td>\n",
       "      <td>0.0</td>\n",
       "      <td>1.0</td>\n",
       "      <td>0.0</td>\n",
       "      <td>0.0</td>\n",
       "      <td>0.0</td>\n",
       "      <td>0.0</td>\n",
       "      <td>0.0</td>\n",
       "      <td>...</td>\n",
       "      <td>1</td>\n",
       "      <td>-73.959129</td>\n",
       "      <td>40.768799</td>\n",
       "      <td>-74.004433</td>\n",
       "      <td>40.707371</td>\n",
       "      <td>N</td>\n",
       "      <td>764</td>\n",
       "      <td>22</td>\n",
       "      <td>6</td>\n",
       "      <td>False</td>\n",
       "    </tr>\n",
       "    <tr>\n",
       "      <th>1458638</th>\n",
       "      <td>0.0</td>\n",
       "      <td>1.0</td>\n",
       "      <td>0.0</td>\n",
       "      <td>0.0</td>\n",
       "      <td>0.0</td>\n",
       "      <td>0.0</td>\n",
       "      <td>0.0</td>\n",
       "      <td>1.0</td>\n",
       "      <td>0.0</td>\n",
       "      <td>0.0</td>\n",
       "      <td>...</td>\n",
       "      <td>1</td>\n",
       "      <td>-73.982079</td>\n",
       "      <td>40.749062</td>\n",
       "      <td>-73.974632</td>\n",
       "      <td>40.757107</td>\n",
       "      <td>N</td>\n",
       "      <td>373</td>\n",
       "      <td>5</td>\n",
       "      <td>15</td>\n",
       "      <td>False</td>\n",
       "    </tr>\n",
       "    <tr>\n",
       "      <th>1458639</th>\n",
       "      <td>0.0</td>\n",
       "      <td>1.0</td>\n",
       "      <td>0.0</td>\n",
       "      <td>0.0</td>\n",
       "      <td>0.0</td>\n",
       "      <td>0.0</td>\n",
       "      <td>0.0</td>\n",
       "      <td>0.0</td>\n",
       "      <td>0.0</td>\n",
       "      <td>0.0</td>\n",
       "      <td>...</td>\n",
       "      <td>1</td>\n",
       "      <td>-73.979538</td>\n",
       "      <td>40.781750</td>\n",
       "      <td>-73.972809</td>\n",
       "      <td>40.790585</td>\n",
       "      <td>N</td>\n",
       "      <td>198</td>\n",
       "      <td>5</td>\n",
       "      <td>14</td>\n",
       "      <td>False</td>\n",
       "    </tr>\n",
       "  </tbody>\n",
       "</table>\n",
       "<p>1458640 rows × 26 columns</p>\n",
       "</div>"
      ],
      "text/plain": [
       "         pickup_datetime_day_of_week_0  pickup_datetime_day_of_week_1  \\\n",
       "0                                  1.0                            0.0   \n",
       "1                                  0.0                            0.0   \n",
       "2                                  0.0                            1.0   \n",
       "3                                  0.0                            0.0   \n",
       "4                                  0.0                            0.0   \n",
       "...                                ...                            ...   \n",
       "1458635                            0.0                            0.0   \n",
       "1458636                            0.0                            0.0   \n",
       "1458637                            0.0                            0.0   \n",
       "1458638                            0.0                            1.0   \n",
       "1458639                            0.0                            1.0   \n",
       "\n",
       "         pickup_datetime_day_of_week_2  pickup_datetime_day_of_week_3  \\\n",
       "0                                  0.0                            0.0   \n",
       "1                                  0.0                            0.0   \n",
       "2                                  0.0                            0.0   \n",
       "3                                  1.0                            0.0   \n",
       "4                                  0.0                            0.0   \n",
       "...                                ...                            ...   \n",
       "1458635                            0.0                            0.0   \n",
       "1458636                            0.0                            0.0   \n",
       "1458637                            0.0                            0.0   \n",
       "1458638                            0.0                            0.0   \n",
       "1458639                            0.0                            0.0   \n",
       "\n",
       "         pickup_datetime_day_of_week_4  pickup_datetime_day_of_week_5  \\\n",
       "0                                  0.0                            0.0   \n",
       "1                                  0.0                            0.0   \n",
       "2                                  0.0                            0.0   \n",
       "3                                  0.0                            0.0   \n",
       "4                                  0.0                            1.0   \n",
       "...                                ...                            ...   \n",
       "1458635                            1.0                            0.0   \n",
       "1458636                            0.0                            0.0   \n",
       "1458637                            1.0                            0.0   \n",
       "1458638                            0.0                            0.0   \n",
       "1458639                            0.0                            0.0   \n",
       "\n",
       "         pickup_datetime_day_of_week_6  pickup_datetime_month_1  \\\n",
       "0                                  0.0                      0.0   \n",
       "1                                  1.0                      0.0   \n",
       "2                                  0.0                      1.0   \n",
       "3                                  0.0                      0.0   \n",
       "4                                  0.0                      0.0   \n",
       "...                                ...                      ...   \n",
       "1458635                            0.0                      0.0   \n",
       "1458636                            1.0                      1.0   \n",
       "1458637                            0.0                      0.0   \n",
       "1458638                            0.0                      1.0   \n",
       "1458639                            0.0                      0.0   \n",
       "\n",
       "         pickup_datetime_month_2  pickup_datetime_month_3  ...  \\\n",
       "0                            0.0                      1.0  ...   \n",
       "1                            0.0                      0.0  ...   \n",
       "2                            0.0                      0.0  ...   \n",
       "3                            0.0                      0.0  ...   \n",
       "4                            0.0                      1.0  ...   \n",
       "...                          ...                      ...  ...   \n",
       "1458635                      0.0                      0.0  ...   \n",
       "1458636                      0.0                      0.0  ...   \n",
       "1458637                      0.0                      0.0  ...   \n",
       "1458638                      0.0                      0.0  ...   \n",
       "1458639                      0.0                      0.0  ...   \n",
       "\n",
       "         passenger_count  pickup_longitude  pickup_latitude dropoff_longitude  \\\n",
       "0                      1        -73.982155        40.767937        -73.964630   \n",
       "1                      1        -73.980415        40.738564        -73.999481   \n",
       "2                      1        -73.979027        40.763939        -74.005333   \n",
       "3                      1        -74.010040        40.719971        -74.012268   \n",
       "4                      1        -73.973053        40.793209        -73.972923   \n",
       "...                  ...               ...              ...               ...   \n",
       "1458635                4        -73.982201        40.745522        -73.994911   \n",
       "1458636                1        -74.000946        40.747379        -73.970184   \n",
       "1458637                1        -73.959129        40.768799        -74.004433   \n",
       "1458638                1        -73.982079        40.749062        -73.974632   \n",
       "1458639                1        -73.979538        40.781750        -73.972809   \n",
       "\n",
       "         dropoff_latitude store_and_fwd_flag  trip_duration  \\\n",
       "0               40.765602                  N            455   \n",
       "1               40.731152                  N            663   \n",
       "2               40.710087                  N           2124   \n",
       "3               40.706718                  N            429   \n",
       "4               40.782520                  N            435   \n",
       "...                   ...                ...            ...   \n",
       "1458635         40.740170                  N            778   \n",
       "1458636         40.796547                  N            655   \n",
       "1458637         40.707371                  N            764   \n",
       "1458638         40.757107                  N            373   \n",
       "1458639         40.790585                  N            198   \n",
       "\n",
       "         pickup_datetime_day  pickup_datetime_hour  pickup_datetime_is_weekend  \n",
       "0                         14                    17                       False  \n",
       "1                         12                     0                        True  \n",
       "2                         19                    11                       False  \n",
       "3                          6                    19                       False  \n",
       "4                         26                    13                        True  \n",
       "...                      ...                   ...                         ...  \n",
       "1458635                    8                    13                       False  \n",
       "1458636                   10                     7                        True  \n",
       "1458637                   22                     6                       False  \n",
       "1458638                    5                    15                       False  \n",
       "1458639                    5                    14                       False  \n",
       "\n",
       "[1458640 rows x 26 columns]"
      ]
     },
     "execution_count": 47,
     "metadata": {},
     "output_type": "execute_result"
    }
   ],
   "source": [
    "train_df"
   ]
  },
  {
   "cell_type": "code",
   "execution_count": 48,
   "metadata": {},
   "outputs": [
    {
     "data": {
      "text/plain": [
       "'passenger_count'"
      ]
     },
     "execution_count": 48,
     "metadata": {},
     "output_type": "execute_result"
    }
   ],
   "source": [
    "next_col()"
   ]
  },
  {
   "cell_type": "code",
   "execution_count": 49,
   "metadata": {},
   "outputs": [
    {
     "name": "stdout",
     "output_type": "stream",
     "text": [
      "Column: passenger_count\n",
      "Train dataset uniques: [1 6 4 2 3 5 0 7 9 8]\n",
      "Test dataset uniques: [1 2 4 5 3 6 0 9]\n",
      "Train has NaNs: 0\n",
      "Test has NaNs: 0\n"
     ]
    }
   ],
   "source": [
    "describe()"
   ]
  },
  {
   "cell_type": "code",
   "execution_count": 50,
   "metadata": {},
   "outputs": [
    {
     "data": {
      "image/png": "[encoded data removed]",
      "text/plain": [
       "<Figure size 432x288 with 1 Axes>"
      ]
     },
     "metadata": {
      "needs_background": "light"
     },
     "output_type": "display_data"
    }
   ],
   "source": [
    "df = train_df[[curr_col, target]].groupby(curr_col).mean()\n",
    "\n",
    "plt.plot(\n",
    "    df.index,\n",
    "    df[target]\n",
    ")\n",
    "plt.show()"
   ]
  },
  {
   "cell_type": "code",
   "execution_count": 51,
   "metadata": {},
   "outputs": [
    {
     "data": {
      "text/plain": [
       "1    1033537\n",
       "2     210317\n",
       "5      78088\n",
       "3      59896\n",
       "6      48333\n",
       "4      28404\n",
       "0         60\n",
       "7          3\n",
       "9          1\n",
       "8          1\n",
       "Name: passenger_count, dtype: int64"
      ]
     },
     "execution_count": 51,
     "metadata": {},
     "output_type": "execute_result"
    }
   ],
   "source": [
    "train_df[curr_col].value_counts()"
   ]
  },
  {
   "cell_type": "code",
   "execution_count": 52,
   "metadata": {},
   "outputs": [
    {
     "data": {
      "text/plain": [
       "1    443447\n",
       "2     90027\n",
       "5     33411\n",
       "3     25686\n",
       "6     20521\n",
       "4     12017\n",
       "0        23\n",
       "9         2\n",
       "Name: passenger_count, dtype: int64"
      ]
     },
     "execution_count": 52,
     "metadata": {},
     "output_type": "execute_result"
    }
   ],
   "source": [
    "test_df[curr_col].value_counts()"
   ]
  },
  {
   "cell_type": "markdown",
   "metadata": {},
   "source": [
    "0 and 7-9 are outliers. If I drop them, I will get linear dependence."
   ]
  },
  {
   "cell_type": "code",
   "execution_count": 53,
   "metadata": {},
   "outputs": [],
   "source": [
    "train_df = train_df[(train_df[curr_col] != 0) & (train_df[curr_col] < 7)]\n",
    "test_df[curr_col] = test_df[curr_col].map(\n",
    "    lambda x: x if 0 < x < 7 else train_df[curr_col].mode()\n",
    ")"
   ]
  },
  {
   "cell_type": "code",
   "execution_count": 54,
   "metadata": {},
   "outputs": [],
   "source": [
    "update()"
   ]
  },
  {
   "cell_type": "code",
   "execution_count": 55,
   "metadata": {},
   "outputs": [
    {
     "data": {
      "image/png": "[encoded data removed]",
      "text/plain": [
       "<Figure size 432x288 with 1 Axes>"
      ]
     },
     "metadata": {
      "needs_background": "light"
     },
     "output_type": "display_data"
    }
   ],
   "source": [
    "df = train_df[[curr_col, target]].groupby(curr_col).mean()\n",
    "\n",
    "plt.plot(\n",
    "    df.index,\n",
    "    df[target]\n",
    ")\n",
    "plt.show()"
   ]
  },
  {
   "cell_type": "markdown",
   "metadata": {},
   "source": [
    "Well, almost linear..."
   ]
  },
  {
   "cell_type": "code",
   "execution_count": 56,
   "metadata": {},
   "outputs": [
    {
     "name": "stdout",
     "output_type": "stream",
     "text": [
      "Column: pickup_longitude\n",
      "Train dataset uniques: [-73.98215485 -73.98041534 -73.97902679 ... -73.84746552 -73.89477539\n",
      " -73.84131622]\n",
      "Test dataset uniques: [-73.98812866 -73.96420288 -73.99743652 ... -73.87021637 -73.87776947\n",
      " -73.90257263]\n",
      "Train has NaNs: 0\n",
      "Test has NaNs: 0\n"
     ]
    }
   ],
   "source": [
    "next_col()\n",
    "describe()"
   ]
  },
  {
   "cell_type": "code",
   "execution_count": 57,
   "metadata": {},
   "outputs": [
    {
     "data": {
      "text/plain": [
       "Index(['pickup_datetime_day_of_week_0', 'pickup_datetime_day_of_week_1',\n",
       "       'pickup_datetime_day_of_week_2', 'pickup_datetime_day_of_week_3',\n",
       "       'pickup_datetime_day_of_week_4', 'pickup_datetime_day_of_week_5',\n",
       "       'pickup_datetime_day_of_week_6', 'pickup_datetime_month_1',\n",
       "       'pickup_datetime_month_2', 'pickup_datetime_month_3',\n",
       "       'pickup_datetime_month_4', 'pickup_datetime_month_5',\n",
       "       'pickup_datetime_month_6', 'vendor_id', 'pickup_datetime',\n",
       "       'passenger_count', 'pickup_longitude', 'pickup_latitude',\n",
       "       'dropoff_longitude', 'dropoff_latitude', 'store_and_fwd_flag',\n",
       "       'pickup_datetime_day', 'pickup_datetime_hour',\n",
       "       'pickup_datetime_is_weekend'],\n",
       "      dtype='object')"
      ]
     },
     "execution_count": 57,
     "metadata": {},
     "output_type": "execute_result"
    }
   ],
   "source": [
    "test_df.columns"
   ]
  },
  {
   "cell_type": "markdown",
   "metadata": {},
   "source": [
    "I think I should somehow define a real path length via Google Maps or something to gain extra data but It sounds like cheating. To think of that I also could get extra data about traffic in certain days and hours... \n",
    "\n",
    "Even if it is implied by organizer (\"We are encouraging you (with cash prizes!) to publish additional training data that other participants can use for their predictions.\") I won't do it because It is a big overhead for a simple lab work.\n",
    "\n",
    "I will just add 3 simple features: sum of longitude and latitude path lengths, direct path length and area of \"rounded square\" (since our planet is spheroid)."
   ]
  },
  {
   "cell_type": "code",
   "execution_count": 58,
   "metadata": {},
   "outputs": [
    {
     "data": {
      "text/plain": [
       "(1458575, 26)"
      ]
     },
     "execution_count": 58,
     "metadata": {},
     "output_type": "execute_result"
    }
   ],
   "source": [
    "train_df.shape"
   ]
  },
  {
   "cell_type": "code",
   "execution_count": 59,
   "metadata": {},
   "outputs": [
    {
     "data": {
      "text/html": [
       "<div>\n",
       "<style scoped>\n",
       "    .dataframe tbody tr th:only-of-type {\n",
       "        vertical-align: middle;\n",
       "    }\n",
       "\n",
       "    .dataframe tbody tr th {\n",
       "        vertical-align: top;\n",
       "    }\n",
       "\n",
       "    .dataframe thead th {\n",
       "        text-align: right;\n",
       "    }\n",
       "</style>\n",
       "<table border=\"1\" class=\"dataframe\">\n",
       "  <thead>\n",
       "    <tr style=\"text-align: right;\">\n",
       "      <th></th>\n",
       "      <th>pickup_longitude</th>\n",
       "      <th>pickup_latitude</th>\n",
       "      <th>dropoff_longitude</th>\n",
       "      <th>dropoff_latitude</th>\n",
       "    </tr>\n",
       "  </thead>\n",
       "  <tbody>\n",
       "    <tr>\n",
       "      <th>count</th>\n",
       "      <td>1.458575e+06</td>\n",
       "      <td>1.458575e+06</td>\n",
       "      <td>1.458575e+06</td>\n",
       "      <td>1.458575e+06</td>\n",
       "    </tr>\n",
       "    <tr>\n",
       "      <th>mean</th>\n",
       "      <td>-7.397349e+01</td>\n",
       "      <td>4.075092e+01</td>\n",
       "      <td>-7.397342e+01</td>\n",
       "      <td>4.075180e+01</td>\n",
       "    </tr>\n",
       "    <tr>\n",
       "      <th>std</th>\n",
       "      <td>7.090100e-02</td>\n",
       "      <td>3.287998e-02</td>\n",
       "      <td>7.064260e-02</td>\n",
       "      <td>3.588953e-02</td>\n",
       "    </tr>\n",
       "    <tr>\n",
       "      <th>min</th>\n",
       "      <td>-1.219333e+02</td>\n",
       "      <td>3.435970e+01</td>\n",
       "      <td>-1.219333e+02</td>\n",
       "      <td>3.218114e+01</td>\n",
       "    </tr>\n",
       "    <tr>\n",
       "      <th>25%</th>\n",
       "      <td>-7.399187e+01</td>\n",
       "      <td>4.073735e+01</td>\n",
       "      <td>-7.399133e+01</td>\n",
       "      <td>4.073589e+01</td>\n",
       "    </tr>\n",
       "    <tr>\n",
       "      <th>50%</th>\n",
       "      <td>-7.398174e+01</td>\n",
       "      <td>4.075410e+01</td>\n",
       "      <td>-7.397975e+01</td>\n",
       "      <td>4.075452e+01</td>\n",
       "    </tr>\n",
       "    <tr>\n",
       "      <th>75%</th>\n",
       "      <td>-7.396733e+01</td>\n",
       "      <td>4.076836e+01</td>\n",
       "      <td>-7.396302e+01</td>\n",
       "      <td>4.076981e+01</td>\n",
       "    </tr>\n",
       "    <tr>\n",
       "      <th>max</th>\n",
       "      <td>-6.133553e+01</td>\n",
       "      <td>5.188108e+01</td>\n",
       "      <td>-6.133553e+01</td>\n",
       "      <td>4.392103e+01</td>\n",
       "    </tr>\n",
       "  </tbody>\n",
       "</table>\n",
       "</div>"
      ],
      "text/plain": [
       "       pickup_longitude  pickup_latitude  dropoff_longitude  dropoff_latitude\n",
       "count      1.458575e+06     1.458575e+06       1.458575e+06      1.458575e+06\n",
       "mean      -7.397349e+01     4.075092e+01      -7.397342e+01      4.075180e+01\n",
       "std        7.090100e-02     3.287998e-02       7.064260e-02      3.588953e-02\n",
       "min       -1.219333e+02     3.435970e+01      -1.219333e+02      3.218114e+01\n",
       "25%       -7.399187e+01     4.073735e+01      -7.399133e+01      4.073589e+01\n",
       "50%       -7.398174e+01     4.075410e+01      -7.397975e+01      4.075452e+01\n",
       "75%       -7.396733e+01     4.076836e+01      -7.396302e+01      4.076981e+01\n",
       "max       -6.133553e+01     5.188108e+01      -6.133553e+01      4.392103e+01"
      ]
     },
     "execution_count": 59,
     "metadata": {},
     "output_type": "execute_result"
    }
   ],
   "source": [
    "train_df[[\n",
    "    'pickup_longitude', \n",
    "    'pickup_latitude', \n",
    "    'dropoff_longitude', \n",
    "    'dropoff_latitude'\n",
    "]].describe()"
   ]
  },
  {
   "cell_type": "markdown",
   "metadata": {},
   "source": [
    "Longitude and latitude should be in [-90; 90] and [-180, 180] ranges respectively."
   ]
  },
  {
   "cell_type": "markdown",
   "metadata": {},
   "source": [
    "Mean position corresponds to NY but longitude and latitude are confused (checked with wiki and google maps). "
   ]
  },
  {
   "cell_type": "code",
   "execution_count": 60,
   "metadata": {},
   "outputs": [
    {
     "name": "stderr",
     "output_type": "stream",
     "text": [
      "/home/a3nippo/anaconda3/lib/python3.7/site-packages/ipykernel_launcher.py:4: SettingWithCopyWarning: \n",
      "A value is trying to be set on a copy of a slice from a DataFrame.\n",
      "Try using .loc[row_indexer,col_indexer] = value instead\n",
      "\n",
      "See the caveats in the documentation: https://pandas.pydata.org/pandas-docs/stable/user_guide/indexing.html#returning-a-view-versus-a-copy\n",
      "  after removing the cwd from sys.path.\n",
      "/home/a3nippo/anaconda3/lib/python3.7/site-packages/ipykernel_launcher.py:5: SettingWithCopyWarning: \n",
      "A value is trying to be set on a copy of a slice from a DataFrame.\n",
      "Try using .loc[row_indexer,col_indexer] = value instead\n",
      "\n",
      "See the caveats in the documentation: https://pandas.pydata.org/pandas-docs/stable/user_guide/indexing.html#returning-a-view-versus-a-copy\n",
      "  \"\"\"\n"
     ]
    }
   ],
   "source": [
    "for df in train_df, test_df:\n",
    "    for prefix in 'pickup_', 'dropoff_':\n",
    "        tmp = df[prefix + 'longitude'].copy()\n",
    "        df[prefix + 'longitude'] = df[prefix + 'latitude']\n",
    "        df[prefix + 'latitude'] = tmp"
   ]
  },
  {
   "cell_type": "code",
   "execution_count": 61,
   "metadata": {},
   "outputs": [
    {
     "data": {
      "text/html": [
       "<div>\n",
       "<style scoped>\n",
       "    .dataframe tbody tr th:only-of-type {\n",
       "        vertical-align: middle;\n",
       "    }\n",
       "\n",
       "    .dataframe tbody tr th {\n",
       "        vertical-align: top;\n",
       "    }\n",
       "\n",
       "    .dataframe thead th {\n",
       "        text-align: right;\n",
       "    }\n",
       "</style>\n",
       "<table border=\"1\" class=\"dataframe\">\n",
       "  <thead>\n",
       "    <tr style=\"text-align: right;\">\n",
       "      <th></th>\n",
       "      <th>pickup_longitude</th>\n",
       "      <th>pickup_latitude</th>\n",
       "      <th>dropoff_longitude</th>\n",
       "      <th>dropoff_latitude</th>\n",
       "    </tr>\n",
       "  </thead>\n",
       "  <tbody>\n",
       "    <tr>\n",
       "      <th>count</th>\n",
       "      <td>1.458575e+06</td>\n",
       "      <td>1.458575e+06</td>\n",
       "      <td>1.458575e+06</td>\n",
       "      <td>1.458575e+06</td>\n",
       "    </tr>\n",
       "    <tr>\n",
       "      <th>mean</th>\n",
       "      <td>4.075092e+01</td>\n",
       "      <td>-7.397349e+01</td>\n",
       "      <td>4.075180e+01</td>\n",
       "      <td>-7.397342e+01</td>\n",
       "    </tr>\n",
       "    <tr>\n",
       "      <th>std</th>\n",
       "      <td>3.287998e-02</td>\n",
       "      <td>7.090100e-02</td>\n",
       "      <td>3.588953e-02</td>\n",
       "      <td>7.064260e-02</td>\n",
       "    </tr>\n",
       "    <tr>\n",
       "      <th>min</th>\n",
       "      <td>3.435970e+01</td>\n",
       "      <td>-1.219333e+02</td>\n",
       "      <td>3.218114e+01</td>\n",
       "      <td>-1.219333e+02</td>\n",
       "    </tr>\n",
       "    <tr>\n",
       "      <th>25%</th>\n",
       "      <td>4.073735e+01</td>\n",
       "      <td>-7.399187e+01</td>\n",
       "      <td>4.073589e+01</td>\n",
       "      <td>-7.399133e+01</td>\n",
       "    </tr>\n",
       "    <tr>\n",
       "      <th>50%</th>\n",
       "      <td>4.075410e+01</td>\n",
       "      <td>-7.398174e+01</td>\n",
       "      <td>4.075452e+01</td>\n",
       "      <td>-7.397975e+01</td>\n",
       "    </tr>\n",
       "    <tr>\n",
       "      <th>75%</th>\n",
       "      <td>4.076836e+01</td>\n",
       "      <td>-7.396733e+01</td>\n",
       "      <td>4.076981e+01</td>\n",
       "      <td>-7.396302e+01</td>\n",
       "    </tr>\n",
       "    <tr>\n",
       "      <th>max</th>\n",
       "      <td>5.188108e+01</td>\n",
       "      <td>-6.133553e+01</td>\n",
       "      <td>4.392103e+01</td>\n",
       "      <td>-6.133553e+01</td>\n",
       "    </tr>\n",
       "  </tbody>\n",
       "</table>\n",
       "</div>"
      ],
      "text/plain": [
       "       pickup_longitude  pickup_latitude  dropoff_longitude  dropoff_latitude\n",
       "count      1.458575e+06     1.458575e+06       1.458575e+06      1.458575e+06\n",
       "mean       4.075092e+01    -7.397349e+01       4.075180e+01     -7.397342e+01\n",
       "std        3.287998e-02     7.090100e-02       3.588953e-02      7.064260e-02\n",
       "min        3.435970e+01    -1.219333e+02       3.218114e+01     -1.219333e+02\n",
       "25%        4.073735e+01    -7.399187e+01       4.073589e+01     -7.399133e+01\n",
       "50%        4.075410e+01    -7.398174e+01       4.075452e+01     -7.397975e+01\n",
       "75%        4.076836e+01    -7.396733e+01       4.076981e+01     -7.396302e+01\n",
       "max        5.188108e+01    -6.133553e+01       4.392103e+01     -6.133553e+01"
      ]
     },
     "execution_count": 61,
     "metadata": {},
     "output_type": "execute_result"
    }
   ],
   "source": [
    "train_df[[\n",
    "    'pickup_longitude', \n",
    "    'pickup_latitude', \n",
    "    'dropoff_longitude', \n",
    "    'dropoff_latitude'\n",
    "]].describe()"
   ]
  },
  {
   "cell_type": "markdown",
   "metadata": {},
   "source": [
    "Okey, now I need to transform geographic coordinate system to spherical coordinate system.\n",
    "\n",
    "Let $\\hat\\theta$ be longitude and $\\hat\\phi$ be latitude.\n",
    "\n",
    "$\\hat\\theta = -\\theta + \\frac{\\pi}{2} \\Rightarrow \\theta = -\\hat\\theta + \\frac{\\pi}{2}$\n",
    "\n",
    "$\\hat\\phi = \\phi - \\pi \\Rightarrow \\phi = \\hat\\phi + \\pi$"
   ]
  },
  {
   "cell_type": "code",
   "execution_count": 62,
   "metadata": {},
   "outputs": [
    {
     "name": "stderr",
     "output_type": "stream",
     "text": [
      "/home/a3nippo/anaconda3/lib/python3.7/site-packages/ipykernel_launcher.py:3: SettingWithCopyWarning: \n",
      "A value is trying to be set on a copy of a slice from a DataFrame.\n",
      "Try using .loc[row_indexer,col_indexer] = value instead\n",
      "\n",
      "See the caveats in the documentation: https://pandas.pydata.org/pandas-docs/stable/user_guide/indexing.html#returning-a-view-versus-a-copy\n",
      "  This is separate from the ipykernel package so we can avoid doing imports until\n",
      "/home/a3nippo/anaconda3/lib/python3.7/site-packages/ipykernel_launcher.py:4: SettingWithCopyWarning: \n",
      "A value is trying to be set on a copy of a slice from a DataFrame.\n",
      "Try using .loc[row_indexer,col_indexer] = value instead\n",
      "\n",
      "See the caveats in the documentation: https://pandas.pydata.org/pandas-docs/stable/user_guide/indexing.html#returning-a-view-versus-a-copy\n",
      "  after removing the cwd from sys.path.\n"
     ]
    }
   ],
   "source": [
    "for df in train_df, test_df:\n",
    "    for prefix in 'pickup_', 'dropoff_':\n",
    "        df[prefix + 'longitude'] = -df[prefix + 'longitude'] + 90\n",
    "        df[prefix + 'latitude'] = df[prefix + 'latitude'] + 180"
   ]
  },
  {
   "cell_type": "code",
   "execution_count": 64,
   "metadata": {},
   "outputs": [
    {
     "name": "stderr",
     "output_type": "stream",
     "text": [
      "/home/a3nippo/anaconda3/lib/python3.7/site-packages/pandas/core/indexing.py:966: SettingWithCopyWarning: \n",
      "A value is trying to be set on a copy of a slice from a DataFrame.\n",
      "Try using .loc[row_indexer,col_indexer] = value instead\n",
      "\n",
      "See the caveats in the documentation: https://pandas.pydata.org/pandas-docs/stable/user_guide/indexing.html#returning-a-view-versus-a-copy\n",
      "  self.obj[item] = s\n"
     ]
    }
   ],
   "source": [
    "# to radians\n",
    "\n",
    "position_columns = [\n",
    "    'pickup_longitude', \n",
    "    'pickup_latitude', \n",
    "    'dropoff_longitude', \n",
    "    'dropoff_latitude'\n",
    "]\n",
    "\n",
    "for df in train_df, test_df:\n",
    "    for column in position_columns:\n",
    "        df.loc[:, column] = df[column].apply(\n",
    "            lambda x: np.radians(x)\n",
    "        )"
   ]
  },
  {
   "cell_type": "code",
   "execution_count": 96,
   "metadata": {},
   "outputs": [
    {
     "name": "stderr",
     "output_type": "stream",
     "text": [
      "/home/a3nippo/anaconda3/lib/python3.7/site-packages/ipykernel_launcher.py:10: SettingWithCopyWarning: \n",
      "A value is trying to be set on a copy of a slice from a DataFrame.\n",
      "Try using .loc[row_indexer,col_indexer] = value instead\n",
      "\n",
      "See the caveats in the documentation: https://pandas.pydata.org/pandas-docs/stable/user_guide/indexing.html#returning-a-view-versus-a-copy\n",
      "  # Remove the CWD from sys.path while we load stuff.\n",
      "/home/a3nippo/anaconda3/lib/python3.7/site-packages/ipykernel_launcher.py:16: SettingWithCopyWarning: \n",
      "A value is trying to be set on a copy of a slice from a DataFrame.\n",
      "Try using .loc[row_indexer,col_indexer] = value instead\n",
      "\n",
      "See the caveats in the documentation: https://pandas.pydata.org/pandas-docs/stable/user_guide/indexing.html#returning-a-view-versus-a-copy\n",
      "  app.launch_new_instance()\n"
     ]
    }
   ],
   "source": [
    "from math import cos\n",
    "\n",
    "radius = 6371  # earth mean radius\n",
    "\n",
    "for df in train_df, test_df:\n",
    "    d_phi = df['dropoff_latitude'] - df['pickup_latitude']\n",
    "    \n",
    "    df['area'] = radius**2 * d_phi * (\n",
    "        df['pickup_longitude'].apply(lambda x: cos(x))\n",
    "        -df['dropoff_longitude'].apply(lambda x: cos(x))\n",
    "    )\n",
    "    \n",
    "    # I need to apply abs\n",
    "    # because I don't follow\n",
    "    # that dropoff_value > pickup_value\n",
    "    df['area'] = df['area'].apply(abs)"
   ]
  },
  {
   "cell_type": "code",
   "execution_count": 83,
   "metadata": {},
   "outputs": [],
   "source": [
    "from math import sin, cos, sqrt\n",
    "\n",
    "def dist(longitude0, longitude1, latitude0, latitude1):    \n",
    "    radius = 6371  # earth mean radius\n",
    "    \n",
    "    to_sqrt = 2 * radius**2 * (\n",
    "        1 - (\n",
    "            longitude0.apply(sin)\n",
    "            *longitude1.apply(sin)\n",
    "            *(latitude0 - latitude1).apply(cos)\n",
    "        ) - (\n",
    "            longitude0.apply(cos)\n",
    "            *longitude1.apply(cos)\n",
    "        )\n",
    "    )\n",
    "    \n",
    "    # negative values can be obtained\n",
    "    # due to precision errors\n",
    "    return to_sqrt.apply(abs).apply(sqrt)"
   ]
  },
  {
   "cell_type": "code",
   "execution_count": 92,
   "metadata": {},
   "outputs": [
    {
     "name": "stderr",
     "output_type": "stream",
     "text": [
      "/home/a3nippo/anaconda3/lib/python3.7/site-packages/ipykernel_launcher.py:16: SettingWithCopyWarning: \n",
      "A value is trying to be set on a copy of a slice from a DataFrame.\n",
      "Try using .loc[row_indexer,col_indexer] = value instead\n",
      "\n",
      "See the caveats in the documentation: https://pandas.pydata.org/pandas-docs/stable/user_guide/indexing.html#returning-a-view-versus-a-copy\n",
      "  app.launch_new_instance()\n",
      "/home/a3nippo/anaconda3/lib/python3.7/site-packages/ipykernel_launcher.py:23: SettingWithCopyWarning: \n",
      "A value is trying to be set on a copy of a slice from a DataFrame.\n",
      "Try using .loc[row_indexer,col_indexer] = value instead\n",
      "\n",
      "See the caveats in the documentation: https://pandas.pydata.org/pandas-docs/stable/user_guide/indexing.html#returning-a-view-versus-a-copy\n"
     ]
    }
   ],
   "source": [
    "zeros = pd.Series(\n",
    "    0,\n",
    "    index = df.index\n",
    ")\n",
    "\n",
    "for df in train_df, test_df:\n",
    "    df['lengths_sum'] = dist(\n",
    "        df['pickup_longitude'],\n",
    "        df['dropoff_longitude'],\n",
    "        df['pickup_latitude'],\n",
    "        df['pickup_latitude'],\n",
    "    ) + dist(\n",
    "        df['pickup_longitude'],\n",
    "        df['pickup_longitude'],\n",
    "        df['pickup_latitude'],\n",
    "        df['dropoff_latitude']\n",
    "    )\n",
    "    \n",
    "    df['dist'] = dist(\n",
    "        df['pickup_longitude'],\n",
    "        df['dropoff_longitude'],\n",
    "        df['pickup_latitude'],\n",
    "        df['dropoff_latitude']\n",
    "    )"
   ]
  },
  {
   "cell_type": "code",
   "execution_count": 102,
   "metadata": {},
   "outputs": [
    {
     "data": {
      "text/html": [
       "<div>\n",
       "<style scoped>\n",
       "    .dataframe tbody tr th:only-of-type {\n",
       "        vertical-align: middle;\n",
       "    }\n",
       "\n",
       "    .dataframe tbody tr th {\n",
       "        vertical-align: top;\n",
       "    }\n",
       "\n",
       "    .dataframe thead th {\n",
       "        text-align: right;\n",
       "    }\n",
       "</style>\n",
       "<table border=\"1\" class=\"dataframe\">\n",
       "  <thead>\n",
       "    <tr style=\"text-align: right;\">\n",
       "      <th></th>\n",
       "      <th>area</th>\n",
       "      <th>lengths_sum</th>\n",
       "      <th>dist</th>\n",
       "    </tr>\n",
       "  </thead>\n",
       "  <tbody>\n",
       "    <tr>\n",
       "      <th>0</th>\n",
       "      <td>0.383127</td>\n",
       "      <td>1.735433</td>\n",
       "      <td>1.498521</td>\n",
       "    </tr>\n",
       "    <tr>\n",
       "      <th>1</th>\n",
       "      <td>1.323969</td>\n",
       "      <td>2.430506</td>\n",
       "      <td>1.805507</td>\n",
       "    </tr>\n",
       "    <tr>\n",
       "      <th>2</th>\n",
       "      <td>13.271941</td>\n",
       "      <td>8.203575</td>\n",
       "      <td>6.385098</td>\n",
       "    </tr>\n",
       "    <tr>\n",
       "      <th>3</th>\n",
       "      <td>0.276689</td>\n",
       "      <td>1.661331</td>\n",
       "      <td>1.485498</td>\n",
       "    </tr>\n",
       "    <tr>\n",
       "      <th>4</th>\n",
       "      <td>0.012978</td>\n",
       "      <td>1.199456</td>\n",
       "      <td>1.188588</td>\n",
       "    </tr>\n",
       "    <tr>\n",
       "      <th>...</th>\n",
       "      <td>...</td>\n",
       "      <td>...</td>\n",
       "      <td>...</td>\n",
       "    </tr>\n",
       "    <tr>\n",
       "      <th>1458635</th>\n",
       "      <td>0.637264</td>\n",
       "      <td>1.665895</td>\n",
       "      <td>1.225080</td>\n",
       "    </tr>\n",
       "    <tr>\n",
       "      <th>1458636</th>\n",
       "      <td>14.162379</td>\n",
       "      <td>8.058580</td>\n",
       "      <td>6.049835</td>\n",
       "    </tr>\n",
       "    <tr>\n",
       "      <th>1458637</th>\n",
       "      <td>26.071424</td>\n",
       "      <td>10.645645</td>\n",
       "      <td>7.824605</td>\n",
       "    </tr>\n",
       "    <tr>\n",
       "      <th>1458638</th>\n",
       "      <td>0.561108</td>\n",
       "      <td>1.521850</td>\n",
       "      <td>1.092564</td>\n",
       "    </tr>\n",
       "    <tr>\n",
       "      <th>1458639</th>\n",
       "      <td>0.556558</td>\n",
       "      <td>1.548962</td>\n",
       "      <td>1.134042</td>\n",
       "    </tr>\n",
       "  </tbody>\n",
       "</table>\n",
       "<p>1458575 rows × 3 columns</p>\n",
       "</div>"
      ],
      "text/plain": [
       "              area  lengths_sum      dist\n",
       "0         0.383127     1.735433  1.498521\n",
       "1         1.323969     2.430506  1.805507\n",
       "2        13.271941     8.203575  6.385098\n",
       "3         0.276689     1.661331  1.485498\n",
       "4         0.012978     1.199456  1.188588\n",
       "...            ...          ...       ...\n",
       "1458635   0.637264     1.665895  1.225080\n",
       "1458636  14.162379     8.058580  6.049835\n",
       "1458637  26.071424    10.645645  7.824605\n",
       "1458638   0.561108     1.521850  1.092564\n",
       "1458639   0.556558     1.548962  1.134042\n",
       "\n",
       "[1458575 rows x 3 columns]"
      ]
     },
     "execution_count": 102,
     "metadata": {},
     "output_type": "execute_result"
    }
   ],
   "source": [
    "train_df.iloc[:, -3:]"
   ]
  },
  {
   "cell_type": "code",
   "execution_count": 99,
   "metadata": {},
   "outputs": [
    {
     "data": {
      "text/plain": [
       "Index(['pickup_datetime_day_of_week_0', 'pickup_datetime_day_of_week_1',\n",
       "       'pickup_datetime_day_of_week_2', 'pickup_datetime_day_of_week_3',\n",
       "       'pickup_datetime_day_of_week_4', 'pickup_datetime_day_of_week_5',\n",
       "       'pickup_datetime_day_of_week_6', 'pickup_datetime_month_1',\n",
       "       'pickup_datetime_month_2', 'pickup_datetime_month_3',\n",
       "       'pickup_datetime_month_4', 'pickup_datetime_month_5',\n",
       "       'pickup_datetime_month_6', 'vendor_id', 'pickup_datetime',\n",
       "       'passenger_count', 'pickup_longitude', 'pickup_latitude',\n",
       "       'dropoff_longitude', 'dropoff_latitude', 'store_and_fwd_flag',\n",
       "       'pickup_datetime_day', 'pickup_datetime_hour',\n",
       "       'pickup_datetime_is_weekend', 'area', 'lengths_sum', 'dist'],\n",
       "      dtype='object')"
      ]
     },
     "execution_count": 99,
     "metadata": {},
     "output_type": "execute_result"
    }
   ],
   "source": [
    "test_df.columns"
   ]
  },
  {
   "cell_type": "code",
   "execution_count": 100,
   "metadata": {},
   "outputs": [],
   "source": [
    "while curr_col != 'store_and_fwd_flag':\n",
    "    next_col()"
   ]
  },
  {
   "cell_type": "code",
   "execution_count": 101,
   "metadata": {},
   "outputs": [
    {
     "data": {
      "text/plain": [
       "'store_and_fwd_flag'"
      ]
     },
     "execution_count": 101,
     "metadata": {},
     "output_type": "execute_result"
    }
   ],
   "source": [
    "curr_col"
   ]
  },
  {
   "cell_type": "code",
   "execution_count": 103,
   "metadata": {},
   "outputs": [
    {
     "name": "stdout",
     "output_type": "stream",
     "text": [
      "Column: store_and_fwd_flag\n",
      "Train dataset uniques: ['N' 'Y']\n",
      "Test dataset uniques: ['N' 'Y']\n",
      "Train has NaNs: 0\n",
      "Test has NaNs: 0\n"
     ]
    }
   ],
   "source": [
    "describe()"
   ]
  },
  {
   "cell_type": "code",
   "execution_count": 104,
   "metadata": {},
   "outputs": [
    {
     "name": "stderr",
     "output_type": "stream",
     "text": [
      "/home/a3nippo/Progs/sem_6/ML/lab01/nyc-taxi-trip-duration/snippets.py:99: SettingWithCopyWarning: \n",
      "A value is trying to be set on a copy of a slice from a DataFrame.\n",
      "Try using .loc[row_indexer,col_indexer] = value instead\n",
      "\n",
      "See the caveats in the documentation: https://pandas.pydata.org/pandas-docs/stable/user_guide/indexing.html#returning-a-view-versus-a-copy\n",
      "  train_df[column] = le.fit_transform(train_df[column])\n"
     ]
    }
   ],
   "source": [
    "update()\n",
    "le_column()"
   ]
  },
  {
   "cell_type": "code",
   "execution_count": 106,
   "metadata": {},
   "outputs": [
    {
     "name": "stdout",
     "output_type": "stream",
     "text": [
      "Column: store_and_fwd_flag\n",
      "Train dataset uniques: [0 1]\n",
      "Test dataset uniques: [0 1]\n",
      "Train has NaNs: 0\n",
      "Test has NaNs: 0\n"
     ]
    }
   ],
   "source": [
    "describe()"
   ]
  },
  {
   "cell_type": "code",
   "execution_count": 111,
   "metadata": {},
   "outputs": [
    {
     "data": {
      "text/plain": [
       "<matplotlib.axes._subplots.AxesSubplot at 0x7f5d493a7550>"
      ]
     },
     "execution_count": 111,
     "metadata": {},
     "output_type": "execute_result"
    },
    {
     "data": {
      "image/png": "[encoded data removed]",
      "text/plain": [
       "<Figure size 432x288 with 1 Axes>"
      ]
     },
     "metadata": {
      "needs_background": "light"
     },
     "output_type": "display_data"
    }
   ],
   "source": [
    "sns.barplot(\n",
    "    x=curr_col,\n",
    "    y=target,\n",
    "    data=train_df\n",
    ")"
   ]
  },
  {
   "cell_type": "code",
   "execution_count": 113,
   "metadata": {},
   "outputs": [
    {
     "data": {
      "text/html": [
       "<div>\n",
       "<style scoped>\n",
       "    .dataframe tbody tr th:only-of-type {\n",
       "        vertical-align: middle;\n",
       "    }\n",
       "\n",
       "    .dataframe tbody tr th {\n",
       "        vertical-align: top;\n",
       "    }\n",
       "\n",
       "    .dataframe thead th {\n",
       "        text-align: right;\n",
       "    }\n",
       "</style>\n",
       "<table border=\"1\" class=\"dataframe\">\n",
       "  <thead>\n",
       "    <tr style=\"text-align: right;\">\n",
       "      <th></th>\n",
       "      <th>vendor_id</th>\n",
       "      <th>store_and_fwd_flag</th>\n",
       "    </tr>\n",
       "  </thead>\n",
       "  <tbody>\n",
       "    <tr>\n",
       "      <th>vendor_id</th>\n",
       "      <td>1.00000</td>\n",
       "      <td>-0.07986</td>\n",
       "    </tr>\n",
       "    <tr>\n",
       "      <th>store_and_fwd_flag</th>\n",
       "      <td>-0.07986</td>\n",
       "      <td>1.00000</td>\n",
       "    </tr>\n",
       "  </tbody>\n",
       "</table>\n",
       "</div>"
      ],
      "text/plain": [
       "                    vendor_id  store_and_fwd_flag\n",
       "vendor_id             1.00000            -0.07986\n",
       "store_and_fwd_flag   -0.07986             1.00000"
      ]
     },
     "execution_count": 113,
     "metadata": {},
     "output_type": "execute_result"
    }
   ],
   "source": [
    "train_df[['vendor_id', curr_col]].corr()"
   ]
  },
  {
   "cell_type": "code",
   "execution_count": 114,
   "metadata": {},
   "outputs": [
    {
     "ename": "StopIteration",
     "evalue": "",
     "output_type": "error",
     "traceback": [
      "\u001b[0;31m---------------------------------------------------------------------------\u001b[0m",
      "\u001b[0;31mStopIteration\u001b[0m                             Traceback (most recent call last)",
      "\u001b[0;32m<ipython-input-114-990bd9727142>\u001b[0m in \u001b[0;36m<module>\u001b[0;34m\u001b[0m\n\u001b[0;32m----> 1\u001b[0;31m \u001b[0mnext_col\u001b[0m\u001b[0;34m(\u001b[0m\u001b[0;34m)\u001b[0m\u001b[0;34m\u001b[0m\u001b[0;34m\u001b[0m\u001b[0m\n\u001b[0m\u001b[1;32m      2\u001b[0m \u001b[0mdescribe\u001b[0m\u001b[0;34m(\u001b[0m\u001b[0;34m)\u001b[0m\u001b[0;34m\u001b[0m\u001b[0;34m\u001b[0m\u001b[0m\n",
      "\u001b[0;32m<ipython-input-9-e3095a4fb512>\u001b[0m in \u001b[0;36mnext_col\u001b[0;34m()\u001b[0m\n\u001b[1;32m      3\u001b[0m \u001b[0;32mdef\u001b[0m \u001b[0mnext_col\u001b[0m\u001b[0;34m(\u001b[0m\u001b[0;34m)\u001b[0m\u001b[0;34m:\u001b[0m\u001b[0;34m\u001b[0m\u001b[0;34m\u001b[0m\u001b[0m\n\u001b[1;32m      4\u001b[0m     \u001b[0;32mglobal\u001b[0m \u001b[0mcurr_col\u001b[0m\u001b[0;34m\u001b[0m\u001b[0;34m\u001b[0m\u001b[0m\n\u001b[0;32m----> 5\u001b[0;31m     \u001b[0mcurr_col\u001b[0m \u001b[0;34m=\u001b[0m \u001b[0mnext\u001b[0m\u001b[0;34m(\u001b[0m\u001b[0mcol_gen\u001b[0m\u001b[0;34m)\u001b[0m\u001b[0;34m\u001b[0m\u001b[0;34m\u001b[0m\u001b[0m\n\u001b[0m\u001b[1;32m      6\u001b[0m     \u001b[0msnippets\u001b[0m\u001b[0;34m.\u001b[0m\u001b[0mcurr_col\u001b[0m \u001b[0;34m=\u001b[0m \u001b[0mcurr_col\u001b[0m\u001b[0;34m\u001b[0m\u001b[0;34m\u001b[0m\u001b[0m\n\u001b[1;32m      7\u001b[0m     \u001b[0;32mreturn\u001b[0m \u001b[0mcurr_col\u001b[0m\u001b[0;34m\u001b[0m\u001b[0;34m\u001b[0m\u001b[0m\n",
      "\u001b[0;31mStopIteration\u001b[0m: "
     ]
    }
   ],
   "source": [
    "next_col()\n",
    "describe()"
   ]
  },
  {
   "cell_type": "code",
   "execution_count": 117,
   "metadata": {},
   "outputs": [
    {
     "name": "stderr",
     "output_type": "stream",
     "text": [
      "/home/a3nippo/anaconda3/lib/python3.7/site-packages/pandas/core/frame.py:3997: SettingWithCopyWarning: \n",
      "A value is trying to be set on a copy of a slice from a DataFrame\n",
      "\n",
      "See the caveats in the documentation: https://pandas.pydata.org/pandas-docs/stable/user_guide/indexing.html#returning-a-view-versus-a-copy\n",
      "  errors=errors,\n"
     ]
    }
   ],
   "source": [
    "train_df.drop('dropoff_datetime', axis=1, inplace=True)"
   ]
  },
  {
   "cell_type": "code",
   "execution_count": 119,
   "metadata": {},
   "outputs": [
    {
     "data": {
      "text/plain": [
       "Index(['pickup_datetime_day_of_week_0', 'pickup_datetime_day_of_week_1',\n",
       "       'pickup_datetime_day_of_week_2', 'pickup_datetime_day_of_week_3',\n",
       "       'pickup_datetime_day_of_week_4', 'pickup_datetime_day_of_week_5',\n",
       "       'pickup_datetime_day_of_week_6', 'pickup_datetime_month_1',\n",
       "       'pickup_datetime_month_2', 'pickup_datetime_month_3',\n",
       "       'pickup_datetime_month_4', 'pickup_datetime_month_5',\n",
       "       'pickup_datetime_month_6', 'pickup_datetime', 'vendor_id',\n",
       "       'passenger_count', 'pickup_longitude', 'pickup_latitude',\n",
       "       'dropoff_longitude', 'dropoff_latitude', 'store_and_fwd_flag',\n",
       "       'trip_duration', 'pickup_datetime_day', 'pickup_datetime_hour',\n",
       "       'pickup_datetime_is_weekend', 'area', 'lengths_sum', 'dist'],\n",
       "      dtype='object')"
      ]
     },
     "execution_count": 119,
     "metadata": {},
     "output_type": "execute_result"
    }
   ],
   "source": [
    "train_df.columns"
   ]
  },
  {
   "cell_type": "code",
   "execution_count": 131,
   "metadata": {},
   "outputs": [
    {
     "name": "stderr",
     "output_type": "stream",
     "text": [
      "/home/a3nippo/anaconda3/lib/python3.7/site-packages/pandas/core/frame.py:3997: SettingWithCopyWarning: \n",
      "A value is trying to be set on a copy of a slice from a DataFrame\n",
      "\n",
      "See the caveats in the documentation: https://pandas.pydata.org/pandas-docs/stable/user_guide/indexing.html#returning-a-view-versus-a-copy\n",
      "  errors=errors,\n"
     ]
    }
   ],
   "source": [
    "update()\n",
    "drop_column('pickup_datetime')"
   ]
  },
  {
   "cell_type": "markdown",
   "metadata": {},
   "source": [
    "# Feature importances"
   ]
  },
  {
   "cell_type": "code",
   "execution_count": 138,
   "metadata": {},
   "outputs": [],
   "source": [
    "train_df.to_csv('cleaned_train.csv', index=False)\n",
    "test_df.to_csv('cleaned_test.csv', index=False)"
   ]
  },
  {
   "cell_type": "code",
   "execution_count": 161,
   "metadata": {},
   "outputs": [],
   "source": [
    "train_df = pd.read_csv('cleaned_train.csv')"
   ]
  },
  {
   "cell_type": "code",
   "execution_count": 168,
   "metadata": {},
   "outputs": [],
   "source": [
    "from sklearn.preprocessing import StandardScaler\n",
    "from sklearn.model_selection import train_test_split\n",
    "\n",
    "target = 'trip_duration'\n",
    "\n",
    "X = train_df.drop(target, axis=1)\n",
    "X = StandardScaler().fit_transform(X)\n",
    "y = train_df[[target]]\n",
    "\n",
    "X_train, X_test, y_train, y_test = train_test_split(\n",
    "    X, y, test_size=0.33, random_state=42\n",
    ")"
   ]
  },
  {
   "cell_type": "code",
   "execution_count": 174,
   "metadata": {},
   "outputs": [
    {
     "data": {
      "text/plain": [
       "array([[ 728.94042895],\n",
       "       [ 768.09142304],\n",
       "       [ 627.23779252],\n",
       "       ...,\n",
       "       [ 901.4063199 ],\n",
       "       [1454.81046612],\n",
       "       [ 774.30619375]])"
      ]
     },
     "execution_count": 174,
     "metadata": {},
     "output_type": "execute_result"
    }
   ],
   "source": [
    "np.abs(predictions_ridge)"
   ]
  },
  {
   "cell_type": "code",
   "execution_count": 175,
   "metadata": {},
   "outputs": [],
   "source": [
    "from sklearn.tree import DecisionTreeRegressor as DTR\n",
    "from sklearn.linear_model import Ridge\n",
    "from sklearn.metrics import mean_squared_log_error\n",
    "\n",
    "model_ridge = Ridge()\n",
    "model_dtr = DTR(min_samples_leaf=500)\n",
    "\n",
    "model_ridge.fit(X_train, y_train)\n",
    "model_dtr.fit(X_train, y_train)\n",
    "\n",
    "predictions_ridge = model_ridge.predict(X_test)\n",
    "predictions_ridge = np.abs(predictions_ridge)  # just to get score...\n",
    "\n",
    "predictions_dtr = model_dtr.predict(X_test)\n",
    "\n",
    "score_ridge = np.sqrt(mean_squared_log_error(\n",
    "    y_test,\n",
    "    predictions_ridge\n",
    "))\n",
    "\n",
    "score_dtr = np.sqrt(mean_squared_log_error(\n",
    "    y_test, \n",
    "    predictions_dtr\n",
    "))"
   ]
  },
  {
   "cell_type": "code",
   "execution_count": 185,
   "metadata": {},
   "outputs": [
    {
     "data": {
      "text/plain": [
       "array([ -26.68972997,    6.6253351 ,    9.7492935 ,   16.059733  ,\n",
       "         11.01311071,    2.49805315,  -21.6661016 ,  -19.18974498,\n",
       "        -12.25270705,   -7.37764845,    4.24634749,   14.06578041,\n",
       "         20.24668684,  106.93569195,   10.06965298,   45.34458381,\n",
       "          6.52869919,   21.25054501,   -9.74470493,    3.67488711,\n",
       "          5.02995524,   22.63178775,  -14.35759421, -173.19351379,\n",
       "        148.26372337,  386.08861066])"
      ]
     },
     "execution_count": 185,
     "metadata": {},
     "output_type": "execute_result"
    }
   ],
   "source": [
    "model_ridge.coef_.ravel()"
   ]
  },
  {
   "cell_type": "code",
   "execution_count": 186,
   "metadata": {},
   "outputs": [
    {
     "name": "stdout",
     "output_type": "stream",
     "text": [
      "Ridge\n",
      "Score: 0.665201\n"
     ]
    },
    {
     "data": {
      "text/plain": [
       "<matplotlib.axes._subplots.AxesSubplot at 0x7f5d2e68ec90>"
      ]
     },
     "execution_count": 186,
     "metadata": {},
     "output_type": "execute_result"
    },
    {
     "data": {
      "image/png": "[encoded data removed]",
      "text/plain": [
       "<Figure size 2160x720 with 1 Axes>"
      ]
     },
     "metadata": {
      "needs_background": "light"
     },
     "output_type": "display_data"
    }
   ],
   "source": [
    "result_importances = model_ridge.coef_.ravel()\n",
    "\n",
    "top10 = result_importances.argsort()[-10:]\n",
    "\n",
    "f, ax = plt.subplots(1, 1, figsize=(30, 10))\n",
    "\n",
    "print('Ridge')\n",
    "print(\"Score: %f\" % score_ridge)\n",
    "\n",
    "sns.barplot(\n",
    "    train_df.columns[top10], \n",
    "    result_importances[top10], \n",
    "    ax=ax,\n",
    "    order=train_df.columns[top10]\n",
    ")"
   ]
  },
  {
   "cell_type": "code",
   "execution_count": 180,
   "metadata": {},
   "outputs": [
    {
     "name": "stdout",
     "output_type": "stream",
     "text": [
      "DecisionTree\n",
      "Score: 0.579538\n"
     ]
    },
    {
     "data": {
      "text/plain": [
       "<matplotlib.axes._subplots.AxesSubplot at 0x7f5cc8ae7750>"
      ]
     },
     "execution_count": 180,
     "metadata": {},
     "output_type": "execute_result"
    },
    {
     "data": {
      "image/png": "[encoded data removed]",
      "text/plain": [
       "<Figure size 2160x720 with 1 Axes>"
      ]
     },
     "metadata": {
      "needs_background": "light"
     },
     "output_type": "display_data"
    }
   ],
   "source": [
    "result_importances = model_dtr.feature_importances_\n",
    "\n",
    "top10 = result_importances.argsort()[-10:]\n",
    "\n",
    "f, ax = plt.subplots(1, 1, figsize=(30, 10))\n",
    "\n",
    "print('DecisionTree')\n",
    "print(\"Score: %f\" % score_dtr)\n",
    "\n",
    "sns.barplot(\n",
    "    train_df.columns[top10], \n",
    "    result_importances[top10], \n",
    "    ax=ax,\n",
    "    order=train_df.columns[top10]\n",
    ")"
   ]
  },
  {
   "cell_type": "code",
   "execution_count": null,
   "metadata": {},
   "outputs": [],
   "source": []
  }
 ],
 "metadata": {
  "kernelspec": {
   "display_name": "Python 3",
   "language": "python",
   "name": "python3"
  },
  "language_info": {
   "codemirror_mode": {
    "name": "ipython",
    "version": 3
   },
   "file_extension": ".py",
   "mimetype": "text/x-python",
   "name": "python",
   "nbconvert_exporter": "python",
   "pygments_lexer": "ipython3",
   "version": "3.7.5"
  }
 },
 "nbformat": 4,
 "nbformat_minor": 4
}
