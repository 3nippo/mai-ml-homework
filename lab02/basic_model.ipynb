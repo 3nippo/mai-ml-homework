{
 "cells": [
  {
   "cell_type": "code",
   "execution_count": 1,
   "metadata": {},
   "outputs": [],
   "source": [
    "class BasicModel:\n",
    "    def check_value_and_set(self, name, value, allowed):\n",
    "        message = \"Wrong {}: '{}'\\n\\nAllowed values: {}\"\n",
    "        \n",
    "        if value not in allowed:\n",
    "            raise ValueError(message.format(\n",
    "                name,\n",
    "                value,\n",
    "                allowed\n",
    "            ))\n",
    "        \n",
    "        setattr(self, name, value)\n",
    "        \n",
    "    def check_value_type_and_set(self, name, value, allowed):\n",
    "        message = \"Wrong {} type: '{}'\\n\\nAllowed types: {}\"\n",
    "        \n",
    "        if not isinstance(value, allowed):\n",
    "            raise TypeError(message.format(\n",
    "                name,\n",
    "                value,\n",
    "                allowed\n",
    "            ))\n",
    "        \n",
    "        setattr(self, name, value)"
   ]
  },
  {
   "cell_type": "code",
   "execution_count": null,
   "metadata": {},
   "outputs": [],
   "source": []
  }
 ],
 "metadata": {
  "kernelspec": {
   "display_name": "Python 3",
   "language": "python",
   "name": "python3"
  },
  "language_info": {
   "codemirror_mode": {
    "name": "ipython",
    "version": 3
   },
   "file_extension": ".py",
   "mimetype": "text/x-python",
   "name": "python",
   "nbconvert_exporter": "python",
   "pygments_lexer": "ipython3",
   "version": "3.7.5"
  }
 },
 "nbformat": 4,
 "nbformat_minor": 4
}
