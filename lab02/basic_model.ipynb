{
 "cells": [
  {
   "cell_type": "code",
   "execution_count": 2,
   "metadata": {},
   "outputs": [],
   "source": [
    "class BasicModel:\n",
    "    def check_value_and_set(self, name, value, allowed):\n",
    "        message = \"Wrong {}: '{}'\\n\\nAllowed values: {}\"\n",
    "        \n",
    "        if value not in allowed:\n",
    "            raise ValueError(message.format(\n",
    "                name,\n",
    "                value,\n",
    "                allowed\n",
    "            ))\n",
    "        \n",
    "        setattr(self, name, value)\n",
    "        \n",
    "    def check_value_type_and_set(self, name, value, allowed):\n",
    "        message = \"Wrong {} type: '{}'\\n\\nAllowed types: {}\"\n",
    "        \n",
    "        if not isinstance(value, allowed):\n",
    "            raise TypeError(message.format(\n",
    "                name,\n",
    "                value,\n",
    "                allowed\n",
    "            ))\n",
    "        \n",
    "        setattr(self, name, value)\n",
    "        \n",
    "    def check_and_transform_X(self, X):\n",
    "        assert \\\n",
    "            len(X.shape) == 2, \\\n",
    "            \"X should be 2D vector\"\n",
    "        \n",
    "        if isinstance(X, pd.DataFrame):\n",
    "            X = X.to_numpy()\n",
    "        \n",
    "        return X\n",
    "    \n",
    "    def check_and_transform_y(self, X, y):\n",
    "        assert \\\n",
    "            y.shape == (X.shape[0], 1), \\\n",
    "            \"y should be 2D vector and should correspond to X\"\n",
    "        \n",
    "        if isinstance(y, (pd.DataFrame, pd.Series)):\n",
    "            y = y.to_numpy()\n",
    "            \n",
    "        return y"
   ]
  },
  {
   "cell_type": "code",
   "execution_count": null,
   "metadata": {},
   "outputs": [],
   "source": []
  }
 ],
 "metadata": {
  "kernelspec": {
   "display_name": "Python 3",
   "language": "python",
   "name": "python3"
  },
  "language_info": {
   "codemirror_mode": {
    "name": "ipython",
    "version": 3
   },
   "file_extension": ".py",
   "mimetype": "text/x-python",
   "name": "python",
   "nbconvert_exporter": "python",
   "pygments_lexer": "ipython3",
   "version": "3.7.5"
  }
 },
 "nbformat": 4,
 "nbformat_minor": 4
}
