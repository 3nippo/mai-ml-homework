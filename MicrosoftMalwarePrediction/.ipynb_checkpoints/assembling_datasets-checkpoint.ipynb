{
 "cells": [
  {
   "cell_type": "code",
   "execution_count": 5,
   "metadata": {},
   "outputs": [],
   "source": [
    "%config Completer.use_jedi = False\n",
    "\n",
    "import pandas as pd\n",
    "\n",
    "import numpy as np\n",
    "import matplotlib.pyplot as plt\n",
    "import seaborn as sns\n",
    "\n",
    "import pickle"
   ]
  },
  {
   "cell_type": "code",
   "execution_count": 6,
   "metadata": {},
   "outputs": [],
   "source": [
    "import glob\n",
    "import csv\n",
    "\n",
    "training_col_file_names = glob.glob('./train_*.csv') + ['./target.csv']\n",
    "testing_col_file_names = glob.glob('./test_*.csv')\n",
    "\n",
    "def assembly_col_files(col_files_names, result_name):    \n",
    "    with open(result_name, 'w') as output:\n",
    "        writer = csv.writer(output)\n",
    "        \n",
    "        col_files = [open(name) for name in col_files_names]\n",
    "        col_readers = [csv.reader(file) for file in col_files]\n",
    "        \n",
    "        while True:\n",
    "            readed_values = []\n",
    "\n",
    "            try:\n",
    "                for reader in col_readers:\n",
    "                    readed_values.extend(next(reader))\n",
    "            except StopIteration:\n",
    "#                 print(col_readers.index(reader))\n",
    "                break\n",
    "\n",
    "            for i, value in enumerate(readed_values):\n",
    "                if value == 'False':\n",
    "                    readed_values[i] = 0\n",
    "                elif value == 'True':\n",
    "                    readed_values[i] = 1\n",
    "                elif value[-2:] == '.0':\n",
    "                    readed_values[i] = value[:-2]\n",
    "\n",
    "            writer.writerow(readed_values)\n",
    "        \n",
    "        for file in col_files:\n",
    "            file.close()"
   ]
  },
  {
   "cell_type": "code",
   "execution_count": 7,
   "metadata": {},
   "outputs": [],
   "source": [
    "assembly_col_files(training_col_file_names, 'cleaned_train.csv')"
   ]
  },
  {
   "cell_type": "code",
   "execution_count": 8,
   "metadata": {},
   "outputs": [],
   "source": [
    "! rm train_* "
   ]
  },
  {
   "cell_type": "code",
   "execution_count": 9,
   "metadata": {},
   "outputs": [
    {
     "name": "stdout",
     "output_type": "stream",
     "text": [
      "mv: error writing '/run/media/a3nippo/MULTIBOOT/train.csv': File too large\r\n"
     ]
    }
   ],
   "source": [
    "! rm train.csv"
   ]
  },
  {
   "cell_type": "code",
   "execution_count": 10,
   "metadata": {},
   "outputs": [],
   "source": [
    "assembly_col_files(testing_col_file_names, 'cleaned_test.csv')"
   ]
  },
  {
   "cell_type": "code",
   "execution_count": 11,
   "metadata": {},
   "outputs": [],
   "source": [
    "! rm test_* "
   ]
  },
  {
   "cell_type": "code",
   "execution_count": 12,
   "metadata": {},
   "outputs": [],
   "source": [
    "! rm test.csv"
   ]
  },
  {
   "cell_type": "code",
   "execution_count": null,
   "metadata": {},
   "outputs": [],
   "source": []
  }
 ],
 "metadata": {
  "kernelspec": {
   "display_name": "Python 3",
   "language": "python",
   "name": "python3"
  },
  "language_info": {
   "codemirror_mode": {
    "name": "ipython",
    "version": 3
   },
   "file_extension": ".py",
   "mimetype": "text/x-python",
   "name": "python",
   "nbconvert_exporter": "python",
   "pygments_lexer": "ipython3",
   "version": "3.7.5"
  }
 },
 "nbformat": 4,
 "nbformat_minor": 4
}
