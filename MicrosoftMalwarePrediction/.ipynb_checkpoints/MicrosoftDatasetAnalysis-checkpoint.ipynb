{
 "cells": [
  {
   "cell_type": "code",
   "execution_count": 2,
   "metadata": {},
   "outputs": [],
   "source": [
    "import pandas as pd\n",
    "import numpy as np\n",
    "from matplotlib import pyplot as plt\n",
    "import seaborn as sns"
   ]
  },
  {
   "cell_type": "markdown",
   "metadata": {},
   "source": [
    "# Задача --- научиться предсказывать по фичам будет ли заражён ПК. Таргет: HasDetections"
   ]
  },
  {
   "cell_type": "markdown",
   "metadata": {},
   "source": [
    "# Проблема 1 --- датасет очень большой"
   ]
  },
  {
   "cell_type": "markdown",
   "metadata": {},
   "source": [
    "1) Нельзя просто взять и выполнить какой-то метод Pandas на всём датасете. Придётся разбить его на чанки и анализировать какой-то один из них. Остальные обрабатывать по тому же шаблону. Конечно, могут возникнуть новые проблемы, которых не было в нашем выбранном чанке. Если такое будет, то придётся адаптировать наш шаблон.\n",
    "\n",
    "P.S. По крайней мере я не нашёл ничего получше (либо нашёл, но мне не понрвилось исполнение)"
   ]
  },
  {
   "cell_type": "code",
   "execution_count": 3,
   "metadata": {},
   "outputs": [],
   "source": [
    "def init_read_from_df():\n",
    "    train_df = pd.read_csv('train.csv', chunksize=100000)\n",
    "    test_df = pd.read_csv('test.csv', chunksize=100000)\n",
    "    \n",
    "    return train_df, test_df"
   ]
  },
  {
   "cell_type": "code",
   "execution_count": 4,
   "metadata": {},
   "outputs": [],
   "source": [
    "train_df, test_df = init_read_from_df()"
   ]
  },
  {
   "cell_type": "code",
   "execution_count": 5,
   "metadata": {},
   "outputs": [
    {
     "name": "stderr",
     "output_type": "stream",
     "text": [
      "/home/a3nippo/anaconda3/lib/python3.7/site-packages/IPython/core/async_helpers.py:68: DtypeWarning: Columns (28) have mixed types.Specify dtype option on import or set low_memory=False.\n",
      "  coro.send(None)\n"
     ]
    }
   ],
   "source": [
    "first_chunk = train_df.get_chunk()"
   ]
  },
  {
   "cell_type": "markdown",
   "metadata": {},
   "source": [
    "# Посмотрим на общую информацию"
   ]
  },
  {
   "cell_type": "code",
   "execution_count": 6,
   "metadata": {},
   "outputs": [
    {
     "data": {
      "text/plain": [
       "(100000, 83)"
      ]
     },
     "execution_count": 6,
     "metadata": {},
     "output_type": "execute_result"
    }
   ],
   "source": [
    "first_chunk.shape"
   ]
  },
  {
   "cell_type": "code",
   "execution_count": 7,
   "metadata": {},
   "outputs": [
    {
     "name": "stdout",
     "output_type": "stream",
     "text": [
      "<class 'pandas.core.frame.DataFrame'>\n",
      "RangeIndex: 100000 entries, 0 to 99999\n",
      "Data columns (total 83 columns):\n",
      " #   Column                                             Non-Null Count   Dtype  \n",
      "---  ------                                             --------------   -----  \n",
      " 0   MachineIdentifier                                  100000 non-null  object \n",
      " 1   ProductName                                        100000 non-null  object \n",
      " 2   EngineVersion                                      100000 non-null  object \n",
      " 3   AppVersion                                         100000 non-null  object \n",
      " 4   AvSigVersion                                       100000 non-null  object \n",
      " 5   IsBeta                                             100000 non-null  int64  \n",
      " 6   RtpStateBitfield                                   99639 non-null   float64\n",
      " 7   IsSxsPassiveMode                                   100000 non-null  int64  \n",
      " 8   DefaultBrowsersIdentifier                          4890 non-null    float64\n",
      " 9   AVProductStatesIdentifier                          99607 non-null   float64\n",
      " 10  AVProductsInstalled                                99607 non-null   float64\n",
      " 11  AVProductsEnabled                                  99607 non-null   float64\n",
      " 12  HasTpm                                             100000 non-null  int64  \n",
      " 13  CountryIdentifier                                  100000 non-null  int64  \n",
      " 14  CityIdentifier                                     96385 non-null   float64\n",
      " 15  OrganizationIdentifier                             69336 non-null   float64\n",
      " 16  GeoNameIdentifier                                  99999 non-null   float64\n",
      " 17  LocaleEnglishNameIdentifier                        100000 non-null  int64  \n",
      " 18  Platform                                           100000 non-null  object \n",
      " 19  Processor                                          100000 non-null  object \n",
      " 20  OsVer                                              100000 non-null  object \n",
      " 21  OsBuild                                            100000 non-null  int64  \n",
      " 22  OsSuite                                            100000 non-null  int64  \n",
      " 23  OsPlatformSubRelease                               100000 non-null  object \n",
      " 24  OsBuildLab                                         99999 non-null   object \n",
      " 25  SkuEdition                                         100000 non-null  object \n",
      " 26  IsProtected                                        99609 non-null   float64\n",
      " 27  AutoSampleOptIn                                    100000 non-null  int64  \n",
      " 28  PuaMode                                            31 non-null      object \n",
      " 29  SMode                                              94068 non-null   float64\n",
      " 30  IeVerIdentifier                                    99335 non-null   float64\n",
      " 31  SmartScreen                                        64269 non-null   object \n",
      " 32  Firewall                                           98924 non-null   float64\n",
      " 33  UacLuaenable                                       99884 non-null   float64\n",
      " 34  Census_MDC2FormFactor                              100000 non-null  object \n",
      " 35  Census_DeviceFamily                                100000 non-null  object \n",
      " 36  Census_OEMNameIdentifier                           98946 non-null   float64\n",
      " 37  Census_OEMModelIdentifier                          98853 non-null   float64\n",
      " 38  Census_ProcessorCoreCount                          99524 non-null   float64\n",
      " 39  Census_ProcessorManufacturerIdentifier             99524 non-null   float64\n",
      " 40  Census_ProcessorModelIdentifier                    99523 non-null   float64\n",
      " 41  Census_ProcessorClass                              427 non-null     object \n",
      " 42  Census_PrimaryDiskTotalCapacity                    99390 non-null   float64\n",
      " 43  Census_PrimaryDiskTypeName                         99839 non-null   object \n",
      " 44  Census_SystemVolumeTotalCapacity                   99390 non-null   float64\n",
      " 45  Census_HasOpticalDiskDrive                         100000 non-null  int64  \n",
      " 46  Census_TotalPhysicalRAM                            99079 non-null   float64\n",
      " 47  Census_ChassisTypeName                             99994 non-null   object \n",
      " 48  Census_InternalPrimaryDiagonalDisplaySizeInInches  99470 non-null   float64\n",
      " 49  Census_InternalPrimaryDisplayResolutionHorizontal  99471 non-null   float64\n",
      " 50  Census_InternalPrimaryDisplayResolutionVertical    99471 non-null   float64\n",
      " 51  Census_PowerPlatformRoleName                       100000 non-null  object \n",
      " 52  Census_InternalBatteryType                         28760 non-null   object \n",
      " 53  Census_InternalBatteryNumberOfCharges              96951 non-null   float64\n",
      " 54  Census_OSVersion                                   100000 non-null  object \n",
      " 55  Census_OSArchitecture                              100000 non-null  object \n",
      " 56  Census_OSBranch                                    100000 non-null  object \n",
      " 57  Census_OSBuildNumber                               100000 non-null  int64  \n",
      " 58  Census_OSBuildRevision                             100000 non-null  int64  \n",
      " 59  Census_OSEdition                                   100000 non-null  object \n",
      " 60  Census_OSSkuName                                   100000 non-null  object \n",
      " 61  Census_OSInstallTypeName                           100000 non-null  object \n",
      " 62  Census_OSInstallLanguageIdentifier                 99318 non-null   float64\n",
      " 63  Census_OSUILocaleIdentifier                        100000 non-null  int64  \n",
      " 64  Census_OSWUAutoUpdateOptionsName                   100000 non-null  object \n",
      " 65  Census_IsPortableOperatingSystem                   100000 non-null  int64  \n",
      " 66  Census_GenuineStateName                            100000 non-null  object \n",
      " 67  Census_ActivationChannel                           100000 non-null  object \n",
      " 68  Census_IsFlightingInternal                         16837 non-null   float64\n",
      " 69  Census_IsFlightsDisabled                           98187 non-null   float64\n",
      " 70  Census_FlightRing                                  100000 non-null  object \n",
      " 71  Census_ThresholdOptIn                              36262 non-null   float64\n",
      " 72  Census_FirmwareManufacturerIdentifier              97912 non-null   float64\n",
      " 73  Census_FirmwareVersionIdentifier                   98167 non-null   float64\n",
      " 74  Census_IsSecureBootEnabled                         100000 non-null  int64  \n",
      " 75  Census_IsWIMBootEnabled                            36341 non-null   float64\n",
      " 76  Census_IsVirtualDevice                             99815 non-null   float64\n",
      " 77  Census_IsTouchEnabled                              100000 non-null  int64  \n",
      " 78  Census_IsPenCapable                                100000 non-null  int64  \n",
      " 79  Census_IsAlwaysOnAlwaysConnectedCapable            99157 non-null   float64\n",
      " 80  Wdft_IsGamer                                       96585 non-null   float64\n",
      " 81  Wdft_RegionIdentifier                              96585 non-null   float64\n",
      " 82  HasDetections                                      100000 non-null  int64  \n",
      "dtypes: float64(36), int64(17), object(30)\n",
      "memory usage: 63.3+ MB\n"
     ]
    }
   ],
   "source": [
    "first_chunk.info()"
   ]
  },
  {
   "cell_type": "markdown",
   "metadata": {},
   "source": [
    "# Проблема 2 --- излишний вес стоблцов"
   ]
  },
  {
   "cell_type": "markdown",
   "metadata": {},
   "source": [
    "### Не факт, что это так, но стоит это проверить. Пройдёмся по всем чанкам и посмотрим максимальные и минимальные значения. Может даже удастся перейти от работы с чанками к работе с целым датасетом."
   ]
  },
  {
   "cell_type": "code",
   "execution_count": 8,
   "metadata": {},
   "outputs": [
    {
     "name": "stderr",
     "output_type": "stream",
     "text": [
      "/home/a3nippo/anaconda3/lib/python3.7/site-packages/IPython/core/interactiveshell.py:3254: DtypeWarning: Columns (28) have mixed types.Specify dtype option on import or set low_memory=False.\n",
      "  if (await self.run_code(code, result,  async_=asy)):\n",
      "/home/a3nippo/anaconda3/lib/python3.7/site-packages/IPython/core/interactiveshell.py:3254: DtypeWarning: Columns (28,41) have mixed types.Specify dtype option on import or set low_memory=False.\n",
      "  if (await self.run_code(code, result,  async_=asy)):\n"
     ]
    }
   ],
   "source": [
    "train_df, test_df = init_read_from_df()\n",
    "\n",
    "max_vals = {}\n",
    "min_vals = {}\n",
    "nan_cols = set()\n",
    "\n",
    "def init_vals(df):\n",
    "    for chunk in df:\n",
    "        nan_cols.update(chunk.columns[chunk.isna().any()])\n",
    "        \n",
    "        chunk = chunk.select_dtypes(exclude='object')\n",
    "\n",
    "        for col in chunk.columns:\n",
    "            max_value = chunk[col].max()\n",
    "            max_vals[col] = max(max_vals.get(col, max_value), max_value)\n",
    "\n",
    "            min_value = chunk[col].min()\n",
    "            min_vals[col] = min(min_vals.get(col, min_value), min_value)\n",
    "\n",
    "init_vals(train_df)\n",
    "init_vals(test_df)"
   ]
  },
  {
   "cell_type": "code",
   "execution_count": 9,
   "metadata": {},
   "outputs": [],
   "source": [
    "float_dtypes = [np.float16, np.float32, np.float64]\n",
    "uint_dtypes = [np.uint8, np.uint16, np.uint32, np.uint64]\n",
    "int_dtypes = [np.int8, np.int16, np.int32, np.int64]\n",
    "\n",
    "float_finfo = [np.finfo(el) for el in float_dtypes]\n",
    "uint_iinfo = [np.iinfo(el) for el in uint_dtypes]\n",
    "int_iinfo = [np.iinfo(el) for el in int_dtypes]"
   ]
  },
  {
   "cell_type": "code",
   "execution_count": 10,
   "metadata": {},
   "outputs": [],
   "source": [
    "def choose_type(col, dtypes, dtype_infos):\n",
    "    for dtype, dtype_info in zip(dtypes, dtype_infos):\n",
    "        if max_vals[col] <= dtype_info.max and \\\n",
    "           min_vals[col] >= dtype_info.min:\n",
    "            return dtype\n",
    "\n",
    "def get_suitable_dtype(col):\n",
    "    if type(max_vals[col]) == float or \\\n",
    "       col in nan_cols:\n",
    "        return choose_type(col, float_dtypes, float_finfo)\n",
    "    \n",
    "    if min_vals[col] < 0:\n",
    "        return choose_type(col, int_dtypes, int_iinfo)\n",
    "    \n",
    "    return choose_type(col, uint_dtypes, uint_iinfo)"
   ]
  },
  {
   "cell_type": "code",
   "execution_count": 11,
   "metadata": {},
   "outputs": [],
   "source": [
    "suitable_dtypes = [(col, get_suitable_dtype(col)) for col in max_vals]\n",
    "suitable_dtypes = dict(suitable_dtypes)"
   ]
  },
  {
   "cell_type": "code",
   "execution_count": 12,
   "metadata": {},
   "outputs": [
    {
     "name": "stdout",
     "output_type": "stream",
     "text": [
      "<class 'pandas.core.frame.DataFrame'>\n",
      "RangeIndex: 100000 entries, 0 to 99999\n",
      "Data columns (total 83 columns):\n",
      " #   Column                                             Non-Null Count   Dtype  \n",
      "---  ------                                             --------------   -----  \n",
      " 0   MachineIdentifier                                  100000 non-null  object \n",
      " 1   ProductName                                        100000 non-null  object \n",
      " 2   EngineVersion                                      100000 non-null  object \n",
      " 3   AppVersion                                         100000 non-null  object \n",
      " 4   AvSigVersion                                       100000 non-null  object \n",
      " 5   IsBeta                                             100000 non-null  int64  \n",
      " 6   RtpStateBitfield                                   99639 non-null   float64\n",
      " 7   IsSxsPassiveMode                                   100000 non-null  int64  \n",
      " 8   DefaultBrowsersIdentifier                          4890 non-null    float64\n",
      " 9   AVProductStatesIdentifier                          99607 non-null   float64\n",
      " 10  AVProductsInstalled                                99607 non-null   float64\n",
      " 11  AVProductsEnabled                                  99607 non-null   float64\n",
      " 12  HasTpm                                             100000 non-null  int64  \n",
      " 13  CountryIdentifier                                  100000 non-null  int64  \n",
      " 14  CityIdentifier                                     96385 non-null   float64\n",
      " 15  OrganizationIdentifier                             69336 non-null   float64\n",
      " 16  GeoNameIdentifier                                  99999 non-null   float64\n",
      " 17  LocaleEnglishNameIdentifier                        100000 non-null  int64  \n",
      " 18  Platform                                           100000 non-null  object \n",
      " 19  Processor                                          100000 non-null  object \n",
      " 20  OsVer                                              100000 non-null  object \n",
      " 21  OsBuild                                            100000 non-null  int64  \n",
      " 22  OsSuite                                            100000 non-null  int64  \n",
      " 23  OsPlatformSubRelease                               100000 non-null  object \n",
      " 24  OsBuildLab                                         99999 non-null   object \n",
      " 25  SkuEdition                                         100000 non-null  object \n",
      " 26  IsProtected                                        99609 non-null   float64\n",
      " 27  AutoSampleOptIn                                    100000 non-null  int64  \n",
      " 28  PuaMode                                            31 non-null      object \n",
      " 29  SMode                                              94068 non-null   float64\n",
      " 30  IeVerIdentifier                                    99335 non-null   float64\n",
      " 31  SmartScreen                                        64269 non-null   object \n",
      " 32  Firewall                                           98924 non-null   float64\n",
      " 33  UacLuaenable                                       99884 non-null   float64\n",
      " 34  Census_MDC2FormFactor                              100000 non-null  object \n",
      " 35  Census_DeviceFamily                                100000 non-null  object \n",
      " 36  Census_OEMNameIdentifier                           98946 non-null   float64\n",
      " 37  Census_OEMModelIdentifier                          98853 non-null   float64\n",
      " 38  Census_ProcessorCoreCount                          99524 non-null   float64\n",
      " 39  Census_ProcessorManufacturerIdentifier             99524 non-null   float64\n",
      " 40  Census_ProcessorModelIdentifier                    99523 non-null   float64\n",
      " 41  Census_ProcessorClass                              427 non-null     object \n",
      " 42  Census_PrimaryDiskTotalCapacity                    99390 non-null   float64\n",
      " 43  Census_PrimaryDiskTypeName                         99839 non-null   object \n",
      " 44  Census_SystemVolumeTotalCapacity                   99390 non-null   float64\n",
      " 45  Census_HasOpticalDiskDrive                         100000 non-null  int64  \n",
      " 46  Census_TotalPhysicalRAM                            99079 non-null   float64\n",
      " 47  Census_ChassisTypeName                             99994 non-null   object \n",
      " 48  Census_InternalPrimaryDiagonalDisplaySizeInInches  99470 non-null   float64\n",
      " 49  Census_InternalPrimaryDisplayResolutionHorizontal  99471 non-null   float64\n",
      " 50  Census_InternalPrimaryDisplayResolutionVertical    99471 non-null   float64\n",
      " 51  Census_PowerPlatformRoleName                       100000 non-null  object \n",
      " 52  Census_InternalBatteryType                         28760 non-null   object \n",
      " 53  Census_InternalBatteryNumberOfCharges              96951 non-null   float64\n",
      " 54  Census_OSVersion                                   100000 non-null  object \n",
      " 55  Census_OSArchitecture                              100000 non-null  object \n",
      " 56  Census_OSBranch                                    100000 non-null  object \n",
      " 57  Census_OSBuildNumber                               100000 non-null  int64  \n",
      " 58  Census_OSBuildRevision                             100000 non-null  int64  \n",
      " 59  Census_OSEdition                                   100000 non-null  object \n",
      " 60  Census_OSSkuName                                   100000 non-null  object \n",
      " 61  Census_OSInstallTypeName                           100000 non-null  object \n",
      " 62  Census_OSInstallLanguageIdentifier                 99318 non-null   float64\n",
      " 63  Census_OSUILocaleIdentifier                        100000 non-null  int64  \n",
      " 64  Census_OSWUAutoUpdateOptionsName                   100000 non-null  object \n",
      " 65  Census_IsPortableOperatingSystem                   100000 non-null  int64  \n",
      " 66  Census_GenuineStateName                            100000 non-null  object \n",
      " 67  Census_ActivationChannel                           100000 non-null  object \n",
      " 68  Census_IsFlightingInternal                         16837 non-null   float64\n",
      " 69  Census_IsFlightsDisabled                           98187 non-null   float64\n",
      " 70  Census_FlightRing                                  100000 non-null  object \n",
      " 71  Census_ThresholdOptIn                              36262 non-null   float64\n",
      " 72  Census_FirmwareManufacturerIdentifier              97912 non-null   float64\n",
      " 73  Census_FirmwareVersionIdentifier                   98167 non-null   float64\n",
      " 74  Census_IsSecureBootEnabled                         100000 non-null  int64  \n",
      " 75  Census_IsWIMBootEnabled                            36341 non-null   float64\n",
      " 76  Census_IsVirtualDevice                             99815 non-null   float64\n",
      " 77  Census_IsTouchEnabled                              100000 non-null  int64  \n",
      " 78  Census_IsPenCapable                                100000 non-null  int64  \n",
      " 79  Census_IsAlwaysOnAlwaysConnectedCapable            99157 non-null   float64\n",
      " 80  Wdft_IsGamer                                       96585 non-null   float64\n",
      " 81  Wdft_RegionIdentifier                              96585 non-null   float64\n",
      " 82  HasDetections                                      100000 non-null  int64  \n",
      "dtypes: float64(36), int64(17), object(30)\n",
      "memory usage: 63.3+ MB\n"
     ]
    }
   ],
   "source": [
    "first_chunk.info()"
   ]
  },
  {
   "cell_type": "code",
   "execution_count": 13,
   "metadata": {},
   "outputs": [],
   "source": [
    "for col in max_vals:\n",
    "    first_chunk[col] = first_chunk[col].astype(suitable_dtypes[col])"
   ]
  },
  {
   "cell_type": "code",
   "execution_count": 14,
   "metadata": {},
   "outputs": [
    {
     "name": "stdout",
     "output_type": "stream",
     "text": [
      "<class 'pandas.core.frame.DataFrame'>\n",
      "RangeIndex: 100000 entries, 0 to 99999\n",
      "Data columns (total 83 columns):\n",
      " #   Column                                             Non-Null Count   Dtype  \n",
      "---  ------                                             --------------   -----  \n",
      " 0   MachineIdentifier                                  100000 non-null  object \n",
      " 1   ProductName                                        100000 non-null  object \n",
      " 2   EngineVersion                                      100000 non-null  object \n",
      " 3   AppVersion                                         100000 non-null  object \n",
      " 4   AvSigVersion                                       100000 non-null  object \n",
      " 5   IsBeta                                             100000 non-null  uint8  \n",
      " 6   RtpStateBitfield                                   99639 non-null   float16\n",
      " 7   IsSxsPassiveMode                                   100000 non-null  uint8  \n",
      " 8   DefaultBrowsersIdentifier                          4890 non-null    float16\n",
      " 9   AVProductStatesIdentifier                          99607 non-null   float32\n",
      " 10  AVProductsInstalled                                99607 non-null   float16\n",
      " 11  AVProductsEnabled                                  99607 non-null   float16\n",
      " 12  HasTpm                                             100000 non-null  uint8  \n",
      " 13  CountryIdentifier                                  100000 non-null  uint8  \n",
      " 14  CityIdentifier                                     96385 non-null   float32\n",
      " 15  OrganizationIdentifier                             69336 non-null   float16\n",
      " 16  GeoNameIdentifier                                  99999 non-null   float16\n",
      " 17  LocaleEnglishNameIdentifier                        100000 non-null  uint16 \n",
      " 18  Platform                                           100000 non-null  object \n",
      " 19  Processor                                          100000 non-null  object \n",
      " 20  OsVer                                              100000 non-null  object \n",
      " 21  OsBuild                                            100000 non-null  uint16 \n",
      " 22  OsSuite                                            100000 non-null  uint16 \n",
      " 23  OsPlatformSubRelease                               100000 non-null  object \n",
      " 24  OsBuildLab                                         99999 non-null   object \n",
      " 25  SkuEdition                                         100000 non-null  object \n",
      " 26  IsProtected                                        99609 non-null   float16\n",
      " 27  AutoSampleOptIn                                    100000 non-null  uint8  \n",
      " 28  PuaMode                                            31 non-null      object \n",
      " 29  SMode                                              94068 non-null   float16\n",
      " 30  IeVerIdentifier                                    99335 non-null   float16\n",
      " 31  SmartScreen                                        64269 non-null   object \n",
      " 32  Firewall                                           98924 non-null   float16\n",
      " 33  UacLuaenable                                       99884 non-null   float32\n",
      " 34  Census_MDC2FormFactor                              100000 non-null  object \n",
      " 35  Census_DeviceFamily                                100000 non-null  object \n",
      " 36  Census_OEMNameIdentifier                           98946 non-null   float16\n",
      " 37  Census_OEMModelIdentifier                          98853 non-null   float32\n",
      " 38  Census_ProcessorCoreCount                          99524 non-null   float16\n",
      " 39  Census_ProcessorManufacturerIdentifier             99524 non-null   float16\n",
      " 40  Census_ProcessorModelIdentifier                    99523 non-null   float16\n",
      " 41  Census_ProcessorClass                              427 non-null     object \n",
      " 42  Census_PrimaryDiskTotalCapacity                    99390 non-null   float32\n",
      " 43  Census_PrimaryDiskTypeName                         99839 non-null   object \n",
      " 44  Census_SystemVolumeTotalCapacity                   99390 non-null   float32\n",
      " 45  Census_HasOpticalDiskDrive                         100000 non-null  uint8  \n",
      " 46  Census_TotalPhysicalRAM                            99079 non-null   float32\n",
      " 47  Census_ChassisTypeName                             99994 non-null   object \n",
      " 48  Census_InternalPrimaryDiagonalDisplaySizeInInches  99470 non-null   float16\n",
      " 49  Census_InternalPrimaryDisplayResolutionHorizontal  99471 non-null   float16\n",
      " 50  Census_InternalPrimaryDisplayResolutionVertical    99471 non-null   float16\n",
      " 51  Census_PowerPlatformRoleName                       100000 non-null  object \n",
      " 52  Census_InternalBatteryType                         28760 non-null   object \n",
      " 53  Census_InternalBatteryNumberOfCharges              96951 non-null   float32\n",
      " 54  Census_OSVersion                                   100000 non-null  object \n",
      " 55  Census_OSArchitecture                              100000 non-null  object \n",
      " 56  Census_OSBranch                                    100000 non-null  object \n",
      " 57  Census_OSBuildNumber                               100000 non-null  uint16 \n",
      " 58  Census_OSBuildRevision                             100000 non-null  uint16 \n",
      " 59  Census_OSEdition                                   100000 non-null  object \n",
      " 60  Census_OSSkuName                                   100000 non-null  object \n",
      " 61  Census_OSInstallTypeName                           100000 non-null  object \n",
      " 62  Census_OSInstallLanguageIdentifier                 99318 non-null   float16\n",
      " 63  Census_OSUILocaleIdentifier                        100000 non-null  uint8  \n",
      " 64  Census_OSWUAutoUpdateOptionsName                   100000 non-null  object \n",
      " 65  Census_IsPortableOperatingSystem                   100000 non-null  uint8  \n",
      " 66  Census_GenuineStateName                            100000 non-null  object \n",
      " 67  Census_ActivationChannel                           100000 non-null  object \n",
      " 68  Census_IsFlightingInternal                         16837 non-null   float16\n",
      " 69  Census_IsFlightsDisabled                           98187 non-null   float16\n",
      " 70  Census_FlightRing                                  100000 non-null  object \n",
      " 71  Census_ThresholdOptIn                              36262 non-null   float16\n",
      " 72  Census_FirmwareManufacturerIdentifier              97912 non-null   float16\n",
      " 73  Census_FirmwareVersionIdentifier                   98167 non-null   float32\n",
      " 74  Census_IsSecureBootEnabled                         100000 non-null  uint8  \n",
      " 75  Census_IsWIMBootEnabled                            36341 non-null   float16\n",
      " 76  Census_IsVirtualDevice                             99815 non-null   float16\n",
      " 77  Census_IsTouchEnabled                              100000 non-null  uint8  \n",
      " 78  Census_IsPenCapable                                100000 non-null  uint8  \n",
      " 79  Census_IsAlwaysOnAlwaysConnectedCapable            99157 non-null   float16\n",
      " 80  Wdft_IsGamer                                       96585 non-null   float16\n",
      " 81  Wdft_RegionIdentifier                              96585 non-null   float16\n",
      " 82  HasDetections                                      100000 non-null  uint8  \n",
      "dtypes: float16(27), float32(9), object(30), uint16(5), uint8(12)\n",
      "memory usage: 33.6+ MB\n"
     ]
    }
   ],
   "source": [
    "first_chunk.info()"
   ]
  },
  {
   "cell_type": "markdown",
   "metadata": {},
   "source": [
    "### Видим, что размер уменьшился почти в два раза."
   ]
  },
  {
   "cell_type": "code",
   "execution_count": 15,
   "metadata": {},
   "outputs": [],
   "source": [
    "def reduce_chunk(chunk, drop_detections=False):\n",
    "    for col in max_vals:\n",
    "        if drop_detections and col == 'HasDetections':\n",
    "            continue\n",
    "        chunk[col] = chunk[col].astype(suitable_dtypes[col])\n",
    "\n",
    "def read_df(df, name):\n",
    "    drop_detections = (name == 'test.csv')\n",
    "    \n",
    "    dfs = []\n",
    "    \n",
    "    for chunk in df:\n",
    "        reduce_chunk(chunk, drop_detections)\n",
    "\n",
    "        dfs.append(chunk)\n",
    "    \n",
    "    return pd.concat(dfs, axis=0, ignore_index=True)"
   ]
  },
  {
   "cell_type": "code",
   "execution_count": 16,
   "metadata": {},
   "outputs": [],
   "source": [
    "train_df, test_df = init_read_from_df()\n",
    "\n",
    "train_df = read_df(train_df, 'train.csv')\n",
    "# test_df = read_df(test_df, 'test.csv') --- не влезает в оперативку вместе с train"
   ]
  },
  {
   "cell_type": "code",
   "execution_count": 17,
   "metadata": {},
   "outputs": [
    {
     "data": {
      "text/html": [
       "<div>\n",
       "<style scoped>\n",
       "    .dataframe tbody tr th:only-of-type {\n",
       "        vertical-align: middle;\n",
       "    }\n",
       "\n",
       "    .dataframe tbody tr th {\n",
       "        vertical-align: top;\n",
       "    }\n",
       "\n",
       "    .dataframe thead th {\n",
       "        text-align: right;\n",
       "    }\n",
       "</style>\n",
       "<table border=\"1\" class=\"dataframe\">\n",
       "  <thead>\n",
       "    <tr style=\"text-align: right;\">\n",
       "      <th></th>\n",
       "      <th>MachineIdentifier</th>\n",
       "      <th>ProductName</th>\n",
       "      <th>EngineVersion</th>\n",
       "      <th>AppVersion</th>\n",
       "      <th>AvSigVersion</th>\n",
       "      <th>IsBeta</th>\n",
       "      <th>RtpStateBitfield</th>\n",
       "      <th>IsSxsPassiveMode</th>\n",
       "      <th>DefaultBrowsersIdentifier</th>\n",
       "      <th>AVProductStatesIdentifier</th>\n",
       "      <th>...</th>\n",
       "      <th>Census_FirmwareVersionIdentifier</th>\n",
       "      <th>Census_IsSecureBootEnabled</th>\n",
       "      <th>Census_IsWIMBootEnabled</th>\n",
       "      <th>Census_IsVirtualDevice</th>\n",
       "      <th>Census_IsTouchEnabled</th>\n",
       "      <th>Census_IsPenCapable</th>\n",
       "      <th>Census_IsAlwaysOnAlwaysConnectedCapable</th>\n",
       "      <th>Wdft_IsGamer</th>\n",
       "      <th>Wdft_RegionIdentifier</th>\n",
       "      <th>HasDetections</th>\n",
       "    </tr>\n",
       "  </thead>\n",
       "  <tbody>\n",
       "    <tr>\n",
       "      <th>0</th>\n",
       "      <td>0000028988387b115f69f31a3bf04f09</td>\n",
       "      <td>win8defender</td>\n",
       "      <td>1.1.15100.1</td>\n",
       "      <td>4.18.1807.18075</td>\n",
       "      <td>1.273.1735.0</td>\n",
       "      <td>0</td>\n",
       "      <td>7.0</td>\n",
       "      <td>0</td>\n",
       "      <td>NaN</td>\n",
       "      <td>53447.0</td>\n",
       "      <td>...</td>\n",
       "      <td>36144.0</td>\n",
       "      <td>0</td>\n",
       "      <td>NaN</td>\n",
       "      <td>0.0</td>\n",
       "      <td>0</td>\n",
       "      <td>0</td>\n",
       "      <td>0.0</td>\n",
       "      <td>0.0</td>\n",
       "      <td>10.0</td>\n",
       "      <td>0</td>\n",
       "    </tr>\n",
       "    <tr>\n",
       "      <th>1</th>\n",
       "      <td>000007535c3f730efa9ea0b7ef1bd645</td>\n",
       "      <td>win8defender</td>\n",
       "      <td>1.1.14600.4</td>\n",
       "      <td>4.13.17134.1</td>\n",
       "      <td>1.263.48.0</td>\n",
       "      <td>0</td>\n",
       "      <td>7.0</td>\n",
       "      <td>0</td>\n",
       "      <td>NaN</td>\n",
       "      <td>53447.0</td>\n",
       "      <td>...</td>\n",
       "      <td>57858.0</td>\n",
       "      <td>0</td>\n",
       "      <td>NaN</td>\n",
       "      <td>0.0</td>\n",
       "      <td>0</td>\n",
       "      <td>0</td>\n",
       "      <td>0.0</td>\n",
       "      <td>0.0</td>\n",
       "      <td>8.0</td>\n",
       "      <td>0</td>\n",
       "    </tr>\n",
       "    <tr>\n",
       "      <th>2</th>\n",
       "      <td>000007905a28d863f6d0d597892cd692</td>\n",
       "      <td>win8defender</td>\n",
       "      <td>1.1.15100.1</td>\n",
       "      <td>4.18.1807.18075</td>\n",
       "      <td>1.273.1341.0</td>\n",
       "      <td>0</td>\n",
       "      <td>7.0</td>\n",
       "      <td>0</td>\n",
       "      <td>NaN</td>\n",
       "      <td>53447.0</td>\n",
       "      <td>...</td>\n",
       "      <td>52682.0</td>\n",
       "      <td>0</td>\n",
       "      <td>NaN</td>\n",
       "      <td>0.0</td>\n",
       "      <td>0</td>\n",
       "      <td>0</td>\n",
       "      <td>0.0</td>\n",
       "      <td>0.0</td>\n",
       "      <td>3.0</td>\n",
       "      <td>0</td>\n",
       "    </tr>\n",
       "    <tr>\n",
       "      <th>3</th>\n",
       "      <td>00000b11598a75ea8ba1beea8459149f</td>\n",
       "      <td>win8defender</td>\n",
       "      <td>1.1.15100.1</td>\n",
       "      <td>4.18.1807.18075</td>\n",
       "      <td>1.273.1527.0</td>\n",
       "      <td>0</td>\n",
       "      <td>7.0</td>\n",
       "      <td>0</td>\n",
       "      <td>NaN</td>\n",
       "      <td>53447.0</td>\n",
       "      <td>...</td>\n",
       "      <td>20050.0</td>\n",
       "      <td>0</td>\n",
       "      <td>NaN</td>\n",
       "      <td>0.0</td>\n",
       "      <td>0</td>\n",
       "      <td>0</td>\n",
       "      <td>0.0</td>\n",
       "      <td>0.0</td>\n",
       "      <td>3.0</td>\n",
       "      <td>1</td>\n",
       "    </tr>\n",
       "    <tr>\n",
       "      <th>4</th>\n",
       "      <td>000014a5f00daa18e76b81417eeb99fc</td>\n",
       "      <td>win8defender</td>\n",
       "      <td>1.1.15100.1</td>\n",
       "      <td>4.18.1807.18075</td>\n",
       "      <td>1.273.1379.0</td>\n",
       "      <td>0</td>\n",
       "      <td>7.0</td>\n",
       "      <td>0</td>\n",
       "      <td>NaN</td>\n",
       "      <td>53447.0</td>\n",
       "      <td>...</td>\n",
       "      <td>19844.0</td>\n",
       "      <td>0</td>\n",
       "      <td>0.0</td>\n",
       "      <td>0.0</td>\n",
       "      <td>0</td>\n",
       "      <td>0</td>\n",
       "      <td>0.0</td>\n",
       "      <td>0.0</td>\n",
       "      <td>1.0</td>\n",
       "      <td>1</td>\n",
       "    </tr>\n",
       "  </tbody>\n",
       "</table>\n",
       "<p>5 rows × 83 columns</p>\n",
       "</div>"
      ],
      "text/plain": [
       "                  MachineIdentifier   ProductName EngineVersion  \\\n",
       "0  0000028988387b115f69f31a3bf04f09  win8defender   1.1.15100.1   \n",
       "1  000007535c3f730efa9ea0b7ef1bd645  win8defender   1.1.14600.4   \n",
       "2  000007905a28d863f6d0d597892cd692  win8defender   1.1.15100.1   \n",
       "3  00000b11598a75ea8ba1beea8459149f  win8defender   1.1.15100.1   \n",
       "4  000014a5f00daa18e76b81417eeb99fc  win8defender   1.1.15100.1   \n",
       "\n",
       "        AppVersion  AvSigVersion  IsBeta  RtpStateBitfield  IsSxsPassiveMode  \\\n",
       "0  4.18.1807.18075  1.273.1735.0       0               7.0                 0   \n",
       "1     4.13.17134.1    1.263.48.0       0               7.0                 0   \n",
       "2  4.18.1807.18075  1.273.1341.0       0               7.0                 0   \n",
       "3  4.18.1807.18075  1.273.1527.0       0               7.0                 0   \n",
       "4  4.18.1807.18075  1.273.1379.0       0               7.0                 0   \n",
       "\n",
       "   DefaultBrowsersIdentifier  AVProductStatesIdentifier  ...  \\\n",
       "0                        NaN                    53447.0  ...   \n",
       "1                        NaN                    53447.0  ...   \n",
       "2                        NaN                    53447.0  ...   \n",
       "3                        NaN                    53447.0  ...   \n",
       "4                        NaN                    53447.0  ...   \n",
       "\n",
       "   Census_FirmwareVersionIdentifier  Census_IsSecureBootEnabled  \\\n",
       "0                           36144.0                           0   \n",
       "1                           57858.0                           0   \n",
       "2                           52682.0                           0   \n",
       "3                           20050.0                           0   \n",
       "4                           19844.0                           0   \n",
       "\n",
       "   Census_IsWIMBootEnabled  Census_IsVirtualDevice  Census_IsTouchEnabled  \\\n",
       "0                      NaN                     0.0                      0   \n",
       "1                      NaN                     0.0                      0   \n",
       "2                      NaN                     0.0                      0   \n",
       "3                      NaN                     0.0                      0   \n",
       "4                      0.0                     0.0                      0   \n",
       "\n",
       "   Census_IsPenCapable  Census_IsAlwaysOnAlwaysConnectedCapable  Wdft_IsGamer  \\\n",
       "0                    0                                      0.0           0.0   \n",
       "1                    0                                      0.0           0.0   \n",
       "2                    0                                      0.0           0.0   \n",
       "3                    0                                      0.0           0.0   \n",
       "4                    0                                      0.0           0.0   \n",
       "\n",
       "  Wdft_RegionIdentifier HasDetections  \n",
       "0                  10.0             0  \n",
       "1                   8.0             0  \n",
       "2                   3.0             0  \n",
       "3                   3.0             1  \n",
       "4                   1.0             1  \n",
       "\n",
       "[5 rows x 83 columns]"
      ]
     },
     "execution_count": 17,
     "metadata": {},
     "output_type": "execute_result"
    }
   ],
   "source": [
    "train_df.head()"
   ]
  },
  {
   "cell_type": "markdown",
   "metadata": {},
   "source": [
    "# Проблема 3 --- много отсутствующих значений"
   ]
  },
  {
   "cell_type": "code",
   "execution_count": 18,
   "metadata": {},
   "outputs": [
    {
     "data": {
      "text/plain": [
       "['RtpStateBitfield',\n",
       " 'DefaultBrowsersIdentifier',\n",
       " 'AVProductStatesIdentifier',\n",
       " 'AVProductsInstalled',\n",
       " 'AVProductsEnabled',\n",
       " 'CityIdentifier',\n",
       " 'OrganizationIdentifier',\n",
       " 'GeoNameIdentifier',\n",
       " 'OsBuildLab',\n",
       " 'IsProtected',\n",
       " 'PuaMode',\n",
       " 'SMode',\n",
       " 'IeVerIdentifier',\n",
       " 'SmartScreen',\n",
       " 'Firewall',\n",
       " 'UacLuaenable',\n",
       " 'Census_OEMNameIdentifier',\n",
       " 'Census_OEMModelIdentifier',\n",
       " 'Census_ProcessorCoreCount',\n",
       " 'Census_ProcessorManufacturerIdentifier',\n",
       " 'Census_ProcessorModelIdentifier',\n",
       " 'Census_ProcessorClass',\n",
       " 'Census_PrimaryDiskTotalCapacity',\n",
       " 'Census_PrimaryDiskTypeName',\n",
       " 'Census_SystemVolumeTotalCapacity',\n",
       " 'Census_TotalPhysicalRAM',\n",
       " 'Census_ChassisTypeName',\n",
       " 'Census_InternalPrimaryDiagonalDisplaySizeInInches',\n",
       " 'Census_InternalPrimaryDisplayResolutionHorizontal',\n",
       " 'Census_InternalPrimaryDisplayResolutionVertical',\n",
       " 'Census_PowerPlatformRoleName',\n",
       " 'Census_InternalBatteryType',\n",
       " 'Census_InternalBatteryNumberOfCharges',\n",
       " 'Census_OSInstallLanguageIdentifier',\n",
       " 'Census_IsFlightingInternal',\n",
       " 'Census_IsFlightsDisabled',\n",
       " 'Census_ThresholdOptIn',\n",
       " 'Census_FirmwareManufacturerIdentifier',\n",
       " 'Census_FirmwareVersionIdentifier',\n",
       " 'Census_IsWIMBootEnabled',\n",
       " 'Census_IsVirtualDevice',\n",
       " 'Census_IsAlwaysOnAlwaysConnectedCapable',\n",
       " 'Wdft_IsGamer',\n",
       " 'Wdft_RegionIdentifier']"
      ]
     },
     "execution_count": 18,
     "metadata": {},
     "output_type": "execute_result"
    }
   ],
   "source": [
    "train_df.columns[train_df.isna().any()].tolist()"
   ]
  },
  {
   "cell_type": "code",
   "execution_count": 19,
   "metadata": {},
   "outputs": [],
   "source": [
    "cols_with_nan = (el for el in train_df.columns[train_df.isna().any()].tolist())"
   ]
  },
  {
   "cell_type": "markdown",
   "metadata": {},
   "source": [
    "### И не факт что они пропущены. Отсутствие значения может быть вполне осмысленным, как, например, у фичи 'PuaMode'."
   ]
  },
  {
   "cell_type": "code",
   "execution_count": 20,
   "metadata": {},
   "outputs": [
    {
     "data": {
      "text/plain": [
       "array([nan, 'on'], dtype=object)"
      ]
     },
     "execution_count": 20,
     "metadata": {},
     "output_type": "execute_result"
    }
   ],
   "source": [
    "first_chunk.PuaMode.unique()"
   ]
  },
  {
   "cell_type": "markdown",
   "metadata": {},
   "source": [
    "### Конечно, составители датасета могли забить на отличие отсутствия значения от значения 'off', но я буду предполагать, что это не так."
   ]
  },
  {
   "cell_type": "code",
   "execution_count": 21,
   "metadata": {},
   "outputs": [],
   "source": [
    "import pdpipe as pdp"
   ]
  },
  {
   "cell_type": "code",
   "execution_count": 22,
   "metadata": {},
   "outputs": [],
   "source": [
    "categorical_prefixes = []"
   ]
  },
  {
   "cell_type": "code",
   "execution_count": 23,
   "metadata": {},
   "outputs": [
    {
     "data": {
      "text/plain": [
       "'RtpStateBitfield'"
      ]
     },
     "execution_count": 23,
     "metadata": {},
     "output_type": "execute_result"
    }
   ],
   "source": [
    "curr_col = next(cols_with_nan)\n",
    "curr_col"
   ]
  },
  {
   "cell_type": "markdown",
   "metadata": {},
   "source": [
    "### RtpStateBitfield"
   ]
  },
  {
   "cell_type": "markdown",
   "metadata": {},
   "source": [
    "### Со страницы соревнования имеем: RtpStateBitfield - NA "
   ]
  },
  {
   "cell_type": "code",
   "execution_count": 24,
   "metadata": {},
   "outputs": [
    {
     "data": {
      "text/plain": [
       "array([ 7.,  0., nan,  3.,  5.,  8.,  1., 35.], dtype=float16)"
      ]
     },
     "execution_count": 24,
     "metadata": {},
     "output_type": "execute_result"
    }
   ],
   "source": [
    "train_df[curr_col].unique()"
   ]
  },
  {
   "cell_type": "code",
   "execution_count": 25,
   "metadata": {},
   "outputs": [
    {
     "data": {
      "text/plain": [
       "(8921483, 83)"
      ]
     },
     "execution_count": 25,
     "metadata": {},
     "output_type": "execute_result"
    }
   ],
   "source": [
    "train_df.shape"
   ]
  },
  {
   "cell_type": "code",
   "execution_count": 26,
   "metadata": {},
   "outputs": [
    {
     "data": {
      "text/plain": [
       "32318"
      ]
     },
     "execution_count": 26,
     "metadata": {},
     "output_type": "execute_result"
    }
   ],
   "source": [
    "train_df[curr_col].isna().sum()"
   ]
  },
  {
   "cell_type": "code",
   "execution_count": 27,
   "metadata": {},
   "outputs": [
    {
     "data": {
      "image/png": "[encoded data removed]",
      "text/plain": [
       "<Figure size 432x288 with 1 Axes>"
      ]
     },
     "metadata": {
      "needs_background": "light"
     },
     "output_type": "display_data"
    }
   ],
   "source": [
    "plt.hist(train_df[curr_col], bins='auto')\n",
    "plt.show()"
   ]
  },
  {
   "cell_type": "code",
   "execution_count": 28,
   "metadata": {},
   "outputs": [],
   "source": [
    "categorical_prefixes.append(curr_col)"
   ]
  },
  {
   "cell_type": "markdown",
   "metadata": {},
   "source": [
    "### Преобразуем в бинарную фичу."
   ]
  },
  {
   "cell_type": "code",
   "execution_count": 29,
   "metadata": {},
   "outputs": [],
   "source": [
    "rtp_top = train_df[curr_col].value_counts().idxmax()"
   ]
  },
  {
   "cell_type": "code",
   "execution_count": 30,
   "metadata": {},
   "outputs": [],
   "source": [
    "from collections import defaultdict"
   ]
  },
  {
   "cell_type": "code",
   "execution_count": 31,
   "metadata": {},
   "outputs": [],
   "source": [
    "_dict = defaultdict(int)\n",
    "_dict.update({rtp_top: 1})\n",
    "\n",
    "pipeline = pdp.MapColVals(\n",
    "    curr_col,\n",
    "    _dict\n",
    ")"
   ]
  },
  {
   "cell_type": "code",
   "execution_count": 32,
   "metadata": {},
   "outputs": [
    {
     "data": {
      "text/plain": [
       "'DefaultBrowsersIdentifier'"
      ]
     },
     "execution_count": 32,
     "metadata": {},
     "output_type": "execute_result"
    }
   ],
   "source": [
    "curr_col = next(cols_with_nan)\n",
    "curr_col"
   ]
  },
  {
   "cell_type": "markdown",
   "metadata": {},
   "source": [
    "### DefaultBrowsersIdentifier"
   ]
  },
  {
   "cell_type": "markdown",
   "metadata": {},
   "source": [
    "### DefaultBrowsersIdentifier - ID for the machine's default browser "
   ]
  },
  {
   "cell_type": "markdown",
   "metadata": {},
   "source": [
    "### Эта фича может влиять, так как у разных браузеров свои средства защиты."
   ]
  },
  {
   "cell_type": "code",
   "execution_count": 33,
   "metadata": {},
   "outputs": [
    {
     "data": {
      "text/plain": [
       "dtype('float16')"
      ]
     },
     "execution_count": 33,
     "metadata": {},
     "output_type": "execute_result"
    }
   ],
   "source": [
    "train_df[curr_col].dtype"
   ]
  },
  {
   "cell_type": "code",
   "execution_count": 34,
   "metadata": {},
   "outputs": [
    {
     "data": {
      "text/plain": [
       "array([  nan, 1950.,  146., ..., 1611.,  976., 1149.], dtype=float16)"
      ]
     },
     "execution_count": 34,
     "metadata": {},
     "output_type": "execute_result"
    }
   ],
   "source": [
    "train_df[curr_col].unique()"
   ]
  },
  {
   "cell_type": "markdown",
   "metadata": {},
   "source": [
    "### Посмотрим на распределение"
   ]
  },
  {
   "cell_type": "code",
   "execution_count": 35,
   "metadata": {},
   "outputs": [
    {
     "data": {
      "image/png": "[encoded data removed]",
      "text/plain": [
       "<Figure size 432x288 with 1 Axes>"
      ]
     },
     "metadata": {
      "needs_background": "light"
     },
     "output_type": "display_data"
    }
   ],
   "source": [
    "plt.hist(train_df[curr_col], bins='auto')\n",
    "plt.show()"
   ]
  },
  {
   "cell_type": "markdown",
   "metadata": {},
   "source": [
    "### Больше похоже на категориальный признак, но значений слишком много. Я бы взял топ id и сделал OHE, ставя всем id не из топа одно и то же значение. Какая-то часть информации потеряется, но так мы получим более явные фичи, для которых не потребуется глубокое дерево решений. Но это всё надо проверять при обучении."
   ]
  },
  {
   "cell_type": "code",
   "execution_count": 36,
   "metadata": {},
   "outputs": [
    {
     "data": {
      "text/plain": [
       "239.0     46056\n",
       "3196.0    42694\n",
       "1632.0    28751\n",
       "3176.0    24222\n",
       "146.0     20756\n",
       "1910.0    19416\n",
       "1727.0    17393\n",
       "2724.0    14538\n",
       "2064.0    13993\n",
       "1160.0    12594\n",
       "1536.0    11306\n",
       "788.0     11302\n",
       "1623.0    10406\n",
       "1078.0    10267\n",
       "2168.0     7729\n",
       "2272.0     7436\n",
       "1823.0     7397\n",
       "2290.0     6758\n",
       "614.0      6539\n",
       "2388.0     6371\n",
       "Name: DefaultBrowsersIdentifier, dtype: int64"
      ]
     },
     "execution_count": 36,
     "metadata": {},
     "output_type": "execute_result"
    }
   ],
   "source": [
    "train_df[curr_col].value_counts().nlargest(20)"
   ]
  },
  {
   "cell_type": "code",
   "execution_count": 37,
   "metadata": {},
   "outputs": [
    {
     "data": {
      "text/plain": [
       "8488045"
      ]
     },
     "execution_count": 37,
     "metadata": {},
     "output_type": "execute_result"
    }
   ],
   "source": [
    "train_df[curr_col].isna().sum()"
   ]
  },
  {
   "cell_type": "markdown",
   "metadata": {},
   "source": [
    "### Такое количество лучше выделить в отдельную фичу или вообще дропнуть. Выбор делается методом проб и ошибок."
   ]
  },
  {
   "cell_type": "code",
   "execution_count": 38,
   "metadata": {},
   "outputs": [],
   "source": [
    "accepted = defaultdict(int)\n",
    "next_label = 1\n",
    "limit = 10000\n",
    "\n",
    "for key, value in dict(train_df[curr_col].value_counts()).items():\n",
    "    if value >= limit:\n",
    "        accepted[key] = next_label\n",
    "        next_label += 1\n",
    "        \n",
    "accepted[np.nan] = next_label"
   ]
  },
  {
   "cell_type": "code",
   "execution_count": 39,
   "metadata": {},
   "outputs": [],
   "source": [
    "pipeline += pdp.MapColVals(\n",
    "    curr_col,\n",
    "    accepted\n",
    ")\n",
    "\n",
    "pipeline += pdp.OneHotEncode(\n",
    "    curr_col\n",
    ")"
   ]
  },
  {
   "cell_type": "code",
   "execution_count": 40,
   "metadata": {},
   "outputs": [
    {
     "data": {
      "text/plain": [
       "'AVProductStatesIdentifier'"
      ]
     },
     "execution_count": 40,
     "metadata": {},
     "output_type": "execute_result"
    }
   ],
   "source": [
    "categorical_prefixes.append(curr_col)\n",
    "curr_col = next(cols_with_nan)\n",
    "curr_col"
   ]
  },
  {
   "cell_type": "markdown",
   "metadata": {},
   "source": [
    "### AVProductStatesIdentifier - ID for the specific configuration of a user's antivirus software"
   ]
  },
  {
   "cell_type": "code",
   "execution_count": 41,
   "metadata": {},
   "outputs": [
    {
     "name": "stderr",
     "output_type": "stream",
     "text": [
      "/home/a3nippo/anaconda3/lib/python3.7/site-packages/numpy/lib/histograms.py:403: RuntimeWarning: invalid value encountered in greater_equal\n",
      "  keep = (a >= first_edge)\n",
      "/home/a3nippo/anaconda3/lib/python3.7/site-packages/numpy/lib/histograms.py:404: RuntimeWarning: invalid value encountered in less_equal\n",
      "  keep &= (a <= last_edge)\n",
      "/home/a3nippo/anaconda3/lib/python3.7/site-packages/numpy/lib/histograms.py:839: RuntimeWarning: invalid value encountered in greater_equal\n",
      "  keep = (tmp_a >= first_edge)\n",
      "/home/a3nippo/anaconda3/lib/python3.7/site-packages/numpy/lib/histograms.py:840: RuntimeWarning: invalid value encountered in less_equal\n",
      "  keep &= (tmp_a <= last_edge)\n"
     ]
    },
    {
     "data": {
      "image/png": "[encoded data removed]",
      "text/plain": [
       "<Figure size 432x288 with 1 Axes>"
      ]
     },
     "metadata": {
      "needs_background": "light"
     },
     "output_type": "display_data"
    }
   ],
   "source": [
    "plt.hist(train_df[curr_col], bins='auto')\n",
    "plt.show()"
   ]
  },
  {
   "cell_type": "markdown",
   "metadata": {},
   "source": [
    "### Не понял. Наверно bins слишком тонкие."
   ]
  },
  {
   "cell_type": "code",
   "execution_count": 42,
   "metadata": {},
   "outputs": [
    {
     "data": {
      "text/plain": [
       "53447.0    5824565\n",
       "7945.0      475897\n",
       "47238.0     327656\n",
       "62773.0     266764\n",
       "46413.0     112878\n",
       "23657.0     100455\n",
       "49480.0      99899\n",
       "41571.0      97659\n",
       "29199.0      73550\n",
       "51954.0      67616\n",
       "22728.0      45221\n",
       "46669.0      44855\n",
       "43856.0      44354\n",
       "43927.0      43790\n",
       "3371.0       40700\n",
       "NaN          36221\n",
       "6630.0       35198\n",
       "40431.0      29087\n",
       "68585.0      28706\n",
       "61343.0      26848\n",
       "63682.0      23426\n",
       "56914.0      22326\n",
       "24213.0      22027\n",
       "12202.0      20690\n",
       "11280.0      18642\n",
       "61100.0      17959\n",
       "48510.0      17722\n",
       "9471.0       15359\n",
       "44141.0      15347\n",
       "40535.0      14579\n",
       "Name: AVProductStatesIdentifier, dtype: int64"
      ]
     },
     "execution_count": 42,
     "metadata": {},
     "output_type": "execute_result"
    }
   ],
   "source": [
    "train_df[curr_col].value_counts(dropna=False).nlargest(30)"
   ]
  },
  {
   "cell_type": "markdown",
   "metadata": {},
   "source": [
    "### Здесь есть выбор --- либо заполняем самым частым, либо предсказываем каждый пропуск. Для первого приближения лучше выбрать более простое решение."
   ]
  },
  {
   "cell_type": "code",
   "execution_count": 43,
   "metadata": {},
   "outputs": [],
   "source": [
    "def filter_n_largest(df, column, limit, fillna):\n",
    "    accepted = defaultdict(int)\n",
    "    next_label = 1\n",
    "    \n",
    "    counts = train_df[column].value_counts(dropna=False)\n",
    "    \n",
    "    if fillna:\n",
    "        accepted[np.nan] = 1\n",
    "        counts.drop(np.nan)\n",
    "        \n",
    "    for key, value in counts.iteritems():\n",
    "        if value >= limit:\n",
    "            accepted[key] = next_label\n",
    "            next_label += 1\n",
    "    \n",
    "    return accepted"
   ]
  },
  {
   "cell_type": "code",
   "execution_count": 44,
   "metadata": {},
   "outputs": [],
   "source": [
    "def encode_column(pipeline, \n",
    "                  df, \n",
    "                  column, \n",
    "                  limit, \n",
    "                  fillna=False):\n",
    "    pipeline += pdp.MapColVals(\n",
    "        column,\n",
    "        filter_n_largest(df, column, limit, fillna)\n",
    "    )\n",
    "\n",
    "    pipeline += pdp.OneHotEncode(\n",
    "        column\n",
    "    )\n",
    "    \n",
    "    return pipeline"
   ]
  },
  {
   "cell_type": "code",
   "execution_count": 45,
   "metadata": {},
   "outputs": [],
   "source": [
    "pipeline = encode_column(\n",
    "    pipeline, \n",
    "    train_df,\n",
    "    curr_col,\n",
    "    20000,\n",
    "    fillna=True\n",
    ")"
   ]
  },
  {
   "cell_type": "code",
   "execution_count": 46,
   "metadata": {},
   "outputs": [
    {
     "data": {
      "text/plain": [
       "'AVProductsInstalled'"
      ]
     },
     "execution_count": 46,
     "metadata": {},
     "output_type": "execute_result"
    }
   ],
   "source": [
    "categorical_prefixes.append(curr_col)\n",
    "curr_col = next(cols_with_nan)\n",
    "curr_col"
   ]
  },
  {
   "cell_type": "markdown",
   "metadata": {},
   "source": [
    "### AVProductsInstalled"
   ]
  },
  {
   "cell_type": "code",
   "execution_count": 47,
   "metadata": {},
   "outputs": [
    {
     "data": {
      "text/plain": [
       "array([ 1.,  2.,  3.,  5., nan,  4.,  6.,  7.,  0.], dtype=float16)"
      ]
     },
     "execution_count": 47,
     "metadata": {},
     "output_type": "execute_result"
    }
   ],
   "source": [
    "train_df[curr_col].unique()"
   ]
  },
  {
   "cell_type": "code",
   "execution_count": 48,
   "metadata": {},
   "outputs": [
    {
     "data": {
      "image/png": "[encoded data removed]",
      "text/plain": [
       "<Figure size 432x288 with 1 Axes>"
      ]
     },
     "metadata": {
      "needs_background": "light"
     },
     "output_type": "display_data"
    }
   ],
   "source": [
    "plt.hist(train_df[curr_col], bins='auto')\n",
    "plt.show()"
   ]
  },
  {
   "cell_type": "code",
   "execution_count": 49,
   "metadata": {},
   "outputs": [
    {
     "data": {
      "text/plain": [
       "1.0    6208893\n",
       "2.0    2459008\n",
       "3.0     208103\n",
       "NaN      36221\n",
       "4.0       8757\n",
       "5.0        471\n",
       "6.0         28\n",
       "7.0          1\n",
       "0.0          1\n",
       "Name: AVProductsInstalled, dtype: int64"
      ]
     },
     "execution_count": 49,
     "metadata": {},
     "output_type": "execute_result"
    }
   ],
   "source": [
    "train_df[curr_col].value_counts(dropna=False)"
   ]
  },
  {
   "cell_type": "code",
   "execution_count": 50,
   "metadata": {},
   "outputs": [],
   "source": [
    "pipeline = encode_column(\n",
    "    pipeline, \n",
    "    train_df,\n",
    "    curr_col,\n",
    "    30000\n",
    ")"
   ]
  },
  {
   "cell_type": "code",
   "execution_count": 51,
   "metadata": {},
   "outputs": [
    {
     "data": {
      "text/plain": [
       "'AVProductsEnabled'"
      ]
     },
     "execution_count": 51,
     "metadata": {},
     "output_type": "execute_result"
    }
   ],
   "source": [
    "categorical_prefixes.append(curr_col)\n",
    "curr_col = next(cols_with_nan)\n",
    "curr_col"
   ]
  },
  {
   "cell_type": "markdown",
   "metadata": {},
   "source": [
    "### AVProductsEnabled"
   ]
  },
  {
   "cell_type": "code",
   "execution_count": 52,
   "metadata": {},
   "outputs": [],
   "source": [
    "def column_analysis(df, column, n=10, hist=True):\n",
    "    print(df[column].unique())\n",
    "    \n",
    "    if hist:\n",
    "        plt.hist(df[column])\n",
    "    else:\n",
    "        value_counts = df[column].value_counts(dropna=False).iteritems()\n",
    "        for value, count in value_counts:\n",
    "            plt.bar(str(value), count)\n",
    "        plt.legend()\n",
    "    plt.show()\n",
    "    \n",
    "    print(df[column].value_counts(dropna=False).nlargest(n))"
   ]
  },
  {
   "cell_type": "code",
   "execution_count": 53,
   "metadata": {},
   "outputs": [
    {
     "name": "stdout",
     "output_type": "stream",
     "text": [
      "[ 1.  2.  0.  4. nan  3.  5.]\n"
     ]
    },
    {
     "data": {
      "image/png": "[encoded data removed]",
      "text/plain": [
       "<Figure size 432x288 with 1 Axes>"
      ]
     },
     "metadata": {
      "needs_background": "light"
     },
     "output_type": "display_data"
    },
    {
     "name": "stdout",
     "output_type": "stream",
     "text": [
      "1.0    8654101\n",
      "2.0     198652\n",
      "NaN      36221\n",
      "0.0      25958\n",
      "3.0       6075\n",
      "4.0        453\n",
      "5.0         23\n",
      "Name: AVProductsEnabled, dtype: int64\n"
     ]
    }
   ],
   "source": [
    "column_analysis(train_df, curr_col)"
   ]
  },
  {
   "cell_type": "code",
   "execution_count": 54,
   "metadata": {},
   "outputs": [],
   "source": [
    "pipeline = encode_column(\n",
    "    pipeline, \n",
    "    train_df,\n",
    "    curr_col,\n",
    "    20000\n",
    ")"
   ]
  },
  {
   "cell_type": "code",
   "execution_count": 55,
   "metadata": {},
   "outputs": [
    {
     "data": {
      "text/plain": [
       "'CityIdentifier'"
      ]
     },
     "execution_count": 55,
     "metadata": {},
     "output_type": "execute_result"
    }
   ],
   "source": [
    "categorical_prefixes.append(curr_col)\n",
    "curr_col = next(cols_with_nan)\n",
    "curr_col"
   ]
  },
  {
   "cell_type": "markdown",
   "metadata": {},
   "source": [
    "### CityIdentifier - ID for the city the machine is located in"
   ]
  },
  {
   "cell_type": "code",
   "execution_count": 56,
   "metadata": {},
   "outputs": [
    {
     "name": "stdout",
     "output_type": "stream",
     "text": [
      "[128035.   1482. 153579. ...  47472. 147921.  97837.]\n"
     ]
    },
    {
     "data": {
      "image/png": "[encoded data removed]",
      "text/plain": [
       "<Figure size 432x288 with 1 Axes>"
      ]
     },
     "metadata": {
      "needs_background": "light"
     },
     "output_type": "display_data"
    },
    {
     "name": "stdout",
     "output_type": "stream",
     "text": [
      "NaN         325409\n",
      "130775.0     94812\n",
      "16668.0      84780\n",
      "82373.0      83312\n",
      "10222.0      71814\n",
      "61668.0      66845\n",
      "143782.0     64650\n",
      "66202.0      64286\n",
      "58607.0      60598\n",
      "66953.0      57874\n",
      "Name: CityIdentifier, dtype: int64\n"
     ]
    }
   ],
   "source": [
    "column_analysis(train_df, curr_col)"
   ]
  },
  {
   "cell_type": "markdown",
   "metadata": {},
   "source": [
    "### В целом можно либо преобразовать исходную фичу (например посмотреть на разбиения этого признака в дереве решений), либо оставить как есть. В первом случае теряем много информации, во втором не все модели правильно поймут фичу (например линейная регрессия не поймёт, а дерево решений поймёт при достаточном количестве разбиений)."
   ]
  },
  {
   "cell_type": "markdown",
   "metadata": {},
   "source": [
    "### Можно сохранить имя столбца, и если дерево решений или RF не справятся, то уже тогда пытаться адаптировать фичу под другую модель."
   ]
  },
  {
   "cell_type": "markdown",
   "metadata": {},
   "source": [
    "### Пропусков много, поэтому лучше выделить в отдельный id."
   ]
  },
  {
   "cell_type": "code",
   "execution_count": 57,
   "metadata": {},
   "outputs": [
    {
     "data": {
      "text/plain": [
       "dtype('float32')"
      ]
     },
     "execution_count": 57,
     "metadata": {},
     "output_type": "execute_result"
    }
   ],
   "source": [
    "train_df[curr_col].dtype"
   ]
  },
  {
   "cell_type": "code",
   "execution_count": 58,
   "metadata": {},
   "outputs": [],
   "source": [
    "nan_id = np.finfo(np.float32).max"
   ]
  },
  {
   "cell_type": "code",
   "execution_count": 59,
   "metadata": {},
   "outputs": [],
   "source": [
    "class mydict(dict):\n",
    "    def __missing__(self,key):\n",
    "        return key\n",
    "    \n",
    "pipeline += pdp.MapColVals(\n",
    "    curr_col,\n",
    "    mydict({np.nan: nan_id})\n",
    ")"
   ]
  },
  {
   "cell_type": "code",
   "execution_count": 60,
   "metadata": {},
   "outputs": [],
   "source": [
    "label_encoded_columns = [curr_col]"
   ]
  },
  {
   "cell_type": "code",
   "execution_count": 61,
   "metadata": {},
   "outputs": [
    {
     "data": {
      "text/plain": [
       "'OrganizationIdentifier'"
      ]
     },
     "execution_count": 61,
     "metadata": {},
     "output_type": "execute_result"
    }
   ],
   "source": [
    "curr_col = next(cols_with_nan)\n",
    "curr_col"
   ]
  },
  {
   "cell_type": "markdown",
   "metadata": {},
   "source": [
    "### OrganizationIdentifier --- ID for the organization the machine belongs in, organization ID is mapped to both specific companies and broad industries "
   ]
  },
  {
   "cell_type": "code",
   "execution_count": 62,
   "metadata": {},
   "outputs": [
    {
     "name": "stdout",
     "output_type": "stream",
     "text": [
      "[18. nan 27. 46. 11. 14. 37. 10. 50. 49. 33.  8. 48. 36. 31.  4.  1. 28.\n",
      "  3. 52. 32. 51.  5.  2. 47. 44. 16. 40. 20. 22. 29. 26. 21. 39.  6. 19.\n",
      "  7. 30. 42. 43. 41. 15. 45. 25. 35. 23. 38. 12. 17. 34.]\n"
     ]
    },
    {
     "data": {
      "image/png": "[encoded data removed]",
      "text/plain": [
       "<Figure size 432x288 with 1 Axes>"
      ]
     },
     "metadata": {
      "needs_background": "light"
     },
     "output_type": "display_data"
    },
    {
     "name": "stdout",
     "output_type": "stream",
     "text": [
      "27.0    4196457\n",
      "NaN     2751518\n",
      "18.0    1764175\n",
      "48.0      63845\n",
      "50.0      45502\n",
      "11.0      19436\n",
      "37.0      19398\n",
      "49.0      13627\n",
      "46.0      10974\n",
      "14.0       4713\n",
      "32.0       4045\n",
      "36.0       3909\n",
      "52.0       3043\n",
      "33.0       2896\n",
      "2.0        2595\n",
      "5.0        1990\n",
      "40.0       1648\n",
      "28.0       1591\n",
      "4.0        1385\n",
      "10.0       1083\n",
      "Name: OrganizationIdentifier, dtype: int64\n"
     ]
    }
   ],
   "source": [
    "column_analysis(train_df, curr_col, 20)"
   ]
  },
  {
   "cell_type": "code",
   "execution_count": 63,
   "metadata": {},
   "outputs": [],
   "source": [
    "pipeline = encode_column(\n",
    "    pipeline, \n",
    "    train_df,\n",
    "    curr_col,\n",
    "    10000\n",
    ")"
   ]
  },
  {
   "cell_type": "code",
   "execution_count": 64,
   "metadata": {},
   "outputs": [
    {
     "data": {
      "text/plain": [
       "'GeoNameIdentifier'"
      ]
     },
     "execution_count": 64,
     "metadata": {},
     "output_type": "execute_result"
    }
   ],
   "source": [
    "categorical_prefixes.append(curr_col)\n",
    "curr_col = next(cols_with_nan)\n",
    "curr_col"
   ]
  },
  {
   "cell_type": "markdown",
   "metadata": {},
   "source": [
    "### GeoNameIdentifier - ID for the geographic region a machine is located in "
   ]
  },
  {
   "cell_type": "code",
   "execution_count": 65,
   "metadata": {},
   "outputs": [
    {
     "name": "stdout",
     "output_type": "stream",
     "text": [
      "[ 35. 119.  64. 117. 277. 126.  89. 205. 138. 101. 211. 209. 199. 230.\n",
      " 202.  53. 187.  15. 255. 274. 266.  10. 276. 267. 240.  45. 204.  57.\n",
      "  17. 120.  75. 185. 253.  71. 122. 184. 287.  76. 252.  98. 167.  77.\n",
      " 258. 148. 181. 157.  52. 224. 234. 233.  30. 186. 129. 237. 151. 200.\n",
      " 192.   3.   6.  24. 125. 107.  68.  39. 121. 198.  63. 294. 160.  11.\n",
      " 171. 251.  23. 207.  78. 194.  32. 241. 114. 282.  16. 154.  81. 144.\n",
      " 201. 264.  88. 206.  29. 284. 180.  66.  85. 150. 175.  91. 257. 123.\n",
      " 243. 226.  87. 275. 134. 145. 143.  19. 225.  67. 248. 115. 127. 133.\n",
      " 152. 155.   9. 165. 259.  90.  22. 176.  97.  21.  99. 286. 244. 111.\n",
      "  65. 140. 163. 273.  84. 208. 191. 250. 235.   2. 135. 170. 193. 109.\n",
      "  18. 118.  38.  12. 295. 177.   1. 281. 183.  33.  44. 246. 104. 110.\n",
      " 158. 178. 141. 166.  25.  69. 146.  80. 172. 261.  70. 112. 196. 228.\n",
      " 293.  43. 159. 100. 156.  27.  96. 147. 236.  46.   5. 227. 270.  60.\n",
      " 103. 173. 153. 105. 182. 113.  94. 247.  40. 102. 283. 221. 239. 268.\n",
      " 223. 128.  74. 263. 215.  86.  26. 131.  28.  82.  61. 149.  50.   7.\n",
      " 203.  34.  37. 162. 229. 271. 168. 272. 142. 288.  56. 232.  93. 289.\n",
      "  nan 269. 254. 164. 108.  58.   4. 285. 222.  54.  41. 195. 256. 161.\n",
      " 238.  49.  79. 174.  48. 220. 212.  36. 216. 139. 179.  73. 296.  31.\n",
      " 218.  59.  47. 291. 213. 188. 214. 262. 137.   8. 190. 217. 290. 245.\n",
      " 231. 124.  42. 189. 136. 260. 242. 292. 197.  95.  13. 280.  14.  51.\n",
      "  72. 210. 249. 265. 132. 169. 116. 106.  92. 219.  55. 279. 278.]\n"
     ]
    },
    {
     "data": {
      "image/png": "[encoded data removed]",
      "text/plain": [
       "<Figure size 432x288 with 1 Axes>"
      ]
     },
     "metadata": {
      "needs_background": "light"
     },
     "output_type": "display_data"
    },
    {
     "name": "stdout",
     "output_type": "stream",
     "text": [
      "277.0    1531929\n",
      "211.0     423166\n",
      "53.0      408807\n",
      "89.0      360798\n",
      "240.0     346568\n",
      "35.0      345904\n",
      "167.0     339845\n",
      "276.0     296774\n",
      "267.0     215812\n",
      "126.0     198021\n",
      "98.0      184459\n",
      "119.0     181876\n",
      "138.0     172941\n",
      "255.0     162193\n",
      "57.0      155478\n",
      "10.0      143023\n",
      "52.0      140200\n",
      "204.0     137451\n",
      "120.0     128907\n",
      "181.0     127368\n",
      "45.0      114902\n",
      "205.0     114506\n",
      "202.0     112056\n",
      "224.0     101510\n",
      "157.0      99616\n",
      "201.0      92651\n",
      "117.0      89426\n",
      "258.0      85291\n",
      "129.0      84929\n",
      "15.0       78629\n",
      "Name: GeoNameIdentifier, dtype: int64\n"
     ]
    }
   ],
   "source": [
    "column_analysis(train_df, curr_col, 30)"
   ]
  },
  {
   "cell_type": "code",
   "execution_count": 66,
   "metadata": {},
   "outputs": [],
   "source": [
    "pipeline = encode_column(pipeline, train_df, curr_col, 100000)"
   ]
  },
  {
   "cell_type": "code",
   "execution_count": 67,
   "metadata": {},
   "outputs": [
    {
     "data": {
      "text/plain": [
       "'OsBuildLab'"
      ]
     },
     "execution_count": 67,
     "metadata": {},
     "output_type": "execute_result"
    }
   ],
   "source": [
    "categorical_prefixes.append(curr_col)\n",
    "curr_col = next(cols_with_nan)\n",
    "curr_col"
   ]
  },
  {
   "cell_type": "markdown",
   "metadata": {},
   "source": [
    "### OsBuildLab - Build lab that generated the current OS. Example: 9600.17630.amd64fre.winblue_r7.150109-2022 "
   ]
  },
  {
   "cell_type": "code",
   "execution_count": 68,
   "metadata": {},
   "outputs": [
    {
     "data": {
      "text/plain": [
       "0                   17134.1.amd64fre.rs4_release.180410-1804\n",
       "1                   17134.1.amd64fre.rs4_release.180410-1804\n",
       "2                   17134.1.amd64fre.rs4_release.180410-1804\n",
       "3                   17134.1.amd64fre.rs4_release.180410-1804\n",
       "4                   17134.1.amd64fre.rs4_release.180410-1804\n",
       "                                 ...                        \n",
       "8921478    16299.431.amd64fre.rs3_release_svc_escrow.1805...\n",
       "8921479         10586.672.x86fre.th2_release_sec.161024-1825\n",
       "8921480            16299.15.amd64fre.rs3_release.170928-1534\n",
       "8921481             15063.0.amd64fre.rs2_release.170317-1834\n",
       "8921482             17134.1.amd64fre.rs4_release.180410-1804\n",
       "Name: OsBuildLab, Length: 8921483, dtype: object"
      ]
     },
     "execution_count": 68,
     "metadata": {},
     "output_type": "execute_result"
    }
   ],
   "source": [
    "train_df[curr_col]"
   ]
  },
  {
   "cell_type": "code",
   "execution_count": 69,
   "metadata": {},
   "outputs": [
    {
     "name": "stdout",
     "output_type": "stream",
     "text": [
      "nan\n",
      "nan\n",
      "nan\n",
      "nan\n",
      "nan\n",
      "nan\n",
      "nan\n",
      "nan\n",
      "nan\n",
      "nan\n",
      "nan\n",
      "nan\n",
      "nan\n",
      "nan\n",
      "nan\n",
      "nan\n",
      "nan\n",
      "nan\n",
      "nan\n",
      "nan\n",
      "nan\n"
     ]
    },
    {
     "data": {
      "text/plain": [
       "defaultdict(int, {5: 8921462, 1: 21})"
      ]
     },
     "execution_count": 69,
     "metadata": {},
     "output_type": "execute_result"
    }
   ],
   "source": [
    "split_lengths = defaultdict(int)\n",
    "\n",
    "for el in train_df[curr_col]:\n",
    "    length = len(str(el).split('.'))\n",
    "    split_lengths[length] += 1\n",
    "    if length == 1:\n",
    "        print(el)\n",
    "\n",
    "split_lengths"
   ]
  },
  {
   "cell_type": "markdown",
   "metadata": {},
   "source": [
    "### Разобьём эту фичу на несколько отдельных фич "
   ]
  },
  {
   "cell_type": "code",
   "execution_count": 70,
   "metadata": {},
   "outputs": [],
   "source": [
    "def split_os_build_lab(x):\n",
    "    if x == np.nan:\n",
    "        return [np.nan] * 6\n",
    "    return str(x).split('.')[:-1] + str(x).split('.')[-1].split('-')\n",
    "\n",
    "pipeline += pdp.ApplyByCols(\n",
    "    curr_col,\n",
    "    split_os_build_lab\n",
    ")\n",
    "\n",
    "preprocess_after_pipeline = {}\n",
    "\n",
    "for i in range(6):\n",
    "    col_name = curr_col + f'_{i}'\n",
    "    \n",
    "    pipeline += pdp.ColByFrameFunc(\n",
    "        col_name,\n",
    "        lambda row: row[curr_col][i]\n",
    "    )\n",
    "    \n",
    "    preprocess_after_pipeline.update({col_name: f'Replace NaN with most frequent element'})\n",
    "    \n",
    "pipeline += pdp.ColDrop(\n",
    "    curr_col\n",
    ")"
   ]
  },
  {
   "cell_type": "code",
   "execution_count": 71,
   "metadata": {},
   "outputs": [
    {
     "data": {
      "text/plain": [
       "'IsProtected'"
      ]
     },
     "execution_count": 71,
     "metadata": {},
     "output_type": "execute_result"
    }
   ],
   "source": [
    "curr_col = next(cols_with_nan)\n",
    "curr_col"
   ]
  },
  {
   "cell_type": "markdown",
   "metadata": {},
   "source": [
    "### IsProtected - This is a calculated field derived from the Spynet Report's AV Products field. Returns: \n",
    "### a. TRUE if there is at least one active and up-to-date antivirus product running on this machine. \n",
    "### b. FALSE if there is no active AV product on this machine, or if the AV is active, but is not receiving the latest updates. \n",
    "### c. null if there are no Anti Virus Products in the report. \n",
    "### Returns: Whether a machine is protected. (???)"
   ]
  },
  {
   "cell_type": "code",
   "execution_count": 72,
   "metadata": {},
   "outputs": [
    {
     "data": {
      "text/plain": [
       "array([ 1.,  0., nan], dtype=float16)"
      ]
     },
     "execution_count": 72,
     "metadata": {},
     "output_type": "execute_result"
    }
   ],
   "source": [
    "train_df[curr_col].unique()"
   ]
  },
  {
   "cell_type": "code",
   "execution_count": 73,
   "metadata": {},
   "outputs": [],
   "source": [
    "pipeline = encode_column(\n",
    "    pipeline,\n",
    "    train_df,\n",
    "    curr_col,\n",
    "    0\n",
    ")"
   ]
  },
  {
   "cell_type": "code",
   "execution_count": 74,
   "metadata": {},
   "outputs": [
    {
     "data": {
      "text/plain": [
       "'PuaMode'"
      ]
     },
     "execution_count": 74,
     "metadata": {},
     "output_type": "execute_result"
    }
   ],
   "source": [
    "categorical_prefixes.append(curr_col)\n",
    "curr_col = next(cols_with_nan)\n",
    "curr_col"
   ]
  },
  {
   "cell_type": "markdown",
   "metadata": {},
   "source": [
    "### PuaMode - Pua Enabled mode from the service "
   ]
  },
  {
   "cell_type": "code",
   "execution_count": 75,
   "metadata": {},
   "outputs": [
    {
     "data": {
      "text/plain": [
       "array([nan, 'on', 'audit'], dtype=object)"
      ]
     },
     "execution_count": 75,
     "metadata": {},
     "output_type": "execute_result"
    }
   ],
   "source": [
    "train_df[curr_col].unique() # audit is detection without actions"
   ]
  },
  {
   "cell_type": "code",
   "execution_count": 76,
   "metadata": {},
   "outputs": [],
   "source": [
    "pipeline = encode_column(\n",
    "    pipeline,\n",
    "    train_df,\n",
    "    curr_col,\n",
    "    0\n",
    ")"
   ]
  },
  {
   "cell_type": "code",
   "execution_count": 77,
   "metadata": {},
   "outputs": [
    {
     "data": {
      "text/plain": [
       "'SMode'"
      ]
     },
     "execution_count": 77,
     "metadata": {},
     "output_type": "execute_result"
    }
   ],
   "source": [
    "categorical_prefixes.append(curr_col)\n",
    "curr_col = next(cols_with_nan)\n",
    "curr_col"
   ]
  },
  {
   "cell_type": "markdown",
   "metadata": {},
   "source": [
    "### SMode - This field is set to true when the device is known to be in 'S Mode', as in, Windows 10 S mode, where only Microsoft Store apps can be installed "
   ]
  },
  {
   "cell_type": "code",
   "execution_count": 78,
   "metadata": {},
   "outputs": [
    {
     "data": {
      "text/plain": [
       "0.0    8379843\n",
       "NaN     537759\n",
       "1.0       3881\n",
       "Name: SMode, dtype: int64"
      ]
     },
     "execution_count": 78,
     "metadata": {},
     "output_type": "execute_result"
    }
   ],
   "source": [
    "train_df[curr_col].value_counts(dropna=False)"
   ]
  },
  {
   "cell_type": "code",
   "execution_count": 79,
   "metadata": {},
   "outputs": [],
   "source": [
    "pipeline = encode_column(\n",
    "    pipeline,\n",
    "    train_df,\n",
    "    curr_col,\n",
    "    0\n",
    ")"
   ]
  },
  {
   "cell_type": "code",
   "execution_count": 80,
   "metadata": {},
   "outputs": [
    {
     "data": {
      "text/plain": [
       "'IeVerIdentifier'"
      ]
     },
     "execution_count": 80,
     "metadata": {},
     "output_type": "execute_result"
    }
   ],
   "source": [
    "categorical_prefixes.append(curr_col)\n",
    "curr_col = next(cols_with_nan)\n",
    "curr_col"
   ]
  },
  {
   "cell_type": "markdown",
   "metadata": {},
   "source": [
    "### IeVerIdentifier - NA "
   ]
  },
  {
   "cell_type": "code",
   "execution_count": 83,
   "metadata": {},
   "outputs": [
    {
     "data": {
      "text/html": [
       "<div>\n",
       "<style scoped>\n",
       "    .dataframe tbody tr th:only-of-type {\n",
       "        vertical-align: middle;\n",
       "    }\n",
       "\n",
       "    .dataframe tbody tr th {\n",
       "        vertical-align: top;\n",
       "    }\n",
       "\n",
       "    .dataframe thead th {\n",
       "        text-align: right;\n",
       "    }\n",
       "</style>\n",
       "<table border=\"1\" class=\"dataframe\">\n",
       "  <thead>\n",
       "    <tr style=\"text-align: right;\">\n",
       "      <th></th>\n",
       "      <th>IeVerIdentifier</th>\n",
       "      <th>HasDetections</th>\n",
       "    </tr>\n",
       "  </thead>\n",
       "  <tbody>\n",
       "    <tr>\n",
       "      <th>IeVerIdentifier</th>\n",
       "      <td>1.000000</td>\n",
       "      <td>0.015907</td>\n",
       "    </tr>\n",
       "    <tr>\n",
       "      <th>HasDetections</th>\n",
       "      <td>0.015907</td>\n",
       "      <td>1.000000</td>\n",
       "    </tr>\n",
       "  </tbody>\n",
       "</table>\n",
       "</div>"
      ],
      "text/plain": [
       "                 IeVerIdentifier  HasDetections\n",
       "IeVerIdentifier         1.000000       0.015907\n",
       "HasDetections           0.015907       1.000000"
      ]
     },
     "execution_count": 83,
     "metadata": {},
     "output_type": "execute_result"
    }
   ],
   "source": [
    "train_df[[curr_col, 'HasDetections']].corr()"
   ]
  },
  {
   "cell_type": "code",
   "execution_count": 84,
   "metadata": {},
   "outputs": [
    {
     "name": "stdout",
     "output_type": "stream",
     "text": [
      "[137.  94.  nan 290. 117. 111. 333.  65. 108.  82. 103.  98. 323.  78.\n",
      " 105.  84. 135.  41.  76.  53. 107.  74. 302.  96.  68. 114. 311.  51.\n",
      "  71.  81. 335.  42.  46. 308. 334.  44.  90. 325.  88. 295.  92. 185.\n",
      "  87.  85. 327.  73.  86. 163.  91. 309. 337. 336. 317. 180. 190. 324.\n",
      "  50.  72. 321.  48.  64. 196. 331.  63.  45.  49. 318. 312. 326. 174.\n",
      " 176. 305. 287. 315. 186. 313. 194.  77. 169. 181. 332. 288. 153. 199.\n",
      "  58.  39. 205. 328. 300. 347. 307. 102. 152. 275. 303. 319. 322. 384.\n",
      " 294. 178. 154. 182. 158. 187.  56. 284.  47.  52. 201. 306.  62. 330.\n",
      " 388. 282. 316. 329. 200.  59. 304.  61.  66. 162. 408. 297.  57. 285.\n",
      " 156. 203.  60. 364. 383.  79. 280. 299. 166. 283. 314. 348. 151. 398.\n",
      " 146. 218. 429. 140. 210. 145. 143. 289. 173.   1. 397. 220. 224. 296.\n",
      "   8. 320. 136. 395. 349. 171.  54. 292. 147.  75. 391. 410. 366. 286.\n",
      " 338. 298. 293. 373.  17.  21. 168. 362.  34. 195. 202. 212. 423. 379.\n",
      " 412. 222.  15. 142. 400. 418.   9. 291. 278. 150.  12. 396.  83.  20.\n",
      "  89. 277. 110. 175. 109.  14. 211. 281.  10. 301. 310. 404.  19.  16.\n",
      "  13. 370.  40. 393. 425. 367.  55. 378. 406.  38. 358. 209. 416. 274.\n",
      " 377. 121.  27. 122.  33. 371. 394. 390. 392. 139. 428. 399.  18. 359.\n",
      " 350. 414. 368. 375. 403.  43. 407. 411. 213. 223. 409. 402. 161. 170.\n",
      " 376. 193. 115. 369.   2.  29. 159. 134. 427. 126. 415. 405. 381. 273.\n",
      " 279.  11. 343. 382. 215. 221. 172.  67. 165. 352. 198. 217. 141. 192.\n",
      " 401.  36. 197. 413.  32. 188. 177. 380. 123. 345. 191. 353. 214. 421.\n",
      " 361.  22. 216. 227. 219.  25. 372. 184. 112. 189.]\n"
     ]
    },
    {
     "data": {
      "image/png": "[encoded data removed]",
      "text/plain": [
       "<Figure size 432x288 with 1 Axes>"
      ]
     },
     "metadata": {
      "needs_background": "light"
     },
     "output_type": "display_data"
    },
    {
     "name": "stdout",
     "output_type": "stream",
     "text": [
      "137.0    3885842\n",
      "117.0    1767931\n",
      "108.0     474390\n",
      "111.0     467828\n",
      "98.0      354411\n",
      "135.0     217458\n",
      "53.0      204952\n",
      "74.0      202542\n",
      "94.0      173593\n",
      "105.0     173448\n",
      "333.0     156391\n",
      "107.0     128633\n",
      "103.0     114952\n",
      "96.0       83559\n",
      "NaN        58894\n",
      "76.0       57820\n",
      "71.0       41387\n",
      "41.0       33628\n",
      "114.0      33362\n",
      "323.0      32501\n",
      "335.0      24730\n",
      "334.0      23639\n",
      "87.0       17147\n",
      "81.0       14003\n",
      "78.0       11903\n",
      "82.0       10642\n",
      "73.0       10523\n",
      "337.0      10081\n",
      "42.0        8896\n",
      "302.0       7886\n",
      "Name: IeVerIdentifier, dtype: int64\n"
     ]
    }
   ],
   "source": [
    "column_analysis(train_df, curr_col, 30)"
   ]
  },
  {
   "cell_type": "code",
   "execution_count": 85,
   "metadata": {},
   "outputs": [],
   "source": [
    "pipeline = encode_column(\n",
    "    pipeline,\n",
    "    train_df,\n",
    "    curr_col,\n",
    "    10000\n",
    ")"
   ]
  },
  {
   "cell_type": "code",
   "execution_count": 86,
   "metadata": {},
   "outputs": [
    {
     "data": {
      "text/plain": [
       "'SmartScreen'"
      ]
     },
     "execution_count": 86,
     "metadata": {},
     "output_type": "execute_result"
    }
   ],
   "source": [
    "categorical_prefixes.append(curr_col)\n",
    "curr_col = next(cols_with_nan)\n",
    "curr_col"
   ]
  },
  {
   "cell_type": "markdown",
   "metadata": {},
   "source": [
    "### SmartScreen - This is the SmartScreen enabled string value from registry. This is obtained by checking in order, HKLM\\SOFTWARE\\Policies\\Microsoft\\Windows\\System\\SmartScreenEnabled and HKLM\\SOFTWARE\\Microsoft\\Windows\\CurrentVersion\\Explorer\\SmartScreenEnabled. If the value exists but is blank, the value \"ExistsNotSet\" is sent in telemetry. "
   ]
  },
  {
   "cell_type": "code",
   "execution_count": 87,
   "metadata": {},
   "outputs": [
    {
     "data": {
      "text/plain": [
       "RequireAdmin    4316183\n",
       "NaN             3177011\n",
       "ExistsNotSet    1046183\n",
       "Off              186553\n",
       "Warn             135483\n",
       "Prompt            34533\n",
       "Block             22533\n",
       "off                1350\n",
       "On                  731\n",
       "&#x02;              416\n",
       "&#x01;              335\n",
       "on                  147\n",
       "requireadmin         10\n",
       "OFF                   4\n",
       "0                     3\n",
       "Promt                 2\n",
       "prompt                1\n",
       "requireAdmin          1\n",
       "&#x03;                1\n",
       "Enabled               1\n",
       "warn                  1\n",
       "00000000              1\n",
       "Name: SmartScreen, dtype: int64"
      ]
     },
     "execution_count": 87,
     "metadata": {},
     "output_type": "execute_result"
    }
   ],
   "source": [
    "train_df[curr_col].value_counts(dropna=False)"
   ]
  },
  {
   "cell_type": "markdown",
   "metadata": {},
   "source": [
    "### Значения повторяются"
   ]
  },
  {
   "cell_type": "code",
   "execution_count": 88,
   "metadata": {},
   "outputs": [],
   "source": [
    "pipeline += pdp.ApplyByCols(\n",
    "    curr_col,\n",
    "    lambda x: str(x).tolower()\n",
    ")\n",
    "\n",
    "pipeline += pdp.MapColVals(\n",
    "    curr_col,\n",
    "    mydict({\n",
    "        np.nan: 'NaN', \n",
    "        'enabled': 'on',\n",
    "        '00000000': '0'\n",
    "    })\n",
    ")\n",
    "\n",
    "pipeline += pdp.OneHotEncode(\n",
    "    curr_col\n",
    ")"
   ]
  },
  {
   "cell_type": "code",
   "execution_count": 89,
   "metadata": {},
   "outputs": [
    {
     "data": {
      "text/plain": [
       "'Firewall'"
      ]
     },
     "execution_count": 89,
     "metadata": {},
     "output_type": "execute_result"
    }
   ],
   "source": [
    "categorical_prefixes.append(curr_col)\n",
    "curr_col = next(cols_with_nan)\n",
    "curr_col"
   ]
  },
  {
   "cell_type": "markdown",
   "metadata": {},
   "source": [
    "### Firewall - This attribute is true (1) for Windows 8.1 and above if windows firewall is enabled, as reported by the service. "
   ]
  },
  {
   "cell_type": "code",
   "execution_count": 90,
   "metadata": {},
   "outputs": [
    {
     "name": "stdout",
     "output_type": "stream",
     "text": [
      "[ 1.  0. nan]\n"
     ]
    },
    {
     "data": {
      "image/png": "[encoded data removed]",
      "text/plain": [
       "<Figure size 432x288 with 1 Axes>"
      ]
     },
     "metadata": {
      "needs_background": "light"
     },
     "output_type": "display_data"
    },
    {
     "name": "stdout",
     "output_type": "stream",
     "text": [
      "1.0    8641014\n",
      "0.0     189119\n",
      "NaN      91350\n",
      "Name: Firewall, dtype: int64\n"
     ]
    }
   ],
   "source": [
    "column_analysis(train_df, curr_col)"
   ]
  },
  {
   "cell_type": "code",
   "execution_count": 91,
   "metadata": {},
   "outputs": [],
   "source": [
    "pipeline = encode_column(\n",
    "    pipeline,\n",
    "    train_df,\n",
    "    curr_col,\n",
    "    0\n",
    ")"
   ]
  },
  {
   "cell_type": "code",
   "execution_count": 92,
   "metadata": {},
   "outputs": [
    {
     "data": {
      "text/plain": [
       "'UacLuaenable'"
      ]
     },
     "execution_count": 92,
     "metadata": {},
     "output_type": "execute_result"
    }
   ],
   "source": [
    "categorical_prefixes.append(curr_col)\n",
    "curr_col = next(cols_with_nan)\n",
    "curr_col"
   ]
  },
  {
   "cell_type": "markdown",
   "metadata": {},
   "source": [
    "### UacLuaenable - This attribute reports whether or not the \"administrator in Admin Approval Mode\" user type is disabled or enabled in UAC. The value reported is obtained by reading the regkey HKLM\\SOFTWARE\\Microsoft\\Windows\\CurrentVersion\\Policies\\System\\EnableLUA. "
   ]
  },
  {
   "cell_type": "code",
   "execution_count": 93,
   "metadata": {},
   "outputs": [
    {
     "name": "stdout",
     "output_type": "stream",
     "text": [
      "[1.0000000e+00 0.0000000e+00           nan 4.8000000e+01 3.0000000e+00\n",
      " 2.0000000e+00 6.3570620e+06 4.9000000e+01 1.6777216e+07 5.0000000e+00\n",
      " 2.5500000e+02 7.7988840e+06]\n"
     ]
    },
    {
     "name": "stderr",
     "output_type": "stream",
     "text": [
      "/home/a3nippo/anaconda3/lib/python3.7/site-packages/numpy/lib/histograms.py:839: RuntimeWarning: invalid value encountered in greater_equal\n",
      "  keep = (tmp_a >= first_edge)\n",
      "/home/a3nippo/anaconda3/lib/python3.7/site-packages/numpy/lib/histograms.py:840: RuntimeWarning: invalid value encountered in less_equal\n",
      "  keep &= (tmp_a <= last_edge)\n"
     ]
    },
    {
     "data": {
      "image/png": "[encoded data removed]",
      "text/plain": [
       "<Figure size 432x288 with 1 Axes>"
      ]
     },
     "metadata": {
      "needs_background": "light"
     },
     "output_type": "display_data"
    },
    {
     "name": "stdout",
     "output_type": "stream",
     "text": [
      "1.0           8856517\n",
      "0.0             53851\n",
      "NaN             10838\n",
      "48.0              206\n",
      "2.0                30\n",
      "49.0               17\n",
      "6357062.0          13\n",
      "3.0                 6\n",
      "5.0                 2\n",
      "16777216.0          1\n",
      "Name: UacLuaenable, dtype: int64\n"
     ]
    }
   ],
   "source": [
    "column_analysis(train_df, curr_col)"
   ]
  },
  {
   "cell_type": "code",
   "execution_count": 94,
   "metadata": {},
   "outputs": [],
   "source": [
    "def dummy_transform(x):\n",
    "    if x == np.nan:\n",
    "        return x\n",
    "    if x > 0:\n",
    "        return 1\n",
    "    return x\n",
    "\n",
    "pipeline += pdp.ApplyByCols(\n",
    "    curr_col,\n",
    "    dummy_transform\n",
    ")\n",
    "\n",
    "dummy_dict = mydict()\n",
    "dummy_dict.update({np.nan: 2})\n",
    "\n",
    "pipeline += pdp.MapColVals(\n",
    "    curr_col,\n",
    "    dummy_dict\n",
    ")\n",
    "\n",
    "pipeline += pdp.OneHotEncode(\n",
    "    curr_col\n",
    ")"
   ]
  },
  {
   "cell_type": "code",
   "execution_count": 95,
   "metadata": {},
   "outputs": [
    {
     "data": {
      "text/plain": [
       "'Census_OEMNameIdentifier'"
      ]
     },
     "execution_count": 95,
     "metadata": {},
     "output_type": "execute_result"
    }
   ],
   "source": [
    "categorical_prefixes.append(curr_col)\n",
    "curr_col = next(cols_with_nan)\n",
    "curr_col"
   ]
  },
  {
   "cell_type": "markdown",
   "metadata": {},
   "source": [
    "### Census_OEMNameIdentifier - NA"
   ]
  },
  {
   "cell_type": "code",
   "execution_count": 96,
   "metadata": {},
   "outputs": [
    {
     "name": "stdout",
     "output_type": "stream",
     "text": [
      "[2668. 4908. 1443. ...  312. 3426. 1729.]\n"
     ]
    },
    {
     "data": {
      "image/png": "[encoded data removed]",
      "text/plain": [
       "<Figure size 432x288 with 1 Axes>"
      ]
     },
     "metadata": {
      "needs_background": "light"
     },
     "output_type": "display_data"
    },
    {
     "name": "stdout",
     "output_type": "stream",
     "text": [
      "2668.0    1287276\n",
      "2102.0    1038567\n",
      "1443.0     949531\n",
      "2206.0     924349\n",
      "585.0      895452\n",
      "525.0      842364\n",
      "4588.0     310702\n",
      "4728.0     304104\n",
      "1980.0     285600\n",
      "4144.0     203228\n",
      "4488.0     139799\n",
      "4908.0     138558\n",
      "3036.0     134137\n",
      "3150.0     129941\n",
      "NaN         95478\n",
      "3132.0      84174\n",
      "530.0       76377\n",
      "516.0       70972\n",
      "1780.0      48459\n",
      "666.0       47646\n",
      "3800.0      46823\n",
      "3890.0      43323\n",
      "4916.0      40645\n",
      "2688.0      34021\n",
      "1530.0      27059\n",
      "778.0       26774\n",
      "5080.0      24985\n",
      "639.0       19802\n",
      "528.0       18939\n",
      "2908.0      18602\n",
      "Name: Census_OEMNameIdentifier, dtype: int64\n"
     ]
    }
   ],
   "source": [
    "column_analysis(train_df, curr_col, 30)"
   ]
  },
  {
   "cell_type": "code",
   "execution_count": 97,
   "metadata": {},
   "outputs": [],
   "source": [
    "pipeline = encode_column(\n",
    "    pipeline, \n",
    "    train_df,\n",
    "    curr_col,\n",
    "    200000\n",
    ")"
   ]
  },
  {
   "cell_type": "code",
   "execution_count": 98,
   "metadata": {},
   "outputs": [
    {
     "data": {
      "text/plain": [
       "'Census_OEMModelIdentifier'"
      ]
     },
     "execution_count": 98,
     "metadata": {},
     "output_type": "execute_result"
    }
   ],
   "source": [
    "categorical_prefixes.append(curr_col)\n",
    "curr_col = next(cols_with_nan)\n",
    "curr_col"
   ]
  },
  {
   "cell_type": "markdown",
   "metadata": {},
   "source": [
    "### Census_OEMModelIdentifier - NA "
   ]
  },
  {
   "cell_type": "code",
   "execution_count": 99,
   "metadata": {},
   "outputs": [
    {
     "name": "stdout",
     "output_type": "stream",
     "text": [
      "[  9124.  91656. 317701. ... 145148. 103309. 247716.]\n"
     ]
    },
    {
     "data": {
      "image/png": "[encoded data removed]",
      "text/plain": [
       "<Figure size 432x288 with 1 Axes>"
      ]
     },
     "metadata": {
      "needs_background": "light"
     },
     "output_type": "display_data"
    },
    {
     "name": "stdout",
     "output_type": "stream",
     "text": [
      "313586.0    304782\n",
      "242491.0    263382\n",
      "317701.0    139035\n",
      "317708.0    115257\n",
      "NaN         102233\n",
      "228975.0     79878\n",
      "188345.0     70950\n",
      "245824.0     69529\n",
      "241876.0     68263\n",
      "244755.0     49630\n",
      "Name: Census_OEMModelIdentifier, dtype: int64\n"
     ]
    }
   ],
   "source": [
    "column_analysis(train_df, curr_col)"
   ]
  },
  {
   "cell_type": "code",
   "execution_count": 100,
   "metadata": {},
   "outputs": [],
   "source": [
    "pipeline = encode_column(\n",
    "    pipeline, \n",
    "    train_df,\n",
    "    curr_col,\n",
    "    50000\n",
    ")"
   ]
  },
  {
   "cell_type": "code",
   "execution_count": 101,
   "metadata": {},
   "outputs": [
    {
     "data": {
      "text/plain": [
       "'Census_ProcessorCoreCount'"
      ]
     },
     "execution_count": 101,
     "metadata": {},
     "output_type": "execute_result"
    }
   ],
   "source": [
    "categorical_prefixes.append(curr_col)\n",
    "curr_col = next(cols_with_nan)\n",
    "curr_col"
   ]
  },
  {
   "cell_type": "markdown",
   "metadata": {},
   "source": [
    "### Census_ProcessorCoreCount - Number of logical cores in the processor "
   ]
  },
  {
   "cell_type": "code",
   "execution_count": 102,
   "metadata": {},
   "outputs": [
    {
     "name": "stdout",
     "output_type": "stream",
     "text": [
      "[  4.   2.   8.  12.   1.   6.  nan  16.   3.  20.  32.  24.  40.   5.\n",
      "  10.  80.  56.  48.  36.  72.  64.  28.  88.   7.  14.  96. 112.  44.\n",
      "  15.  50.  11.  30. 128.   9.  46.  22.  54. 144.  18. 120.  52.  26.\n",
      " 192.  25. 104.  13.]\n"
     ]
    },
    {
     "data": {
      "image/png": "[encoded data removed]",
      "text/plain": [
       "<Figure size 432x288 with 1 Axes>"
      ]
     },
     "metadata": {
      "needs_background": "light"
     },
     "output_type": "display_data"
    },
    {
     "name": "stdout",
     "output_type": "stream",
     "text": [
      "4.0      5430193\n",
      "2.0      2311969\n",
      "8.0       865004\n",
      "12.0       92702\n",
      "1.0        70390\n",
      "6.0        69910\n",
      "NaN        41306\n",
      "16.0       18551\n",
      "3.0        13580\n",
      "32.0        2136\n",
      "24.0        1847\n",
      "20.0        1781\n",
      "40.0         506\n",
      "36.0         287\n",
      "28.0         271\n",
      "48.0         235\n",
      "5.0          216\n",
      "56.0         132\n",
      "10.0          98\n",
      "64.0          93\n",
      "7.0           92\n",
      "72.0          39\n",
      "88.0          23\n",
      "14.0          22\n",
      "80.0          20\n",
      "44.0          16\n",
      "30.0          10\n",
      "9.0            7\n",
      "96.0           6\n",
      "112.0          6\n",
      "18.0           5\n",
      "22.0           4\n",
      "11.0           4\n",
      "52.0           3\n",
      "128.0          3\n",
      "46.0           3\n",
      "104.0          2\n",
      "15.0           2\n",
      "26.0           2\n",
      "120.0          1\n",
      "13.0           1\n",
      "144.0          1\n",
      "50.0           1\n",
      "192.0          1\n",
      "54.0           1\n",
      "25.0           1\n",
      "Name: Census_ProcessorCoreCount, dtype: int64\n"
     ]
    }
   ],
   "source": [
    "column_analysis(train_df, curr_col, 50)"
   ]
  },
  {
   "cell_type": "code",
   "execution_count": 103,
   "metadata": {},
   "outputs": [],
   "source": [
    "pipeline = encode_column(\n",
    "    pipeline, \n",
    "    train_df,\n",
    "    curr_col,\n",
    "    1000\n",
    ")"
   ]
  },
  {
   "cell_type": "code",
   "execution_count": 104,
   "metadata": {},
   "outputs": [
    {
     "data": {
      "text/plain": [
       "'Census_ProcessorManufacturerIdentifier'"
      ]
     },
     "execution_count": 104,
     "metadata": {},
     "output_type": "execute_result"
    }
   ],
   "source": [
    "categorical_prefixes.append(curr_col)\n",
    "curr_col = next(cols_with_nan)\n",
    "curr_col"
   ]
  },
  {
   "cell_type": "markdown",
   "metadata": {},
   "source": [
    "### Census_ProcessorManufacturerIdentifier - NA"
   ]
  },
  {
   "cell_type": "code",
   "execution_count": 105,
   "metadata": {},
   "outputs": [
    {
     "name": "stdout",
     "output_type": "stream",
     "text": [
      "[ 5.  1. 10. nan  3.  4.  7.  9.]\n"
     ]
    },
    {
     "data": {
      "image/png": "[encoded data removed]",
      "text/plain": [
       "<Figure size 432x288 with 1 Axes>"
      ]
     },
     "metadata": {
      "needs_background": "light"
     },
     "output_type": "display_data"
    },
    {
     "name": "stdout",
     "output_type": "stream",
     "text": [
      "5.0     7839318\n",
      "1.0     1040292\n",
      "NaN       41313\n",
      "10.0        339\n",
      "3.0         218\n",
      "9.0           1\n",
      "7.0           1\n",
      "4.0           1\n",
      "Name: Census_ProcessorManufacturerIdentifier, dtype: int64\n"
     ]
    }
   ],
   "source": [
    "column_analysis(train_df, curr_col)"
   ]
  },
  {
   "cell_type": "code",
   "execution_count": 106,
   "metadata": {},
   "outputs": [],
   "source": [
    "pipeline = encode_column(\n",
    "    pipeline, \n",
    "    train_df,\n",
    "    curr_col,\n",
    "    1000\n",
    ")"
   ]
  },
  {
   "cell_type": "code",
   "execution_count": 107,
   "metadata": {},
   "outputs": [
    {
     "data": {
      "text/plain": [
       "'Census_ProcessorModelIdentifier'"
      ]
     },
     "execution_count": 107,
     "metadata": {},
     "output_type": "execute_result"
    }
   ],
   "source": [
    "categorical_prefixes.append(curr_col)\n",
    "curr_col = next(cols_with_nan)\n",
    "curr_col"
   ]
  },
  {
   "cell_type": "markdown",
   "metadata": {},
   "source": [
    "### Census_ProcessorModelIdentifier - NA"
   ]
  },
  {
   "cell_type": "code",
   "execution_count": 108,
   "metadata": {},
   "outputs": [
    {
     "name": "stdout",
     "output_type": "stream",
     "text": [
      "[2340. 2404. 1972. ... 2154. 1728.  277.]\n"
     ]
    },
    {
     "data": {
      "image/png": "[encoded data removed]",
      "text/plain": [
       "<Figure size 432x288 with 1 Axes>"
      ]
     },
     "metadata": {
      "needs_background": "light"
     },
     "output_type": "display_data"
    },
    {
     "name": "stdout",
     "output_type": "stream",
     "text": [
      "2696.0    289284\n",
      "1998.0    267397\n",
      "2660.0    195737\n",
      "2372.0    175412\n",
      "1992.0    171728\n",
      "2382.0    170651\n",
      "2640.0    153720\n",
      "2524.0    142527\n",
      "1985.0    135682\n",
      "2096.0    134925\n",
      "Name: Census_ProcessorModelIdentifier, dtype: int64\n"
     ]
    }
   ],
   "source": [
    "column_analysis(train_df, curr_col)"
   ]
  },
  {
   "cell_type": "code",
   "execution_count": 109,
   "metadata": {},
   "outputs": [],
   "source": [
    "pipeline = encode_column(\n",
    "    pipeline, \n",
    "    train_df,\n",
    "    curr_col,\n",
    "    50000\n",
    ")"
   ]
  },
  {
   "cell_type": "code",
   "execution_count": 110,
   "metadata": {},
   "outputs": [
    {
     "data": {
      "text/plain": [
       "'Census_ProcessorClass'"
      ]
     },
     "execution_count": 110,
     "metadata": {},
     "output_type": "execute_result"
    }
   ],
   "source": [
    "categorical_prefixes.append(curr_col)\n",
    "curr_col = next(cols_with_nan)\n",
    "curr_col"
   ]
  },
  {
   "cell_type": "markdown",
   "metadata": {},
   "source": [
    "### Census_ProcessorClass - A classification of processors into high/medium/low. Initially used for Pricing Level SKU. No longer maintained and updated "
   ]
  },
  {
   "cell_type": "code",
   "execution_count": 112,
   "metadata": {},
   "outputs": [
    {
     "name": "stdout",
     "output_type": "stream",
     "text": [
      "[nan 'mid' 'low' 'high']\n"
     ]
    },
    {
     "name": "stderr",
     "output_type": "stream",
     "text": [
      "No handles with labels found to put in legend.\n"
     ]
    },
    {
     "data": {
      "image/png": "[encoded data removed]",
      "text/plain": [
       "<Figure size 432x288 with 1 Axes>"
      ]
     },
     "metadata": {
      "needs_background": "light"
     },
     "output_type": "display_data"
    },
    {
     "name": "stdout",
     "output_type": "stream",
     "text": [
      "NaN     8884852\n",
      "mid       20914\n",
      "low        9621\n",
      "high       6096\n",
      "Name: Census_ProcessorClass, dtype: int64\n"
     ]
    }
   ],
   "source": [
    "column_analysis(train_df, curr_col, hist=False)"
   ]
  },
  {
   "cell_type": "code",
   "execution_count": 113,
   "metadata": {},
   "outputs": [],
   "source": [
    "pipeline = encode_column(\n",
    "    pipeline, \n",
    "    train_df,\n",
    "    curr_col,\n",
    "    0\n",
    ")"
   ]
  },
  {
   "cell_type": "code",
   "execution_count": 114,
   "metadata": {},
   "outputs": [
    {
     "data": {
      "text/plain": [
       "'Census_PrimaryDiskTotalCapacity'"
      ]
     },
     "execution_count": 114,
     "metadata": {},
     "output_type": "execute_result"
    }
   ],
   "source": [
    "categorical_prefixes.append(curr_col)\n",
    "curr_col = next(cols_with_nan)\n",
    "curr_col"
   ]
  },
  {
   "cell_type": "code",
   "execution_count": null,
   "metadata": {},
   "outputs": [],
   "source": [
    "CHECKPOINT"
   ]
  },
  {
   "cell_type": "markdown",
   "metadata": {},
   "source": [
    "### Census_PrimaryDiskTotalCapacity - Amount of disk space on primary disk of the machine in MB "
   ]
  },
  {
   "cell_type": "code",
   "execution_count": 115,
   "metadata": {},
   "outputs": [
    {
     "data": {
      "text/plain": [
       "476940.0     2841530\n",
       "953869.0     2175780\n",
       "305245.0      474616\n",
       "122104.0      469060\n",
       "244198.0      452284\n",
       "238475.0      312093\n",
       "29820.0       303493\n",
       "114473.0      259542\n",
       "715404.0      245946\n",
       "228936.0      159491\n",
       "152627.0      117362\n",
       "1907729.0      98160\n",
       "488386.0       96985\n",
       "59640.0        95669\n",
       "29824.0        88731\n",
       "610480.0       84850\n",
       "NaN            53016\n",
       "29600.0        43855\n",
       "76319.0        27882\n",
       "457862.0       25321\n",
       "59648.0        21240\n",
       "119276.0       19967\n",
       "114480.0       18888\n",
       "61057.0        18379\n",
       "239372.0       16983\n",
       "29184.0        16183\n",
       "476938.0       15611\n",
       "228944.0       15259\n",
       "115712.0       14021\n",
       "57241.0        12829\n",
       "Name: Census_PrimaryDiskTotalCapacity, dtype: int64"
      ]
     },
     "execution_count": 115,
     "metadata": {},
     "output_type": "execute_result"
    }
   ],
   "source": [
    "train_df[curr_col].value_counts(dropna=False).nlargest(30)"
   ]
  },
  {
   "cell_type": "code",
   "execution_count": 116,
   "metadata": {},
   "outputs": [],
   "source": [
    "target = 'HasDetections'"
   ]
  },
  {
   "cell_type": "code",
   "execution_count": 117,
   "metadata": {},
   "outputs": [
    {
     "data": {
      "text/html": [
       "<div>\n",
       "<style scoped>\n",
       "    .dataframe tbody tr th:only-of-type {\n",
       "        vertical-align: middle;\n",
       "    }\n",
       "\n",
       "    .dataframe tbody tr th {\n",
       "        vertical-align: top;\n",
       "    }\n",
       "\n",
       "    .dataframe thead th {\n",
       "        text-align: right;\n",
       "    }\n",
       "</style>\n",
       "<table border=\"1\" class=\"dataframe\">\n",
       "  <thead>\n",
       "    <tr style=\"text-align: right;\">\n",
       "      <th></th>\n",
       "      <th>Census_PrimaryDiskTotalCapacity</th>\n",
       "      <th>HasDetections</th>\n",
       "    </tr>\n",
       "  </thead>\n",
       "  <tbody>\n",
       "    <tr>\n",
       "      <th>Census_PrimaryDiskTotalCapacity</th>\n",
       "      <td>1.00000</td>\n",
       "      <td>0.00017</td>\n",
       "    </tr>\n",
       "    <tr>\n",
       "      <th>HasDetections</th>\n",
       "      <td>0.00017</td>\n",
       "      <td>1.00000</td>\n",
       "    </tr>\n",
       "  </tbody>\n",
       "</table>\n",
       "</div>"
      ],
      "text/plain": [
       "                                 Census_PrimaryDiskTotalCapacity  \\\n",
       "Census_PrimaryDiskTotalCapacity                          1.00000   \n",
       "HasDetections                                            0.00017   \n",
       "\n",
       "                                 HasDetections  \n",
       "Census_PrimaryDiskTotalCapacity        0.00017  \n",
       "HasDetections                          1.00000  "
      ]
     },
     "execution_count": 117,
     "metadata": {},
     "output_type": "execute_result"
    }
   ],
   "source": [
    "train_df[[curr_col, target]].corr()"
   ]
  },
  {
   "cell_type": "code",
   "execution_count": 118,
   "metadata": {},
   "outputs": [],
   "source": [
    "pipeline = encode_column(\n",
    "    pipeline, \n",
    "    train_df,\n",
    "    curr_col,\n",
    "    100000\n",
    ")"
   ]
  },
  {
   "cell_type": "code",
   "execution_count": 119,
   "metadata": {},
   "outputs": [
    {
     "data": {
      "text/plain": [
       "'Census_PrimaryDiskTypeName'"
      ]
     },
     "execution_count": 119,
     "metadata": {},
     "output_type": "execute_result"
    }
   ],
   "source": [
    "categorical_prefixes.append(curr_col)\n",
    "curr_col = next(cols_with_nan)\n",
    "curr_col"
   ]
  },
  {
   "cell_type": "markdown",
   "metadata": {},
   "source": [
    "### Census_PrimaryDiskTypeName - Friendly name of Primary Disk Type - HDD or SSD "
   ]
  },
  {
   "cell_type": "code",
   "execution_count": 120,
   "metadata": {},
   "outputs": [
    {
     "name": "stdout",
     "output_type": "stream",
     "text": [
      "['HDD' 'SSD' 'UNKNOWN' 'Unspecified' nan]\n"
     ]
    },
    {
     "name": "stderr",
     "output_type": "stream",
     "text": [
      "No handles with labels found to put in legend.\n"
     ]
    },
    {
     "data": {
      "image/png": "[encoded data removed]",
      "text/plain": [
       "<Figure size 432x288 with 1 Axes>"
      ]
     },
     "metadata": {
      "needs_background": "light"
     },
     "output_type": "display_data"
    },
    {
     "name": "stdout",
     "output_type": "stream",
     "text": [
      "HDD            5806804\n",
      "SSD            2466808\n",
      "UNKNOWN         358251\n",
      "Unspecified     276776\n",
      "NaN              12844\n",
      "Name: Census_PrimaryDiskTypeName, dtype: int64\n"
     ]
    }
   ],
   "source": [
    "column_analysis(train_df, curr_col, hist=False)"
   ]
  },
  {
   "cell_type": "code",
   "execution_count": 121,
   "metadata": {},
   "outputs": [],
   "source": [
    "dummy_dict = defaultdict(int)\n",
    "dummy_dict.update({\n",
    "    'HDD': 1,\n",
    "    'SSD': 2\n",
    "})\n",
    "\n",
    "pipeline += pdp.MapColVals(\n",
    "    curr_col,\n",
    "    dummy_dict\n",
    ")\n",
    "\n",
    "pipeline += pdp.OneHotEncode(\n",
    "    curr_col\n",
    ")"
   ]
  },
  {
   "cell_type": "code",
   "execution_count": 122,
   "metadata": {},
   "outputs": [
    {
     "data": {
      "text/plain": [
       "'Census_SystemVolumeTotalCapacity'"
      ]
     },
     "execution_count": 122,
     "metadata": {},
     "output_type": "execute_result"
    }
   ],
   "source": [
    "categorical_prefixes.append(curr_col)\n",
    "curr_col = next(cols_with_nan)\n",
    "curr_col"
   ]
  },
  {
   "cell_type": "markdown",
   "metadata": {},
   "source": [
    "### Census_SystemVolumeTotalCapacity - The size of the partition that the System volume is installed on in MB "
   ]
  },
  {
   "cell_type": "code",
   "execution_count": 125,
   "metadata": {},
   "outputs": [
    {
     "name": "stdout",
     "output_type": "stream",
     "text": [
      "[299451. 102385. 113907. ... 345317. 165344. 637127.]\n"
     ]
    },
    {
     "name": "stderr",
     "output_type": "stream",
     "text": [
      "/home/a3nippo/anaconda3/lib/python3.7/site-packages/numpy/lib/histograms.py:839: RuntimeWarning: invalid value encountered in greater_equal\n",
      "  keep = (tmp_a >= first_edge)\n",
      "/home/a3nippo/anaconda3/lib/python3.7/site-packages/numpy/lib/histograms.py:840: RuntimeWarning: invalid value encountered in less_equal\n",
      "  keep &= (tmp_a <= last_edge)\n"
     ]
    },
    {
     "data": {
      "image/png": "[encoded data removed]",
      "text/plain": [
       "<Figure size 432x288 with 1 Axes>"
      ]
     },
     "metadata": {
      "needs_background": "light"
     },
     "output_type": "display_data"
    },
    {
     "name": "stdout",
     "output_type": "stream",
     "text": [
      "NaN         53002\n",
      "28542.0     51998\n",
      "926992.0    50430\n",
      "476389.0    44435\n",
      "953253.0    41572\n",
      "102400.0    41257\n",
      "476324.0    40925\n",
      "952728.0    38251\n",
      "476323.0    35410\n",
      "475799.0    33723\n",
      "952727.0    33714\n",
      "952792.0    32698\n",
      "28558.0     31740\n",
      "476438.0    30906\n",
      "243582.0    28784\n",
      "476373.0    27279\n",
      "380772.0    26999\n",
      "476388.0    26770\n",
      "381546.0    26688\n",
      "121488.0    26600\n",
      "Name: Census_SystemVolumeTotalCapacity, dtype: int64\n"
     ]
    }
   ],
   "source": [
    "column_analysis(train_df, curr_col, 20)"
   ]
  },
  {
   "cell_type": "code",
   "execution_count": 124,
   "metadata": {},
   "outputs": [
    {
     "data": {
      "text/html": [
       "<div>\n",
       "<style scoped>\n",
       "    .dataframe tbody tr th:only-of-type {\n",
       "        vertical-align: middle;\n",
       "    }\n",
       "\n",
       "    .dataframe tbody tr th {\n",
       "        vertical-align: top;\n",
       "    }\n",
       "\n",
       "    .dataframe thead th {\n",
       "        text-align: right;\n",
       "    }\n",
       "</style>\n",
       "<table border=\"1\" class=\"dataframe\">\n",
       "  <thead>\n",
       "    <tr style=\"text-align: right;\">\n",
       "      <th></th>\n",
       "      <th>Census_SystemVolumeTotalCapacity</th>\n",
       "      <th>HasDetections</th>\n",
       "    </tr>\n",
       "  </thead>\n",
       "  <tbody>\n",
       "    <tr>\n",
       "      <th>Census_SystemVolumeTotalCapacity</th>\n",
       "      <td>1.000000</td>\n",
       "      <td>0.014481</td>\n",
       "    </tr>\n",
       "    <tr>\n",
       "      <th>HasDetections</th>\n",
       "      <td>0.014481</td>\n",
       "      <td>1.000000</td>\n",
       "    </tr>\n",
       "  </tbody>\n",
       "</table>\n",
       "</div>"
      ],
      "text/plain": [
       "                                  Census_SystemVolumeTotalCapacity  \\\n",
       "Census_SystemVolumeTotalCapacity                          1.000000   \n",
       "HasDetections                                             0.014481   \n",
       "\n",
       "                                  HasDetections  \n",
       "Census_SystemVolumeTotalCapacity       0.014481  \n",
       "HasDetections                          1.000000  "
      ]
     },
     "execution_count": 124,
     "metadata": {},
     "output_type": "execute_result"
    }
   ],
   "source": [
    "train_df[[curr_col, target]].corr()"
   ]
  },
  {
   "cell_type": "code",
   "execution_count": null,
   "metadata": {},
   "outputs": [],
   "source": []
  }
 ],
 "metadata": {
  "kernelspec": {
   "display_name": "Python 3",
   "language": "python",
   "name": "python3"
  },
  "language_info": {
   "codemirror_mode": {
    "name": "ipython",
    "version": 3
   },
   "file_extension": ".py",
   "mimetype": "text/x-python",
   "name": "python",
   "nbconvert_exporter": "python",
   "pygments_lexer": "ipython3",
   "version": "3.7.5"
  }
 },
 "nbformat": 4,
 "nbformat_minor": 2
}
