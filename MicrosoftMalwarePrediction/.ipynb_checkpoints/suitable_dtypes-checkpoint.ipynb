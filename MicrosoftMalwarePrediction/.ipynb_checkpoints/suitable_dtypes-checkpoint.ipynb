{
 "cells": [
  {
   "cell_type": "code",
   "execution_count": 1,
   "metadata": {},
   "outputs": [],
   "source": [
    "import pandas as pd\n",
    "import dask.dataframe as dd\n",
    "\n",
    "import numpy as np\n",
    "import matplotlib.pyplot as plt\n",
    "import seaborn as sns"
   ]
  },
  {
   "cell_type": "code",
   "execution_count": 31,
   "metadata": {},
   "outputs": [],
   "source": [
    "train_df = pd.read_csv('train.csv', chunksize=100000)"
   ]
  },
  {
   "cell_type": "code",
   "execution_count": 33,
   "metadata": {},
   "outputs": [
    {
     "name": "stderr",
     "output_type": "stream",
     "text": [
      "/home/a3nippo/anaconda3/lib/python3.7/site-packages/IPython/core/interactiveshell.py:3063: DtypeWarning: Columns (28) have mixed types.Specify dtype option on import or set low_memory=False.\n",
      "  interactivity=interactivity, compiler=compiler, result=result)\n"
     ]
    }
   ],
   "source": [
    "max_vals = {}\n",
    "min_vals = {}\n",
    "float_cols = set()\n",
    "\n",
    "for chunk in train_df:\n",
    "    chunk = chunk.select_dtypes(exclude='object')\n",
    "\n",
    "    for column in chunk.columns:\n",
    "        if chunk[column].dtype == np.float:\n",
    "            float_cols.add(column)\n",
    "            \n",
    "        max_value = chunk[column].max()\n",
    "        max_vals[column] = max(max_vals.get(column, max_value), max_value)\n",
    "\n",
    "        min_value = chunk[column].min()\n",
    "        min_vals[column] = min(min_vals.get(column, min_value), min_value)"
   ]
  },
  {
   "cell_type": "code",
   "execution_count": 36,
   "metadata": {},
   "outputs": [],
   "source": [
    "float_dtypes = [np.float16, np.float32, np.float64]\n",
    "uint_dtypes = [np.uint8, np.uint16, np.uint32, np.uint64]\n",
    "int_dtypes = [np.int8, np.int16, np.int32, np.int64]\n",
    "\n",
    "float_finfo = [np.finfo(el) for el in float_dtypes]\n",
    "uint_iinfo = [np.iinfo(el) for el in uint_dtypes]\n",
    "int_iinfo = [np.iinfo(el) for el in int_dtypes]\n",
    "\n",
    "\n",
    "def choose_type(column, dtypes, dtype_infos):\n",
    "    for dtype, dtype_info in zip(dtypes, dtype_infos):\n",
    "        if max_vals[column] <= dtype_info.max and \\\n",
    "           min_vals[column] >= dtype_info.min:\n",
    "            return dtype\n",
    "\n",
    "        \n",
    "def get_suitable_dtype(column):\n",
    "    if column in float_cols:\n",
    "        return choose_type(column, float_dtypes, float_finfo)\n",
    "    \n",
    "    if min_vals[column] < 0:\n",
    "        return choose_type(column, int_dtypes, int_iinfo)\n",
    "    \n",
    "    return choose_type(column, uint_dtypes, uint_iinfo)"
   ]
  },
  {
   "cell_type": "code",
   "execution_count": 37,
   "metadata": {},
   "outputs": [],
   "source": [
    "suitable_dtypes = [(col, get_suitable_dtype(col)) for col in max_vals]\n",
    "suitable_dtypes = dict(suitable_dtypes)"
   ]
  },
  {
   "cell_type": "code",
   "execution_count": 40,
   "metadata": {},
   "outputs": [
    {
     "data": {
      "text/html": [
       "<div>\n",
       "<style scoped>\n",
       "    .dataframe tbody tr th:only-of-type {\n",
       "        vertical-align: middle;\n",
       "    }\n",
       "\n",
       "    .dataframe tbody tr th {\n",
       "        vertical-align: top;\n",
       "    }\n",
       "\n",
       "    .dataframe thead th {\n",
       "        text-align: right;\n",
       "    }\n",
       "</style>\n",
       "<table border=\"1\" class=\"dataframe\">\n",
       "  <thead>\n",
       "    <tr style=\"text-align: right;\">\n",
       "      <th></th>\n",
       "    </tr>\n",
       "  </thead>\n",
       "  <tbody>\n",
       "    <tr>\n",
       "      <th>8900000</th>\n",
       "    </tr>\n",
       "    <tr>\n",
       "      <th>8900001</th>\n",
       "    </tr>\n",
       "    <tr>\n",
       "      <th>8900002</th>\n",
       "    </tr>\n",
       "    <tr>\n",
       "      <th>8900003</th>\n",
       "    </tr>\n",
       "    <tr>\n",
       "      <th>8900004</th>\n",
       "    </tr>\n",
       "    <tr>\n",
       "      <th>...</th>\n",
       "    </tr>\n",
       "    <tr>\n",
       "      <th>8921478</th>\n",
       "    </tr>\n",
       "    <tr>\n",
       "      <th>8921479</th>\n",
       "    </tr>\n",
       "    <tr>\n",
       "      <th>8921480</th>\n",
       "    </tr>\n",
       "    <tr>\n",
       "      <th>8921481</th>\n",
       "    </tr>\n",
       "    <tr>\n",
       "      <th>8921482</th>\n",
       "    </tr>\n",
       "  </tbody>\n",
       "</table>\n",
       "<p>21483 rows × 0 columns</p>\n",
       "</div>"
      ],
      "text/plain": [
       "Empty DataFrame\n",
       "Columns: []\n",
       "Index: [8900000, 8900001, 8900002, 8900003, 8900004, 8900005, 8900006, 8900007, 8900008, 8900009, 8900010, 8900011, 8900012, 8900013, 8900014, 8900015, 8900016, 8900017, 8900018, 8900019, 8900020, 8900021, 8900022, 8900023, 8900024, 8900025, 8900026, 8900027, 8900028, 8900029, 8900030, 8900031, 8900032, 8900033, 8900034, 8900035, 8900036, 8900037, 8900038, 8900039, 8900040, 8900041, 8900042, 8900043, 8900044, 8900045, 8900046, 8900047, 8900048, 8900049, 8900050, 8900051, 8900052, 8900053, 8900054, 8900055, 8900056, 8900057, 8900058, 8900059, 8900060, 8900061, 8900062, 8900063, 8900064, 8900065, 8900066, 8900067, 8900068, 8900069, 8900070, 8900071, 8900072, 8900073, 8900074, 8900075, 8900076, 8900077, 8900078, 8900079, 8900080, 8900081, 8900082, 8900083, 8900084, 8900085, 8900086, 8900087, 8900088, 8900089, 8900090, 8900091, 8900092, 8900093, 8900094, 8900095, 8900096, 8900097, 8900098, 8900099, ...]\n",
       "\n",
       "[21483 rows x 0 columns]"
      ]
     },
     "execution_count": 40,
     "metadata": {},
     "output_type": "execute_result"
    }
   ],
   "source": [
    "chunk.select_dtypes(include=np.object)"
   ]
  },
  {
   "cell_type": "code",
   "execution_count": 39,
   "metadata": {},
   "outputs": [
    {
     "name": "stdout",
     "output_type": "stream",
     "text": [
      "{'AVProductStatesIdentifier': <class 'numpy.float32'>,\n",
      " 'AVProductsEnabled': <class 'numpy.float16'>,\n",
      " 'AVProductsInstalled': <class 'numpy.float16'>,\n",
      " 'AutoSampleOptIn': <class 'numpy.uint8'>,\n",
      " 'Census_FirmwareManufacturerIdentifier': <class 'numpy.float16'>,\n",
      " 'Census_FirmwareVersionIdentifier': <class 'numpy.float32'>,\n",
      " 'Census_HasOpticalDiskDrive': <class 'numpy.uint8'>,\n",
      " 'Census_InternalBatteryNumberOfCharges': <class 'numpy.float32'>,\n",
      " 'Census_InternalPrimaryDiagonalDisplaySizeInInches': <class 'numpy.float16'>,\n",
      " 'Census_InternalPrimaryDisplayResolutionHorizontal': <class 'numpy.float16'>,\n",
      " 'Census_InternalPrimaryDisplayResolutionVertical': <class 'numpy.float16'>,\n",
      " 'Census_IsAlwaysOnAlwaysConnectedCapable': <class 'numpy.float16'>,\n",
      " 'Census_IsFlightingInternal': <class 'numpy.float16'>,\n",
      " 'Census_IsFlightsDisabled': <class 'numpy.float16'>,\n",
      " 'Census_IsPenCapable': <class 'numpy.uint8'>,\n",
      " 'Census_IsPortableOperatingSystem': <class 'numpy.uint8'>,\n",
      " 'Census_IsSecureBootEnabled': <class 'numpy.uint8'>,\n",
      " 'Census_IsTouchEnabled': <class 'numpy.uint8'>,\n",
      " 'Census_IsVirtualDevice': <class 'numpy.float16'>,\n",
      " 'Census_IsWIMBootEnabled': <class 'numpy.float16'>,\n",
      " 'Census_OEMModelIdentifier': <class 'numpy.float32'>,\n",
      " 'Census_OEMNameIdentifier': <class 'numpy.float16'>,\n",
      " 'Census_OSBuildNumber': <class 'numpy.uint16'>,\n",
      " 'Census_OSBuildRevision': <class 'numpy.uint16'>,\n",
      " 'Census_OSInstallLanguageIdentifier': <class 'numpy.float16'>,\n",
      " 'Census_OSUILocaleIdentifier': <class 'numpy.uint8'>,\n",
      " 'Census_PrimaryDiskTotalCapacity': <class 'numpy.float32'>,\n",
      " 'Census_ProcessorCoreCount': <class 'numpy.float16'>,\n",
      " 'Census_ProcessorManufacturerIdentifier': <class 'numpy.float16'>,\n",
      " 'Census_ProcessorModelIdentifier': <class 'numpy.float16'>,\n",
      " 'Census_SystemVolumeTotalCapacity': <class 'numpy.float32'>,\n",
      " 'Census_ThresholdOptIn': <class 'numpy.float16'>,\n",
      " 'Census_TotalPhysicalRAM': <class 'numpy.float32'>,\n",
      " 'CityIdentifier': <class 'numpy.float32'>,\n",
      " 'CountryIdentifier': <class 'numpy.uint8'>,\n",
      " 'DefaultBrowsersIdentifier': <class 'numpy.float16'>,\n",
      " 'Firewall': <class 'numpy.float16'>,\n",
      " 'GeoNameIdentifier': <class 'numpy.float16'>,\n",
      " 'HasDetections': <class 'numpy.uint8'>,\n",
      " 'HasTpm': <class 'numpy.uint8'>,\n",
      " 'IeVerIdentifier': <class 'numpy.float16'>,\n",
      " 'IsBeta': <class 'numpy.uint8'>,\n",
      " 'IsProtected': <class 'numpy.float16'>,\n",
      " 'IsSxsPassiveMode': <class 'numpy.uint8'>,\n",
      " 'LocaleEnglishNameIdentifier': <class 'numpy.uint16'>,\n",
      " 'OrganizationIdentifier': <class 'numpy.float16'>,\n",
      " 'OsBuild': <class 'numpy.uint16'>,\n",
      " 'OsSuite': <class 'numpy.uint16'>,\n",
      " 'RtpStateBitfield': <class 'numpy.float16'>,\n",
      " 'SMode': <class 'numpy.float16'>,\n",
      " 'UacLuaenable': <class 'numpy.float32'>,\n",
      " 'Wdft_IsGamer': <class 'numpy.float16'>,\n",
      " 'Wdft_RegionIdentifier': <class 'numpy.float16'>}\n"
     ]
    }
   ],
   "source": [
    "import pprint\n",
    "\n",
    "pprint.pprint(suitable_dtypes)"
   ]
  },
  {
   "cell_type": "code",
   "execution_count": 51,
   "metadata": {},
   "outputs": [
    {
     "name": "stderr",
     "output_type": "stream",
     "text": [
      "/home/a3nippo/anaconda3/lib/python3.7/site-packages/IPython/core/interactiveshell.py:3063: DtypeWarning: Columns (28) have mixed types.Specify dtype option on import or set low_memory=False.\n",
      "  interactivity=interactivity, compiler=compiler, result=result)\n"
     ]
    }
   ],
   "source": [
    "train_df = pd.read_csv('train.csv', chunksize=100000)\n",
    "\n",
    "chunk = next(train_df)\n",
    "\n",
    "object_cols = list(chunk.select_dtypes(include=np.object).dtypes.index)\n",
    "\n",
    "suitable_dtypes.update({el:np.object for el in object_cols})"
   ]
  },
  {
   "cell_type": "code",
   "execution_count": 53,
   "metadata": {},
   "outputs": [],
   "source": [
    "import pickle\n",
    "\n",
    "with open('suitable_dtypes.pkl', 'wb') as f:\n",
    "    pickle.dump(suitable_dtypes, f)"
   ]
  },
  {
   "cell_type": "code",
   "execution_count": null,
   "metadata": {},
   "outputs": [],
   "source": []
  }
 ],
 "metadata": {
  "kernelspec": {
   "display_name": "Python 3",
   "language": "python",
   "name": "python3"
  },
  "language_info": {
   "codemirror_mode": {
    "name": "ipython",
    "version": 3
   },
   "file_extension": ".py",
   "mimetype": "text/x-python",
   "name": "python",
   "nbconvert_exporter": "python",
   "pygments_lexer": "ipython3",
   "version": "3.7.5"
  }
 },
 "nbformat": 4,
 "nbformat_minor": 4
}
